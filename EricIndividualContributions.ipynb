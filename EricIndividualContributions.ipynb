{
  "cells": [
    {
      "cell_type": "code",
      "execution_count": null,
      "metadata": {
        "colab": {
          "base_uri": "https://localhost:8080/"
        },
        "id": "96xslLnaNYZY",
        "outputId": "c86e707d-a278-41da-efd8-4b360c41659d"
      },
      "outputs": [
        {
          "output_type": "stream",
          "name": "stdout",
          "text": [
            "Mounted at /content/drive\n"
          ]
        }
      ],
      "source": [
        "from google.colab import drive\n",
        "#Data can be found here if you do not already own it: https://drive.google.com/drive/folders/1iyb8cPw-_7MJyH3rxiAb3K13NIpyzGs3?usp=sharing\n",
        "drive.mount('/content/drive')"
      ]
    },
    {
      "cell_type": "code",
      "execution_count": null,
      "metadata": {
        "colab": {
          "base_uri": "https://localhost:8080/"
        },
        "id": "evihSdFUzQ_d",
        "outputId": "176f195e-d51d-4798-8689-e7b7913afcc0"
      },
      "outputs": [
        {
          "output_type": "stream",
          "name": "stdout",
          "text": [
            "openjdk version \"11.0.17\" 2022-10-18\n",
            "OpenJDK Runtime Environment (build 11.0.17+8-post-Ubuntu-1ubuntu218.04)\n",
            "OpenJDK 64-Bit Server VM (build 11.0.17+8-post-Ubuntu-1ubuntu218.04, mixed mode, sharing)\n",
            "Looking in indexes: https://pypi.org/simple, https://us-python.pkg.dev/colab-wheels/public/simple/\n",
            "Collecting spotipy\n",
            "  Downloading spotipy-2.22.0-py3-none-any.whl (28 kB)\n",
            "Collecting urllib3>=1.26.0\n",
            "  Downloading urllib3-1.26.13-py2.py3-none-any.whl (140 kB)\n",
            "\u001b[K     |████████████████████████████████| 140 kB 45.2 MB/s \n",
            "\u001b[?25hCollecting redis>=3.5.3\n",
            "  Downloading redis-4.4.0-py3-none-any.whl (236 kB)\n",
            "\u001b[K     |████████████████████████████████| 236 kB 62.5 MB/s \n",
            "\u001b[?25hCollecting requests>=2.25.0\n",
            "  Downloading requests-2.28.1-py3-none-any.whl (62 kB)\n",
            "\u001b[K     |████████████████████████████████| 62 kB 1.4 MB/s \n",
            "\u001b[?25hRequirement already satisfied: six>=1.15.0 in /usr/local/lib/python3.8/dist-packages (from spotipy) (1.15.0)\n",
            "Requirement already satisfied: async-timeout>=4.0.2 in /usr/local/lib/python3.8/dist-packages (from redis>=3.5.3->spotipy) (4.0.2)\n",
            "Requirement already satisfied: charset-normalizer<3,>=2 in /usr/local/lib/python3.8/dist-packages (from requests>=2.25.0->spotipy) (2.1.1)\n",
            "Requirement already satisfied: certifi>=2017.4.17 in /usr/local/lib/python3.8/dist-packages (from requests>=2.25.0->spotipy) (2022.9.24)\n",
            "Requirement already satisfied: idna<4,>=2.5 in /usr/local/lib/python3.8/dist-packages (from requests>=2.25.0->spotipy) (2.10)\n",
            "Installing collected packages: urllib3, requests, redis, spotipy\n",
            "  Attempting uninstall: urllib3\n",
            "    Found existing installation: urllib3 1.24.3\n",
            "    Uninstalling urllib3-1.24.3:\n",
            "      Successfully uninstalled urllib3-1.24.3\n",
            "  Attempting uninstall: requests\n",
            "    Found existing installation: requests 2.23.0\n",
            "    Uninstalling requests-2.23.0:\n",
            "      Successfully uninstalled requests-2.23.0\n",
            "Successfully installed redis-4.4.0 requests-2.28.1 spotipy-2.22.0 urllib3-1.26.13\n"
          ]
        }
      ],
      "source": [
        "#Setting up the environment\n",
        "\n",
        "!java -version\n",
        "\n",
        "#Install Spark\n",
        "#download file\n",
        "!wget -q http://apache.osuosl.org/spark/spark-3.3.1/spark-3.3.1-bin-hadoop3.tgz\n",
        "!pip install spotipy\n",
        "#extract the file\n",
        "!tar xf spark-3.3.1-bin-hadoop3.tgz\n",
        "#install findspark package\n",
        "!pip install -q findspark"
      ]
    },
    {
      "cell_type": "code",
      "execution_count": null,
      "metadata": {
        "id": "i0uWl84azQ_h"
      },
      "outputs": [],
      "source": [
        "# \n",
        "\n",
        "import os\n",
        "os.environ[\"SPARK_HOME\"] = \"/content/spark-3.3.1-bin-hadoop3\""
      ]
    },
    {
      "cell_type": "code",
      "execution_count": null,
      "metadata": {
        "id": "GT5ilhBpzQ_j"
      },
      "outputs": [],
      "source": [
        "import findspark\n",
        "findspark.init()\n",
        "\n",
        "# create entry points to spark\n",
        "try:\n",
        "    sc.stop()\n",
        "except:\n",
        "    pass\n",
        "from pyspark import SparkContext, SparkConf\n",
        "from pyspark.sql import SparkSession\n",
        "conf = SparkConf().setAppName(\"FinalProject\").setMaster(\"local[*]\")\n",
        "sc=SparkContext(conf = conf)\n",
        "spark = SparkSession(sparkContext=sc)"
      ]
    },
    {
      "cell_type": "code",
      "execution_count": null,
      "metadata": {
        "colab": {
          "base_uri": "https://localhost:8080/"
        },
        "id": "q1CDZ3gZzQ_l",
        "outputId": "7f21ff09-ba71-47ce-b5d2-46ae345d0ea0"
      },
      "outputs": [
        {
          "output_type": "stream",
          "name": "stdout",
          "text": [
            "took 24.172355890274048 seconds\n"
          ]
        }
      ],
      "source": [
        "# Reading in the directory containing all the JSON files and storing them into\n",
        "# Spark's RDD format\n",
        "\n",
        "import time\n",
        "\n",
        "Filepath = \"/content/drive/MyDrive/BigData/Data/*.json\"\n",
        "\n",
        "start = time.time()\n",
        "\n",
        "# df = spark.read.option(\"multiline\", \"true\").json(Filepath)\n",
        "df = spark.read.option(\"multiline\",\"true\").json(Filepath)\n",
        "end = time.time()\n",
        "total_time = end-start\n",
        "\n",
        "print(\"took \" + str(total_time) + \" seconds\")"
      ]
    },
    {
      "cell_type": "code",
      "execution_count": null,
      "metadata": {
        "colab": {
          "base_uri": "https://localhost:8080/"
        },
        "id": "G48i8Z1lzQ_n",
        "outputId": "0ffb96ba-8d95-4a8f-d05b-b09676a465b9"
      },
      "outputs": [
        {
          "output_type": "stream",
          "name": "stdout",
          "text": [
            "+--------------------+--------------------+\n",
            "|                info|           playlists|\n",
            "+--------------------+--------------------+\n",
            "|{2017-12-03 08:41...|[{false, null, 53...|\n",
            "|{2017-12-03 08:41...|[{true, null, 165...|\n",
            "|{2017-12-03 08:41...|[{false, null, 18...|\n",
            "|{2017-12-03 08:41...|[{false, null, 11...|\n",
            "|{2017-12-03 08:41...|[{false, null, 16...|\n",
            "+--------------------+--------------------+\n",
            "only showing top 5 rows\n",
            "\n",
            "root\n",
            " |-- info: struct (nullable = true)\n",
            " |    |-- generated_on: string (nullable = true)\n",
            " |    |-- slice: string (nullable = true)\n",
            " |    |-- version: string (nullable = true)\n",
            " |-- playlists: array (nullable = true)\n",
            " |    |-- element: struct (containsNull = true)\n",
            " |    |    |-- collaborative: string (nullable = true)\n",
            " |    |    |-- description: string (nullable = true)\n",
            " |    |    |-- duration_ms: long (nullable = true)\n",
            " |    |    |-- modified_at: long (nullable = true)\n",
            " |    |    |-- name: string (nullable = true)\n",
            " |    |    |-- num_albums: long (nullable = true)\n",
            " |    |    |-- num_artists: long (nullable = true)\n",
            " |    |    |-- num_edits: long (nullable = true)\n",
            " |    |    |-- num_followers: long (nullable = true)\n",
            " |    |    |-- num_tracks: long (nullable = true)\n",
            " |    |    |-- pid: long (nullable = true)\n",
            " |    |    |-- tracks: array (nullable = true)\n",
            " |    |    |    |-- element: struct (containsNull = true)\n",
            " |    |    |    |    |-- album_name: string (nullable = true)\n",
            " |    |    |    |    |-- album_uri: string (nullable = true)\n",
            " |    |    |    |    |-- artist_name: string (nullable = true)\n",
            " |    |    |    |    |-- artist_uri: string (nullable = true)\n",
            " |    |    |    |    |-- duration_ms: long (nullable = true)\n",
            " |    |    |    |    |-- pos: long (nullable = true)\n",
            " |    |    |    |    |-- track_name: string (nullable = true)\n",
            " |    |    |    |    |-- track_uri: string (nullable = true)\n",
            "\n"
          ]
        }
      ],
      "source": [
        "# Taking a look at the schema, we see that all of the headers were successfully imported and \n",
        "# we have all of the data we need to begin analyzing\n",
        "#\n",
        "# The format of the JSON files is deeply nested and so we only have two main columns:\n",
        "# (1) info regarding the slice/part of the json files and when it was generated... info that is useless to us\n",
        "# and (2) a column of playlists, which consists of rows of arrays, meaning each row contains multiple playlists\n",
        "# \n",
        "# We will have to flatten and normalize this dataframe first before we can analyze the data\n",
        "\n",
        "df.show(5)\n",
        "df.printSchema()"
      ]
    },
    {
      "cell_type": "code",
      "execution_count": null,
      "metadata": {
        "id": "YdhcNIlhzQ_o"
      },
      "outputs": [],
      "source": []
    },
    {
      "cell_type": "code",
      "execution_count": null,
      "metadata": {
        "colab": {
          "base_uri": "https://localhost:8080/"
        },
        "id": "NQvAdGjAzQ_q",
        "outputId": "3bb7418e-c207-467e-b354-752cbaca966f"
      },
      "outputs": [
        {
          "output_type": "stream",
          "name": "stdout",
          "text": [
            "counting # of playlists...\n"
          ]
        },
        {
          "output_type": "execute_result",
          "data": {
            "text/plain": [
              "17000"
            ]
          },
          "metadata": {},
          "execution_count": 8
        }
      ],
      "source": [
        "from pyspark.sql import functions as F\n",
        "# Here, we've removed the useless info column and exploded the array of playlists so that\n",
        "# each playlist was it's own row. \n",
        "#\n",
        "# To double check, we counted the number of rows (1,000,000 playlists)\n",
        "\n",
        "df = df.select(F.explode(F.col(\"playlists\")).alias(\"playlists\"))\n",
        "#df1.printSchema()\n",
        "#df.show()\n",
        "print(\"counting # of playlists...\")\n",
        "df.count()"
      ]
    },
    {
      "cell_type": "code",
      "execution_count": null,
      "metadata": {
        "colab": {
          "base_uri": "https://localhost:8080/"
        },
        "id": "WqHUycMOzQ_s",
        "outputId": "e03d29d3-edb7-4195-856a-edd976055d30"
      },
      "outputs": [
        {
          "output_type": "stream",
          "name": "stdout",
          "text": [
            "+-------------+-----------+-----------+-----------+-------+----------+-----------+---------+-------------+----------+-----+--------------------+\n",
            "|collaborative|description|duration_ms|modified_at|   name|num_albums|num_artists|num_edits|num_followers|num_tracks|  pid|              tracks|\n",
            "+-------------+-----------+-----------+-----------+-------+----------+-----------+---------+-------------+----------+-----+--------------------+\n",
            "|        false|       null|   53274726| 1501200000|    •••|       157|        114|       95|            4|       227|12000|[{Or Nah (feat. T...|\n",
            "|        false|       null|    3404199| 1434153600|Nite...|        12|         11|        9|            1|        14|12001|[{The Piano Guys,...|\n",
            "|         true|       null|   10800737| 1478822400|    SOS|        43|         40|       16|            1|        46|12002|[{Stories, spotif...|\n",
            "+-------------+-----------+-----------+-----------+-------+----------+-----------+---------+-------------+----------+-----+--------------------+\n",
            "only showing top 3 rows\n",
            "\n",
            "root\n",
            " |-- collaborative: string (nullable = true)\n",
            " |-- description: string (nullable = true)\n",
            " |-- duration_ms: long (nullable = true)\n",
            " |-- modified_at: long (nullable = true)\n",
            " |-- name: string (nullable = true)\n",
            " |-- num_albums: long (nullable = true)\n",
            " |-- num_artists: long (nullable = true)\n",
            " |-- num_edits: long (nullable = true)\n",
            " |-- num_followers: long (nullable = true)\n",
            " |-- num_tracks: long (nullable = true)\n",
            " |-- pid: long (nullable = true)\n",
            " |-- tracks: array (nullable = true)\n",
            " |    |-- element: struct (containsNull = true)\n",
            " |    |    |-- album_name: string (nullable = true)\n",
            " |    |    |-- album_uri: string (nullable = true)\n",
            " |    |    |-- artist_name: string (nullable = true)\n",
            " |    |    |-- artist_uri: string (nullable = true)\n",
            " |    |    |-- duration_ms: long (nullable = true)\n",
            " |    |    |-- pos: long (nullable = true)\n",
            " |    |    |-- track_name: string (nullable = true)\n",
            " |    |    |-- track_uri: string (nullable = true)\n",
            "\n"
          ]
        }
      ],
      "source": [
        "# Here we take the \"playlists\" column exploded from earlier and select every column to be mapped to its proper header\n",
        "# \n",
        "# We can now work with the playlists data to analyze, calculate, and answer questions.\n",
        "\n",
        "df = df.select(\"playlists.*\") #TODO: change * to only columns that we need to speed up operation times\n",
        "df.show(3)\n",
        "df.printSchema()\n"
      ]
    },
    {
      "cell_type": "code",
      "source": [
        "topPlaylistsDF = df.orderBy(['num_followers'], ascending=[False])\n",
        "topPlaylistsDF.show(5)"
      ],
      "metadata": {
        "colab": {
          "base_uri": "https://localhost:8080/"
        },
        "id": "Lya876hnPerS",
        "outputId": "7723beb4-8849-45d5-d7ad-db962f057dc6"
      },
      "execution_count": null,
      "outputs": [
        {
          "output_type": "stream",
          "name": "stdout",
          "text": [
            "+-------------+--------------------+-----------+-----------+-----------+----------+-----------+---------+-------------+----------+-----+--------------------+\n",
            "|collaborative|         description|duration_ms|modified_at|       name|num_albums|num_artists|num_edits|num_followers|num_tracks|  pid|              tracks|\n",
            "+-------------+--------------------+-----------+-----------+-----------+----------+-----------+---------+-------------+----------+-----+--------------------+\n",
            "|        false|All that pop good...|   11005740| 1501804800|    TOP POP|        46|         41|        2|        15842|        52| 7215|[{Fetish (feat. G...|\n",
            "|        false|Each week we'll b...|   11765108| 1509321600|Now Playing|        47|         46|       14|         2699|        50| 2957|[{Baltimore (Sky ...|\n",
            "|        false|                null|   15112167| 1499040000|    Tangled|        37|         59|       15|         1038|        81|  765|[{Tangled, spotif...|\n",
            "|        false|                null|    4879225| 1503532800|     august|        22|         22|       15|          307|        23|14010|[{Stay Lonely, sp...|\n",
            "|        false|                null|   18854408| 1500249600| meditation|        10|          6|        4|          128|        53| 4960|[{Radiance, spoti...|\n",
            "+-------------+--------------------+-----------+-----------+-----------+----------+-----------+---------+-------------+----------+-----+--------------------+\n",
            "only showing top 5 rows\n",
            "\n"
          ]
        }
      ]
    },
    {
      "cell_type": "code",
      "execution_count": null,
      "metadata": {
        "colab": {
          "base_uri": "https://localhost:8080/"
        },
        "id": "IUnR56m6zQ_s",
        "outputId": "f500351d-5705-4631-c822-811722fd8f16"
      },
      "outputs": [
        {
          "output_type": "stream",
          "name": "stdout",
          "text": [
            "+--------------------+-------------+--------------------+-----------+--------------------+\n",
            "|          album_name|  artist_name|          track_name|duration_ms|           track_uri|\n",
            "+--------------------+-------------+--------------------+-----------+--------------------+\n",
            "|Or Nah (feat. The...|Ty Dolla $ign|Or Nah (feat. The...|     242983|spotify:track:7t2...|\n",
            "|             Trilogy|   The Weeknd|        Wicked Games|     323746|spotify:track:6Vw...|\n",
            "|Mind Of Mine (Del...|         ZAYN|               wRoNg|     212746|spotify:track:7iC...|\n",
            "|Mind Of Mine (Del...|         ZAYN|                 TiO|     178693|spotify:track:7jK...|\n",
            "|If You're Reading...|        Drake|              Legend|     241853|spotify:track:1ID...|\n",
            "|              Forbes|       G-Eazy|              Forbes|     206315|spotify:track:31R...|\n",
            "|What A Time To Be...|        Drake|             Jumpman|     205879|spotify:track:27G...|\n",
            "|           SremmLife| Rae Sremmurd|        Come Get Her|     212946|spotify:track:1Se...|\n",
            "|Who Wanna Play (f...|     Low Pros|Who Wanna Play (f...|     224323|spotify:track:2DN...|\n",
            "|LONG.LIVE.A$AP (D...|   A$AP Rocky|  Wild for the Night|     212640|spotify:track:2rz...|\n",
            "+--------------------+-------------+--------------------+-----------+--------------------+\n",
            "only showing top 10 rows\n",
            "\n"
          ]
        },
        {
          "output_type": "execute_result",
          "data": {
            "text/plain": [
              "1130751"
            ]
          },
          "metadata": {},
          "execution_count": 11
        }
      ],
      "source": [
        "# Here we isolate the tracks column, which has a lot of information about the tracks nested inside arrays\n",
        "# we explode it and only select the columns that we are interested in looking at...\n",
        "\n",
        "df_tracks = df.select(\"tracks\")\n",
        "df_tracks = df_tracks.select(F.explode(F.col(\"tracks\")).alias(\"tracks\"))\n",
        "df_tracks = df_tracks.select(\"tracks.album_name\", \"tracks.artist_name\", \"tracks.track_name\", \"tracks.duration_ms\", \"tracks.track_uri\")\n",
        "#df_tracks = df_tracks.select(\"tracks.album_name\", \"tracks.artist_name\", \"tracks.track_name\", \"tracks.track_uri\")\n",
        "df_tracks.show(10)\n",
        "df_tracks.count()"
      ]
    },
    {
      "cell_type": "markdown",
      "metadata": {
        "id": "VUwat4kHzQ_u"
      },
      "source": [
        "# Track Analysis\n",
        "---"
      ]
    },
    {
      "cell_type": "code",
      "execution_count": null,
      "metadata": {
        "colab": {
          "base_uri": "https://localhost:8080/"
        },
        "id": "AOJUDuvSzQ_w",
        "outputId": "5dc87369-7989-45dc-b3e7-446532fcb44a"
      },
      "outputs": [
        {
          "output_type": "stream",
          "name": "stdout",
          "text": [
            "+-----------------+-----+\n",
            "|      artist_name|count|\n",
            "+-----------------+-----+\n",
            "|            Drake|14043|\n",
            "|       Kanye West| 6824|\n",
            "|   Kendrick Lamar| 5670|\n",
            "|          Rihanna| 5493|\n",
            "|       The Weeknd| 5079|\n",
            "|       Ed Sheeran| 4584|\n",
            "|           Eminem| 4548|\n",
            "|           Future| 4334|\n",
            "|          Beyoncé| 4172|\n",
            "| The Chainsmokers| 4047|\n",
            "|          J. Cole| 3862|\n",
            "|    Justin Bieber| 3719|\n",
            "|      Chris Brown| 3488|\n",
            "|Twenty One Pilots| 3428|\n",
            "|     Lil Uzi Vert| 3396|\n",
            "|    Calvin Harris| 3345|\n",
            "|       Luke Bryan| 3332|\n",
            "|         Maroon 5| 3291|\n",
            "|         Big Sean| 3189|\n",
            "|           G-Eazy| 3179|\n",
            "+-----------------+-----+\n",
            "only showing top 20 rows\n",
            "\n"
          ]
        }
      ],
      "source": [
        " # Q1: Who were the most popular artists in 2010-2017 in users' playlists?\n",
        "\n",
        "df_tracks.groupBy(\"artist_name\").count().orderBy(['count'], ascending=[False]).show()\n",
        "\n",
        "# TODO: Find % of playlists with drake, kanye or kendrick in them... this is just the count of how many times they appear"
      ]
    },
    {
      "cell_type": "code",
      "execution_count": null,
      "metadata": {
        "colab": {
          "base_uri": "https://localhost:8080/",
          "height": 851
        },
        "id": "JRFhB-uhzQ_x",
        "outputId": "27d6626e-a610-4fdd-9542-2e3c6217f3a6"
      },
      "outputs": [
        {
          "output_type": "display_data",
          "data": {
            "text/plain": [
              "                                 Song By Artist  count\n",
              "0                     HUMBLE. By Kendrick Lamar    772\n",
              "1                    Closer By The Chainsmokers    756\n",
              "2                            One Dance By Drake    699\n",
              "3           Broccoli (feat. Lil Yachty) By DRAM    683\n",
              "4                Congratulations By Post Malone    638\n",
              "5                             Caroline By Aminé    618\n",
              "6  Bad and Boujee (feat. Lil Uzi Vert) By Migos    573\n",
              "7               iSpy (feat. Lil Yachty) By KYLE    572\n",
              "8                     Roses By The Chainsmokers    566\n",
              "9                 XO TOUR Llif3 By Lil Uzi Vert    566"
            ],
            "text/html": [
              "\n",
              "  <div id=\"df-8c3e0db4-2d47-455f-91c2-d90d57b098dd\">\n",
              "    <div class=\"colab-df-container\">\n",
              "      <div>\n",
              "<style scoped>\n",
              "    .dataframe tbody tr th:only-of-type {\n",
              "        vertical-align: middle;\n",
              "    }\n",
              "\n",
              "    .dataframe tbody tr th {\n",
              "        vertical-align: top;\n",
              "    }\n",
              "\n",
              "    .dataframe thead th {\n",
              "        text-align: right;\n",
              "    }\n",
              "</style>\n",
              "<table border=\"1\" class=\"dataframe\">\n",
              "  <thead>\n",
              "    <tr style=\"text-align: right;\">\n",
              "      <th></th>\n",
              "      <th>Song By Artist</th>\n",
              "      <th>count</th>\n",
              "    </tr>\n",
              "  </thead>\n",
              "  <tbody>\n",
              "    <tr>\n",
              "      <th>0</th>\n",
              "      <td>HUMBLE. By Kendrick Lamar</td>\n",
              "      <td>772</td>\n",
              "    </tr>\n",
              "    <tr>\n",
              "      <th>1</th>\n",
              "      <td>Closer By The Chainsmokers</td>\n",
              "      <td>756</td>\n",
              "    </tr>\n",
              "    <tr>\n",
              "      <th>2</th>\n",
              "      <td>One Dance By Drake</td>\n",
              "      <td>699</td>\n",
              "    </tr>\n",
              "    <tr>\n",
              "      <th>3</th>\n",
              "      <td>Broccoli (feat. Lil Yachty) By DRAM</td>\n",
              "      <td>683</td>\n",
              "    </tr>\n",
              "    <tr>\n",
              "      <th>4</th>\n",
              "      <td>Congratulations By Post Malone</td>\n",
              "      <td>638</td>\n",
              "    </tr>\n",
              "    <tr>\n",
              "      <th>5</th>\n",
              "      <td>Caroline By Aminé</td>\n",
              "      <td>618</td>\n",
              "    </tr>\n",
              "    <tr>\n",
              "      <th>6</th>\n",
              "      <td>Bad and Boujee (feat. Lil Uzi Vert) By Migos</td>\n",
              "      <td>573</td>\n",
              "    </tr>\n",
              "    <tr>\n",
              "      <th>7</th>\n",
              "      <td>iSpy (feat. Lil Yachty) By KYLE</td>\n",
              "      <td>572</td>\n",
              "    </tr>\n",
              "    <tr>\n",
              "      <th>8</th>\n",
              "      <td>Roses By The Chainsmokers</td>\n",
              "      <td>566</td>\n",
              "    </tr>\n",
              "    <tr>\n",
              "      <th>9</th>\n",
              "      <td>XO TOUR Llif3 By Lil Uzi Vert</td>\n",
              "      <td>566</td>\n",
              "    </tr>\n",
              "  </tbody>\n",
              "</table>\n",
              "</div>\n",
              "      <button class=\"colab-df-convert\" onclick=\"convertToInteractive('df-8c3e0db4-2d47-455f-91c2-d90d57b098dd')\"\n",
              "              title=\"Convert this dataframe to an interactive table.\"\n",
              "              style=\"display:none;\">\n",
              "        \n",
              "  <svg xmlns=\"http://www.w3.org/2000/svg\" height=\"24px\"viewBox=\"0 0 24 24\"\n",
              "       width=\"24px\">\n",
              "    <path d=\"M0 0h24v24H0V0z\" fill=\"none\"/>\n",
              "    <path d=\"M18.56 5.44l.94 2.06.94-2.06 2.06-.94-2.06-.94-.94-2.06-.94 2.06-2.06.94zm-11 1L8.5 8.5l.94-2.06 2.06-.94-2.06-.94L8.5 2.5l-.94 2.06-2.06.94zm10 10l.94 2.06.94-2.06 2.06-.94-2.06-.94-.94-2.06-.94 2.06-2.06.94z\"/><path d=\"M17.41 7.96l-1.37-1.37c-.4-.4-.92-.59-1.43-.59-.52 0-1.04.2-1.43.59L10.3 9.45l-7.72 7.72c-.78.78-.78 2.05 0 2.83L4 21.41c.39.39.9.59 1.41.59.51 0 1.02-.2 1.41-.59l7.78-7.78 2.81-2.81c.8-.78.8-2.07 0-2.86zM5.41 20L4 18.59l7.72-7.72 1.47 1.35L5.41 20z\"/>\n",
              "  </svg>\n",
              "      </button>\n",
              "      \n",
              "  <style>\n",
              "    .colab-df-container {\n",
              "      display:flex;\n",
              "      flex-wrap:wrap;\n",
              "      gap: 12px;\n",
              "    }\n",
              "\n",
              "    .colab-df-convert {\n",
              "      background-color: #E8F0FE;\n",
              "      border: none;\n",
              "      border-radius: 50%;\n",
              "      cursor: pointer;\n",
              "      display: none;\n",
              "      fill: #1967D2;\n",
              "      height: 32px;\n",
              "      padding: 0 0 0 0;\n",
              "      width: 32px;\n",
              "    }\n",
              "\n",
              "    .colab-df-convert:hover {\n",
              "      background-color: #E2EBFA;\n",
              "      box-shadow: 0px 1px 2px rgba(60, 64, 67, 0.3), 0px 1px 3px 1px rgba(60, 64, 67, 0.15);\n",
              "      fill: #174EA6;\n",
              "    }\n",
              "\n",
              "    [theme=dark] .colab-df-convert {\n",
              "      background-color: #3B4455;\n",
              "      fill: #D2E3FC;\n",
              "    }\n",
              "\n",
              "    [theme=dark] .colab-df-convert:hover {\n",
              "      background-color: #434B5C;\n",
              "      box-shadow: 0px 1px 3px 1px rgba(0, 0, 0, 0.15);\n",
              "      filter: drop-shadow(0px 1px 2px rgba(0, 0, 0, 0.3));\n",
              "      fill: #FFFFFF;\n",
              "    }\n",
              "  </style>\n",
              "\n",
              "      <script>\n",
              "        const buttonEl =\n",
              "          document.querySelector('#df-8c3e0db4-2d47-455f-91c2-d90d57b098dd button.colab-df-convert');\n",
              "        buttonEl.style.display =\n",
              "          google.colab.kernel.accessAllowed ? 'block' : 'none';\n",
              "\n",
              "        async function convertToInteractive(key) {\n",
              "          const element = document.querySelector('#df-8c3e0db4-2d47-455f-91c2-d90d57b098dd');\n",
              "          const dataTable =\n",
              "            await google.colab.kernel.invokeFunction('convertToInteractive',\n",
              "                                                     [key], {});\n",
              "          if (!dataTable) return;\n",
              "\n",
              "          const docLinkHtml = 'Like what you see? Visit the ' +\n",
              "            '<a target=\"_blank\" href=https://colab.research.google.com/notebooks/data_table.ipynb>data table notebook</a>'\n",
              "            + ' to learn more about interactive tables.';\n",
              "          element.innerHTML = '';\n",
              "          dataTable['output_type'] = 'display_data';\n",
              "          await google.colab.output.renderOutput(dataTable, element);\n",
              "          const docLink = document.createElement('div');\n",
              "          docLink.innerHTML = docLinkHtml;\n",
              "          element.appendChild(docLink);\n",
              "        }\n",
              "      </script>\n",
              "    </div>\n",
              "  </div>\n",
              "  "
            ]
          },
          "metadata": {}
        },
        {
          "output_type": "execute_result",
          "data": {
            "text/plain": [
              "<matplotlib.axes._subplots.AxesSubplot at 0x7f1238d0d7c0>"
            ]
          },
          "metadata": {},
          "execution_count": 13
        },
        {
          "output_type": "display_data",
          "data": {
            "text/plain": [
              "<Figure size 432x288 with 1 Axes>"
            ],
            "image/png": "[encoded data removed]"
          },
          "metadata": {
            "needs_background": "light"
          }
        }
      ],
      "source": [
        "# Q2: What were the most popular tracks in 2010-2017 in users' playlists?\n",
        "from pyspark.sql.functions import concat,col,lit\n",
        "#df_tracks.show()\n",
        "################\n",
        "\n",
        "###############\n",
        "pandasPopTracks = df_tracks.select(concat(col(\"track_name\"),lit(\" By \"), col(\"artist_name\")).alias(\"Song By Artist\")).groupBy(\"Song By Artist\").count().orderBy(['count'], ascending=[False]).toPandas().head(10)\n",
        "display(pandasPopTracks)\n",
        "pandasPopTracks.plot(x=\"Song By Artist\", y=\"count\", kind=\"bar\")"
      ]
    },
    {
      "cell_type": "code",
      "execution_count": null,
      "metadata": {
        "colab": {
          "base_uri": "https://localhost:8080/"
        },
        "id": "CzH_w6dZzQ_z",
        "outputId": "038f7971-0f2a-4def-cc8b-e2d04c375602"
      },
      "outputs": [
        {
          "output_type": "stream",
          "name": "stdout",
          "text": [
            "+-----------------+-----------------+-----------------+\n",
            "|Avg Song Duration|Max Song Duration|Min Song Duration|\n",
            "+-----------------+-----------------+-----------------+\n",
            "|3.909505777148697|87.99613333333333|              0.0|\n",
            "+-----------------+-----------------+-----------------+\n",
            "\n"
          ]
        }
      ],
      "source": [
        "# Q3: What is the average song duration? What is the longest song? Shortest?\n",
        "\n",
        "# TODO: convert avg song to mm:ss\n",
        "# TODO: filter -1/0 values from duration_ms\n",
        "# TODO: investigate why max song is so high\n",
        "\n",
        "df_tracks.select((F.avg(\"duration_ms\")/60000).alias(\"Avg Song Duration\"), \\\n",
        "                 (F.max(\"duration_ms\")/60000).alias(\"Max Song Duration\"), \\\n",
        "                 (F.min(\"duration_ms\")/60000).alias(\"Min Song Duration\")).show()"
      ]
    },
    {
      "cell_type": "markdown",
      "metadata": {
        "id": "DJhhn0fmzQ_0"
      },
      "source": [
        "# Playlist Analysis\n",
        "---"
      ]
    },
    {
      "cell_type": "code",
      "execution_count": null,
      "metadata": {
        "id": "pFFOFkGmzQ_0"
      },
      "outputs": [],
      "source": [
        "df_playlists = df.select(\"pid\", \"name\", \"description\", \"num_tracks\", \"num_artists\", \"num_albums\", \"duration_ms\", \"tracks\")"
      ]
    },
    {
      "cell_type": "code",
      "execution_count": null,
      "metadata": {
        "colab": {
          "base_uri": "https://localhost:8080/",
          "height": 674
        },
        "id": "kz01IuWbzQ_1",
        "outputId": "35d29f24-9c6e-4e0b-f44d-d9c1805f483b"
      },
      "outputs": [
        {
          "output_type": "display_data",
          "data": {
            "text/plain": [
              "       name  count\n",
              "0   Country    631\n",
              "1     Chill    474\n",
              "2     Music    424\n",
              "3    Summer    338\n",
              "4     Songs    333\n",
              "5      Rock    309\n",
              "6      Good    297\n",
              "7     Party    279\n",
              "8  Playlist    271\n",
              "9   Workout    247"
            ],
            "text/html": [
              "\n",
              "  <div id=\"df-6f6c84d0-b030-4071-ae8e-634bff5d7b85\">\n",
              "    <div class=\"colab-df-container\">\n",
              "      <div>\n",
              "<style scoped>\n",
              "    .dataframe tbody tr th:only-of-type {\n",
              "        vertical-align: middle;\n",
              "    }\n",
              "\n",
              "    .dataframe tbody tr th {\n",
              "        vertical-align: top;\n",
              "    }\n",
              "\n",
              "    .dataframe thead th {\n",
              "        text-align: right;\n",
              "    }\n",
              "</style>\n",
              "<table border=\"1\" class=\"dataframe\">\n",
              "  <thead>\n",
              "    <tr style=\"text-align: right;\">\n",
              "      <th></th>\n",
              "      <th>name</th>\n",
              "      <th>count</th>\n",
              "    </tr>\n",
              "  </thead>\n",
              "  <tbody>\n",
              "    <tr>\n",
              "      <th>0</th>\n",
              "      <td>Country</td>\n",
              "      <td>631</td>\n",
              "    </tr>\n",
              "    <tr>\n",
              "      <th>1</th>\n",
              "      <td>Chill</td>\n",
              "      <td>474</td>\n",
              "    </tr>\n",
              "    <tr>\n",
              "      <th>2</th>\n",
              "      <td>Music</td>\n",
              "      <td>424</td>\n",
              "    </tr>\n",
              "    <tr>\n",
              "      <th>3</th>\n",
              "      <td>Summer</td>\n",
              "      <td>338</td>\n",
              "    </tr>\n",
              "    <tr>\n",
              "      <th>4</th>\n",
              "      <td>Songs</td>\n",
              "      <td>333</td>\n",
              "    </tr>\n",
              "    <tr>\n",
              "      <th>5</th>\n",
              "      <td>Rock</td>\n",
              "      <td>309</td>\n",
              "    </tr>\n",
              "    <tr>\n",
              "      <th>6</th>\n",
              "      <td>Good</td>\n",
              "      <td>297</td>\n",
              "    </tr>\n",
              "    <tr>\n",
              "      <th>7</th>\n",
              "      <td>Party</td>\n",
              "      <td>279</td>\n",
              "    </tr>\n",
              "    <tr>\n",
              "      <th>8</th>\n",
              "      <td>Playlist</td>\n",
              "      <td>271</td>\n",
              "    </tr>\n",
              "    <tr>\n",
              "      <th>9</th>\n",
              "      <td>Workout</td>\n",
              "      <td>247</td>\n",
              "    </tr>\n",
              "  </tbody>\n",
              "</table>\n",
              "</div>\n",
              "      <button class=\"colab-df-convert\" onclick=\"convertToInteractive('df-6f6c84d0-b030-4071-ae8e-634bff5d7b85')\"\n",
              "              title=\"Convert this dataframe to an interactive table.\"\n",
              "              style=\"display:none;\">\n",
              "        \n",
              "  <svg xmlns=\"http://www.w3.org/2000/svg\" height=\"24px\"viewBox=\"0 0 24 24\"\n",
              "       width=\"24px\">\n",
              "    <path d=\"M0 0h24v24H0V0z\" fill=\"none\"/>\n",
              "    <path d=\"M18.56 5.44l.94 2.06.94-2.06 2.06-.94-2.06-.94-.94-2.06-.94 2.06-2.06.94zm-11 1L8.5 8.5l.94-2.06 2.06-.94-2.06-.94L8.5 2.5l-.94 2.06-2.06.94zm10 10l.94 2.06.94-2.06 2.06-.94-2.06-.94-.94-2.06-.94 2.06-2.06.94z\"/><path d=\"M17.41 7.96l-1.37-1.37c-.4-.4-.92-.59-1.43-.59-.52 0-1.04.2-1.43.59L10.3 9.45l-7.72 7.72c-.78.78-.78 2.05 0 2.83L4 21.41c.39.39.9.59 1.41.59.51 0 1.02-.2 1.41-.59l7.78-7.78 2.81-2.81c.8-.78.8-2.07 0-2.86zM5.41 20L4 18.59l7.72-7.72 1.47 1.35L5.41 20z\"/>\n",
              "  </svg>\n",
              "      </button>\n",
              "      \n",
              "  <style>\n",
              "    .colab-df-container {\n",
              "      display:flex;\n",
              "      flex-wrap:wrap;\n",
              "      gap: 12px;\n",
              "    }\n",
              "\n",
              "    .colab-df-convert {\n",
              "      background-color: #E8F0FE;\n",
              "      border: none;\n",
              "      border-radius: 50%;\n",
              "      cursor: pointer;\n",
              "      display: none;\n",
              "      fill: #1967D2;\n",
              "      height: 32px;\n",
              "      padding: 0 0 0 0;\n",
              "      width: 32px;\n",
              "    }\n",
              "\n",
              "    .colab-df-convert:hover {\n",
              "      background-color: #E2EBFA;\n",
              "      box-shadow: 0px 1px 2px rgba(60, 64, 67, 0.3), 0px 1px 3px 1px rgba(60, 64, 67, 0.15);\n",
              "      fill: #174EA6;\n",
              "    }\n",
              "\n",
              "    [theme=dark] .colab-df-convert {\n",
              "      background-color: #3B4455;\n",
              "      fill: #D2E3FC;\n",
              "    }\n",
              "\n",
              "    [theme=dark] .colab-df-convert:hover {\n",
              "      background-color: #434B5C;\n",
              "      box-shadow: 0px 1px 3px 1px rgba(0, 0, 0, 0.15);\n",
              "      filter: drop-shadow(0px 1px 2px rgba(0, 0, 0, 0.3));\n",
              "      fill: #FFFFFF;\n",
              "    }\n",
              "  </style>\n",
              "\n",
              "      <script>\n",
              "        const buttonEl =\n",
              "          document.querySelector('#df-6f6c84d0-b030-4071-ae8e-634bff5d7b85 button.colab-df-convert');\n",
              "        buttonEl.style.display =\n",
              "          google.colab.kernel.accessAllowed ? 'block' : 'none';\n",
              "\n",
              "        async function convertToInteractive(key) {\n",
              "          const element = document.querySelector('#df-6f6c84d0-b030-4071-ae8e-634bff5d7b85');\n",
              "          const dataTable =\n",
              "            await google.colab.kernel.invokeFunction('convertToInteractive',\n",
              "                                                     [key], {});\n",
              "          if (!dataTable) return;\n",
              "\n",
              "          const docLinkHtml = 'Like what you see? Visit the ' +\n",
              "            '<a target=\"_blank\" href=https://colab.research.google.com/notebooks/data_table.ipynb>data table notebook</a>'\n",
              "            + ' to learn more about interactive tables.';\n",
              "          element.innerHTML = '';\n",
              "          dataTable['output_type'] = 'display_data';\n",
              "          await google.colab.output.renderOutput(dataTable, element);\n",
              "          const docLink = document.createElement('div');\n",
              "          docLink.innerHTML = docLinkHtml;\n",
              "          element.appendChild(docLink);\n",
              "        }\n",
              "      </script>\n",
              "    </div>\n",
              "  </div>\n",
              "  "
            ]
          },
          "metadata": {}
        },
        {
          "output_type": "execute_result",
          "data": {
            "text/plain": [
              "<matplotlib.axes._subplots.AxesSubplot at 0x7f1238e18cd0>"
            ]
          },
          "metadata": {},
          "execution_count": 16
        },
        {
          "output_type": "display_data",
          "data": {
            "text/plain": [
              "<Figure size 432x288 with 1 Axes>"
            ],
            "image/png": "[encoded data removed]"
          },
          "metadata": {
            "needs_background": "light"
          }
        }
      ],
      "source": [
        "# Q1: What is the most common word in the playlist name?\n",
        "\n",
        "pandasPlaylists = df_playlists.withColumn('name', F.explode(F.split(F.initcap(F.col('name')), ' '))) \\\n",
        "  .where(F.col('name') != '') \\\n",
        "  .groupBy('name') \\\n",
        "  .count() \\\n",
        "  .sort('count', ascending=False)\\\n",
        "  .toPandas()\n",
        "display(pandasPlaylists.head(10))\n",
        "\n",
        "pandasPlaylists.head(10).plot(x=\"name\", y=\"count\", kind=\"bar\")\n",
        "\n",
        "\n",
        "  "
      ]
    },
    {
      "cell_type": "code",
      "execution_count": null,
      "metadata": {
        "colab": {
          "base_uri": "https://localhost:8080/"
        },
        "id": "Rv-bnSjWzQ_2",
        "outputId": "87d23e7a-5290-4d06-bbe7-2a4cb6762691"
      },
      "outputs": [
        {
          "output_type": "stream",
          "name": "stdout",
          "text": [
            "+-----------+-----+\n",
            "|description|count|\n",
            "+-----------+-----+\n",
            "|        the|   65|\n",
            "|         to|   55|\n",
            "|         of|   51|\n",
            "|        and|   44|\n",
            "|          a|   41|\n",
            "|      songs|   38|\n",
            "|        you|   38|\n",
            "|        for|   34|\n",
            "|       that|   29|\n",
            "|         in|   25|\n",
            "|       this|   24|\n",
            "|         is|   22|\n",
            "|         :)|   22|\n",
            "|          I|   20|\n",
            "|       from|   18|\n",
            "|          i|   18|\n",
            "|         my|   17|\n",
            "|   playlist|   16|\n",
            "|       some|   16|\n",
            "|         it|   16|\n",
            "+-----------+-----+\n",
            "only showing top 20 rows\n",
            "\n"
          ]
        }
      ],
      "source": [
        "# Q2: What is the most common word in the playlist description?\n",
        "\n",
        "df_playlists.withColumn('description', F.explode(F.split(F.col('description'), ' '))) \\\n",
        "  .groupBy('description') \\\n",
        "  .count() \\\n",
        "  .sort('count', ascending=False) \\\n",
        "  .show()"
      ]
    },
    {
      "cell_type": "code",
      "execution_count": null,
      "metadata": {
        "colab": {
          "base_uri": "https://localhost:8080/"
        },
        "id": "Tsw0K76gzQ_3",
        "outputId": "b1753ebf-2694-43d8-e75e-613d27cc0432"
      },
      "outputs": [
        {
          "output_type": "stream",
          "name": "stdout",
          "text": [
            "+--------+-----+\n",
            "|   words|count|\n",
            "+--------+-----+\n",
            "|   songs|   38|\n",
            "|      :)|   22|\n",
            "|playlist|   16|\n",
            "|   music|   15|\n",
            "|    love|   14|\n",
            "|  listen|   14|\n",
            "|     new|   10|\n",
            "|    good|   10|\n",
            "|    will|    9|\n",
            "|    know|    9|\n",
            "|        |    8|\n",
            "|   Songs|    8|\n",
            "|    best|    8|\n",
            "|    make|    7|\n",
            "|favorite|    7|\n",
            "|      up|    7|\n",
            "|      as|    7|\n",
            "|   Music|    6|\n",
            "|    This|    6|\n",
            "|      am|    6|\n",
            "+--------+-----+\n",
            "only showing top 20 rows\n",
            "\n"
          ]
        }
      ],
      "source": [
        "# The most common words are not really useful here in the description,\n",
        "# So some filtering must be done to remove the common word and find common KEY words\n",
        "\n",
        "# TODO: Add more filters or find a way to add values into array and filter by that\n",
        "\n",
        "pl_clean_description = df_playlists.withColumn('words', F.explode(F.split(F.col('description'), ' '))) \\\n",
        "  .groupBy('words') \\\n",
        "  .count() \\\n",
        "  .filter((F.col(\"words\") != \"the\") & (F.col(\"words\") != \"to\") & (F.col(\"words\") != \" \") & (F.col(\"words\") != \"and\") &\\\n",
        "          (F.col(\"words\") != \"of\") & (F.col(\"words\") != \"a\") & (F.col(\"words\") != \"for\") & (F.col(\"words\") != \"you\") &\\\n",
        "          (F.col(\"words\") != \"that\") & (F.col(\"words\") != \"in\") & (F.col(\"words\") != \"my\") & (F.col(\"words\") != \"I\") &\\\n",
        "          (F.col(\"words\") != \"is\") & (F.col(\"words\") != \"this\") & (F.col(\"words\") != \"i\") & (F.col(\"words\") != \"your\")&\\\n",
        "          (F.col(\"words\") != \"with\") & (F.col(\"words\") != \"from\") & (F.col(\"words\") != \"all\") & (F.col(\"words\") != \"me\")&\\\n",
        "          (F.col(\"words\") != \"some\") & (F.col(\"words\") != \"on\") & (F.col(\"words\") != \"when\") & (F.col(\"words\") != \"it\")&\\\n",
        "          (F.col(\"words\") != \"just\") & (F.col(\"words\") != \"like\") & (F.col(\"words\") != \"are\") & (F.col(\"words\") != \"or\")&\\\n",
        "          (F.col(\"words\") != \"The\") & (F.col(\"words\") != \"be\") & (F.col(\"words\") != \" \") & (F.col(\"words\") != \"A\")&\\\n",
        "          (F.col(\"words\") != \"have\") & (F.col(\"words\") != \"at\") & (F.col(\"words\") != \"these\") & (F.col(\"words\") != \"I\") &\\\n",
        "          (F.col(\"words\") != \"that\") & (F.col(\"words\") != \"in\") & (F.col(\"words\") != \"my\") & (F.col(\"words\") != \"I\") &\\\n",
        "          (F.col(\"words\") != \"but\") & (F.col(\"words\") != \"get\") & (F.col(\"words\") != \"by\") & (F.col(\"words\") != \"not\")) \\\n",
        "  .sort('count', ascending=False) \\\n",
        "  \n",
        "pl_clean_description.show()"
      ]
    },
    {
      "cell_type": "code",
      "execution_count": null,
      "metadata": {
        "id": "H2-nq_sIzQ_4"
      },
      "outputs": [],
      "source": [
        "#list_of_genres = {\"pop\", \"rock\", \"hip hop\", \"latin\", \"dance\", \"edm\", \"r&b\", \"country\", \"classical\", \"metal\", \"jazz\"}"
      ]
    },
    {
      "cell_type": "code",
      "execution_count": null,
      "metadata": {
        "colab": {
          "base_uri": "https://localhost:8080/"
        },
        "id": "HAXxtr1JzQ_4",
        "outputId": "58dcefd1-738c-4196-d7b5-bc8aa1f07e4d"
      },
      "outputs": [
        {
          "output_type": "stream",
          "name": "stdout",
          "text": [
            "+---------------------+---------------------+---------------------+\n",
            "|Avg Playlist Duration|Max Playlist Duration|Min Playlist Duration|\n",
            "+---------------------+---------------------+---------------------+\n",
            "|   260.03985688333336|   1389.1788333333334|   11.996133333333333|\n",
            "+---------------------+---------------------+---------------------+\n",
            "\n"
          ]
        }
      ],
      "source": [
        "# Q3: What is the average playlist duration? Is there a maximum duration to a playlist? min?\n",
        "\n",
        "df_playlists.select((F.avg(\"duration_ms\")/60000).alias(\"Avg Playlist Duration\"), \\\n",
        "                    (F.max(\"duration_ms\")/60000).alias(\"Max Playlist Duration\"), \\\n",
        "                    (F.min(\"duration_ms\")/60000).alias(\"Min Playlist Duration\")).show()"
      ]
    },
    {
      "cell_type": "code",
      "execution_count": null,
      "metadata": {
        "colab": {
          "base_uri": "https://localhost:8080/"
        },
        "id": "CejoRBWGzQ_5",
        "outputId": "bba22e9a-11f7-41ee-b7d8-5a2cc69c817c"
      },
      "outputs": [
        {
          "output_type": "stream",
          "name": "stdout",
          "text": [
            "+--------------------+--------------------+--------------------+\n",
            "|Avg Number of Tracks|Max Number of Tracks|Min Number of Tracks|\n",
            "+--------------------+--------------------+--------------------+\n",
            "|   66.51476470588236|                 250|                   5|\n",
            "+--------------------+--------------------+--------------------+\n",
            "\n"
          ]
        }
      ],
      "source": [
        "# Q4: What is the average playlist track number? Is there a maximum amount of tracks to a playlist? min?\n",
        "\n",
        "df_playlists.select((F.avg(\"num_tracks\")).alias(\"Avg Number of Tracks\"), \\\n",
        "                    (F.max(\"num_tracks\")).alias(\"Max Number of Tracks\"), \\\n",
        "                    (F.min(\"num_tracks\")).alias(\"Min Number of Tracks\")).show()"
      ]
    },
    {
      "cell_type": "markdown",
      "metadata": {
        "id": "aD4JkTVcrj7Q"
      },
      "source": [
        "Music Recommendation"
      ]
    },
    {
      "cell_type": "code",
      "execution_count": null,
      "metadata": {
        "colab": {
          "base_uri": "https://localhost:8080/",
          "height": 471
        },
        "id": "ds_MqPqgrsT4",
        "outputId": "a4245e3a-0430-4475-cdfe-bf1fa14b7f65"
      },
      "outputs": [
        {
          "output_type": "stream",
          "name": "stdout",
          "text": [
            "User Artists\n"
          ]
        },
        {
          "output_type": "display_data",
          "data": {
            "text/plain": [
              "                artist_name  count\n",
              "0  Forever The Sickest Kids      2\n",
              "1                   Midtown      1\n",
              "2         The Rocket Summer      1\n",
              "3       Panic! At The Disco      1\n",
              "4            Cobra Starship      1"
            ],
            "text/html": [
              "\n",
              "  <div id=\"df-fbcb2bc3-4d89-4c83-ba96-996b174a84b5\">\n",
              "    <div class=\"colab-df-container\">\n",
              "      <div>\n",
              "<style scoped>\n",
              "    .dataframe tbody tr th:only-of-type {\n",
              "        vertical-align: middle;\n",
              "    }\n",
              "\n",
              "    .dataframe tbody tr th {\n",
              "        vertical-align: top;\n",
              "    }\n",
              "\n",
              "    .dataframe thead th {\n",
              "        text-align: right;\n",
              "    }\n",
              "</style>\n",
              "<table border=\"1\" class=\"dataframe\">\n",
              "  <thead>\n",
              "    <tr style=\"text-align: right;\">\n",
              "      <th></th>\n",
              "      <th>artist_name</th>\n",
              "      <th>count</th>\n",
              "    </tr>\n",
              "  </thead>\n",
              "  <tbody>\n",
              "    <tr>\n",
              "      <th>0</th>\n",
              "      <td>Forever The Sickest Kids</td>\n",
              "      <td>2</td>\n",
              "    </tr>\n",
              "    <tr>\n",
              "      <th>1</th>\n",
              "      <td>Midtown</td>\n",
              "      <td>1</td>\n",
              "    </tr>\n",
              "    <tr>\n",
              "      <th>2</th>\n",
              "      <td>The Rocket Summer</td>\n",
              "      <td>1</td>\n",
              "    </tr>\n",
              "    <tr>\n",
              "      <th>3</th>\n",
              "      <td>Panic! At The Disco</td>\n",
              "      <td>1</td>\n",
              "    </tr>\n",
              "    <tr>\n",
              "      <th>4</th>\n",
              "      <td>Cobra Starship</td>\n",
              "      <td>1</td>\n",
              "    </tr>\n",
              "  </tbody>\n",
              "</table>\n",
              "</div>\n",
              "      <button class=\"colab-df-convert\" onclick=\"convertToInteractive('df-fbcb2bc3-4d89-4c83-ba96-996b174a84b5')\"\n",
              "              title=\"Convert this dataframe to an interactive table.\"\n",
              "              style=\"display:none;\">\n",
              "        \n",
              "  <svg xmlns=\"http://www.w3.org/2000/svg\" height=\"24px\"viewBox=\"0 0 24 24\"\n",
              "       width=\"24px\">\n",
              "    <path d=\"M0 0h24v24H0V0z\" fill=\"none\"/>\n",
              "    <path d=\"M18.56 5.44l.94 2.06.94-2.06 2.06-.94-2.06-.94-.94-2.06-.94 2.06-2.06.94zm-11 1L8.5 8.5l.94-2.06 2.06-.94-2.06-.94L8.5 2.5l-.94 2.06-2.06.94zm10 10l.94 2.06.94-2.06 2.06-.94-2.06-.94-.94-2.06-.94 2.06-2.06.94z\"/><path d=\"M17.41 7.96l-1.37-1.37c-.4-.4-.92-.59-1.43-.59-.52 0-1.04.2-1.43.59L10.3 9.45l-7.72 7.72c-.78.78-.78 2.05 0 2.83L4 21.41c.39.39.9.59 1.41.59.51 0 1.02-.2 1.41-.59l7.78-7.78 2.81-2.81c.8-.78.8-2.07 0-2.86zM5.41 20L4 18.59l7.72-7.72 1.47 1.35L5.41 20z\"/>\n",
              "  </svg>\n",
              "      </button>\n",
              "      \n",
              "  <style>\n",
              "    .colab-df-container {\n",
              "      display:flex;\n",
              "      flex-wrap:wrap;\n",
              "      gap: 12px;\n",
              "    }\n",
              "\n",
              "    .colab-df-convert {\n",
              "      background-color: #E8F0FE;\n",
              "      border: none;\n",
              "      border-radius: 50%;\n",
              "      cursor: pointer;\n",
              "      display: none;\n",
              "      fill: #1967D2;\n",
              "      height: 32px;\n",
              "      padding: 0 0 0 0;\n",
              "      width: 32px;\n",
              "    }\n",
              "\n",
              "    .colab-df-convert:hover {\n",
              "      background-color: #E2EBFA;\n",
              "      box-shadow: 0px 1px 2px rgba(60, 64, 67, 0.3), 0px 1px 3px 1px rgba(60, 64, 67, 0.15);\n",
              "      fill: #174EA6;\n",
              "    }\n",
              "\n",
              "    [theme=dark] .colab-df-convert {\n",
              "      background-color: #3B4455;\n",
              "      fill: #D2E3FC;\n",
              "    }\n",
              "\n",
              "    [theme=dark] .colab-df-convert:hover {\n",
              "      background-color: #434B5C;\n",
              "      box-shadow: 0px 1px 3px 1px rgba(0, 0, 0, 0.15);\n",
              "      filter: drop-shadow(0px 1px 2px rgba(0, 0, 0, 0.3));\n",
              "      fill: #FFFFFF;\n",
              "    }\n",
              "  </style>\n",
              "\n",
              "      <script>\n",
              "        const buttonEl =\n",
              "          document.querySelector('#df-fbcb2bc3-4d89-4c83-ba96-996b174a84b5 button.colab-df-convert');\n",
              "        buttonEl.style.display =\n",
              "          google.colab.kernel.accessAllowed ? 'block' : 'none';\n",
              "\n",
              "        async function convertToInteractive(key) {\n",
              "          const element = document.querySelector('#df-fbcb2bc3-4d89-4c83-ba96-996b174a84b5');\n",
              "          const dataTable =\n",
              "            await google.colab.kernel.invokeFunction('convertToInteractive',\n",
              "                                                     [key], {});\n",
              "          if (!dataTable) return;\n",
              "\n",
              "          const docLinkHtml = 'Like what you see? Visit the ' +\n",
              "            '<a target=\"_blank\" href=https://colab.research.google.com/notebooks/data_table.ipynb>data table notebook</a>'\n",
              "            + ' to learn more about interactive tables.';\n",
              "          element.innerHTML = '';\n",
              "          dataTable['output_type'] = 'display_data';\n",
              "          await google.colab.output.renderOutput(dataTable, element);\n",
              "          const docLink = document.createElement('div');\n",
              "          docLink.innerHTML = docLinkHtml;\n",
              "          element.appendChild(docLink);\n",
              "        }\n",
              "      </script>\n",
              "    </div>\n",
              "  </div>\n",
              "  "
            ]
          },
          "metadata": {}
        },
        {
          "output_type": "display_data",
          "data": {
            "text/plain": [
              "<Figure size 432x288 with 1 Axes>"
            ],
            "image/png": "[encoded data removed]"
          },
          "metadata": {}
        }
      ],
      "source": [
        "#Q1: Who are some artists that the playlist user listens to?\n",
        "from pyspark.sql.types import StructField, StructType, LongType, DataType, StringType, IntegerType, ArrayType\n",
        "from pyspark.sql.functions import col\n",
        "import pandas as pd\n",
        "import matplotlib.pyplot as plt\n",
        "\n",
        "#Let's take a look at an individual user's playlist\n",
        "dfprdd = df_playlists.rdd\n",
        "sample = dfprdd.takeSample(False, 1, seed=None)\n",
        "samplerdd = sc.parallelize(sample)\n",
        "sampledf = samplerdd.toDF(schema=df_playlists.schema)\n",
        "sampledDFTracks = sampledf.select(\"tracks\")\n",
        "sampledDFTracks = sampledDFTracks.select(F.explode(F.col(\"tracks\")).alias(\"tracks\"))\n",
        "sampledDFTracks = sampledDFTracks.select(\"tracks.track_name\" ,\"tracks.artist_name\")\n",
        "#sampledDFTracks = sampledDFTracks.groupBy(\"track_name\", \"artist_name\").count().drop(col(\"count\"))\n",
        "print(\"User Artists\")\n",
        "pandasSampleTracks = sampledDFTracks.groupBy(col(\"artist_name\")).count().orderBy(\"count\", ascending=False).toPandas()\n",
        "display(pandasSampleTracks.head(5))\n",
        "pandasSampleTracks.head(5).plot(x=\"artist_name\", y=\"count\", kind=\"pie\", autopct='%1.1f%%', radius=1,shadow=True, legend=True, title='Top 5 User Artists % makeup', ylabel='', labeldistance=None)\n",
        "plt.legend(loc='upper right')\n",
        "plt.show()"
      ]
    },
    {
      "cell_type": "code",
      "execution_count": null,
      "metadata": {
        "colab": {
          "base_uri": "https://localhost:8080/"
        },
        "id": "7KPfPT-Brrcq",
        "outputId": "7c3095e3-4083-440d-89ba-a39c8100aced"
      },
      "outputs": [
        {
          "output_type": "stream",
          "name": "stdout",
          "text": [
            "   1 spotify:playlist:74iifDQ6WIHVcExHbM0j5w TEST\n",
            "   2 spotify:playlist:4JmAyPNxFeiuWZVYOsmLTW ImANightmare\n",
            "   3 spotify:playlist:6bpvF0R4rihBZzKVC9TcEU Drive.\n",
            "   4 spotify:playlist:6QZAa2lnT75FAWtghPoFLH Menagerie Character Themes\n",
            "   5 spotify:playlist:1WJIhOHbJTlnWwLz8mClhU Long Bus Running\n",
            "   6 spotify:playlist:3gkenwxh1vx4M55MoCk8Mw Pokemon Hall of Fame\n",
            "   7 spotify:playlist:0reoB0SdrhvxX9QsiPtMxK Christmas 2021\n",
            "   8 spotify:playlist:6GP5UNyYLhfiUhp6uC0tAT One shot the party\n",
            "   9 spotify:playlist:4lYJ6xEeb2usDj7sBrRp3l AJATT\n",
            "  10 spotify:playlist:1t3yY3grArxrscK0DdX0km ROCK AND STONE\n",
            "  11 spotify:playlist:4bB0z267Y2nYmDR8Lg1Ib1 Baking Cookies\n",
            "  12 spotify:playlist:4IkMqGoi9YzWr9PHcO8WXA scone\n",
            "  13 spotify:playlist:4Rtw85nzls2TZlX8g6WeQR You want a Metal?\n",
            "  14 spotify:playlist:3GjIpyekGjkvRH6b0qU5ND Rap n Be\n",
            "  15 spotify:playlist:3a6VpBua7fW7QP3B1sYKrI ROAD TRIP WITH ME\n",
            "  16 spotify:playlist:6GnKsiNykJhpmkjP0IjFLu Road house\n",
            "  17 spotify:playlist:5WHO2dq9a2vY5LSdcBCTAR Variety\n",
            "  18 spotify:playlist:5edmMGfzHUe2hX0D2tnpRn H O T\n",
            "  19 spotify:playlist:1Ha3zHGhMO1vMuf0DxfFYV Songs I Know On Bass\n",
            "  20 spotify:playlist:0pnv4yOc4QtOxvqu7LwxF7 Songs I Can Speed To\n",
            "[['Arabella', 'Arctic Monkeys', '7Ln80lUS6He07XvHI8qqHH'], ['Champagne Supernova', 'Oasis', '2DaxqgrOhkeH0fpeiQq2f4'], [\"Don't Look Back In Anger\", 'Oasis', '2DaxqgrOhkeH0fpeiQq2f4'], ['21st Century Schizoid Man - Including \"Mirrors\"', 'King Crimson', '7M1FPw29m5FbicYzS2xdpi'], ['Hallowed Be Thy Name - 2015 Remaster', 'Iron Maiden', '6mdiAmATAx73kdxrNrnlao'], ['Dog Nightmare', 'Jack Stauber', '1vVHevk2PD45epYnDi9CCc'], ['Pleura', 'King Gizzard & The Lizard Wizard', '6XYvaoDGE0VmRt83Jss9Sn'], ['If Not Now, Then When?', 'King Gizzard & The Lizard Wizard', '6XYvaoDGE0VmRt83Jss9Sn'], ['Supreme Ascendancy', 'King Gizzard & The Lizard Wizard', '6XYvaoDGE0VmRt83Jss9Sn'], [\"Why'd You Only Call Me When You're High?\", 'Arctic Monkeys', '7Ln80lUS6He07XvHI8qqHH'], ['Strange Timez (feat. Robert Smith)', 'Gorillaz', '3AA28KZvwAUcZuOKwyblJQ'], ['Just the Two of Us (feat. Bill Withers)', 'Grover Washington, Jr.', '05YVYeV4HxYp5rrWalvuE1'], ['The Great Calamity - Instrumental', 'Challenger Deep', '4UeFbnKOjmVX7tQoxEhw2G'], [\"You'll Say Sorry Through Your Smile\", 'Samsa', '5FN9kuAUamAd4IadVnH4jH'], ['We Hate You Please Die', 'Various Artists', '0LyfQWJT6nXafLPZqxe9Of'], ['Neal And Jack And Me', 'King Crimson', '7M1FPw29m5FbicYzS2xdpi'], ['Mount St. Helens Is About to Blow Up', 'Bill Wurtz', '78cT0dM5Ivm722EP2sgfDh'], ['Loyalty', 'King Gizzard & The Lizard Wizard', '6XYvaoDGE0VmRt83Jss9Sn'], ['Crumbling Castle', 'King Gizzard & The Lizard Wizard', '6XYvaoDGE0VmRt83Jss9Sn'], ['Apparition', 'Rx Bandits', '47bGK00zHXcGlUWfrE0dvi'], ['Romeo - Demo', 'Sublime', '0EdvGhlC1FkGItLOWQzG4J'], ['The Distance', 'CAKE', '6A43Djmhbe9100UwnI7epV'], ['Put a Flower in Your Pocket', 'The Arcs', '3mVWMgLc7bcyCBtL2ymZwK'], ['Have a Cigar', 'Pink Floyd', '0k17h0D3J5VfsdmQ1iZtE9'], ['Teddy Picker', 'Arctic Monkeys', '7Ln80lUS6He07XvHI8qqHH'], ['I Wanna Be Yours', 'Arctic Monkeys', '7Ln80lUS6He07XvHI8qqHH'], [\"Baby I'm Yours\", 'Breakbot', '0iui2Be5CP8EWxvHYsVspL'], ['Dreams - 2004 Remaster', 'Fleetwood Mac', '08GQAI4eElDnROBrJRGE0X'], ['Punga', 'Great Gable', '1jZfA0AdL9iA5PPLwoVvy1'], ['Big Love', 'Fleetwood Mac', '08GQAI4eElDnROBrJRGE0X'], ['Moby Dick', 'Jakey', '3q1NKu1dVzFcBfxFos4kE3'], ['Ball And Chain - Demo', 'Sublime', '0EdvGhlC1FkGItLOWQzG4J'], ['Schism', 'TOOL', '2yEwvVSSSUkcLeSTNyHKh8'], ['Nobody Weird Like Me - Remastered', 'Red Hot Chili Peppers', '0L8ExT028jH3ddEcZwqJJ5'], ['Take Me Out', 'Franz Ferdinand', '0XNa1vTidXlvJ2gHSsRi4A'], ['Gold on the Ceiling', 'The Black Keys', '7mnBLXK823vNxN3UWB7Gfz'], ['Medicate', 'AFI', '19I4tYiChJoxEO5EuviXpz'], ['Come On!', 'Wham!', '5lpH0xAS4fVfLkACg9DAuM'], ['Wham Rap! (Enjoy What You Do?)', 'Wham!', '5lpH0xAS4fVfLkACg9DAuM'], ['Kiss from a Rose', 'Seal', '5GtMEZEeFFsuHY8ad4kOxv'], ['Alfonso Muskedunder', 'Todd Terje', '49gaZqfow2v8EEQmjGyEIw'], ['On the Road Again - Live', 'Willie Nelson', '5W5bDNCqJ1jbCgTxDD0Cb3'], ['Get on the Floor', 'Michael Jackson', '3fMbdgg4jU18AjLCKBhRSm'], ['Mr. Roboto', 'The Protomen', '2rVDi66o7gdeUq1OHUzM0W'], ['Why Does It Hurt When I Pee?', 'Frank Zappa', '6ra4GIOgCZQZMOaUECftGN'], [\"It's Only Another Parsec…\", 'Rx Bandits', '47bGK00zHXcGlUWfrE0dvi'], ['Disintegration - 2010 Remaster', 'The Cure', '7bu3H8JO7d0UbMoVzbo70s'], ['The Almighty Dollar', 'Ozzy Osbourne', '6ZLTlhejhndI4Rh53vYhrY'], ['Little Black Submarines', 'The Black Keys', '7mnBLXK823vNxN3UWB7Gfz'], ['Tainted Love', 'Soft Cell', '6aq8T2RcspxVOGgMrTzjWc'], ['The Internet Is for Porn', 'Original Broadway Cast of Avenue Q', '46jo4R1RMxD3Dp3BVy2goz'], ['Kokomo', 'The Beach Boys', '3oDbviiivRWhXwIE8hxkVV'], ['Digital Black', 'King Gizzard & The Lizard Wizard', '6XYvaoDGE0VmRt83Jss9Sn'], ['Vomit Coffin', 'King Gizzard & The Lizard Wizard', '6XYvaoDGE0VmRt83Jss9Sn'], ['The Lord of Lightning', 'King Gizzard & The Lizard Wizard', '6XYvaoDGE0VmRt83Jss9Sn'], ['Hell', 'King Gizzard & The Lizard Wizard', '6XYvaoDGE0VmRt83Jss9Sn'], ['Organ Farmer', 'King Gizzard & The Lizard Wizard', '6XYvaoDGE0VmRt83Jss9Sn'], ['Road Train', 'King Gizzard & The Lizard Wizard', '6XYvaoDGE0VmRt83Jss9Sn'], ['Venusian 2', 'King Gizzard & The Lizard Wizard', '6XYvaoDGE0VmRt83Jss9Sn'], ['505', 'Arctic Monkeys', '7Ln80lUS6He07XvHI8qqHH'], ['One Thing Leads To Another', 'The Fixx', '53RkHTcl0SJZjpzqogkBf4'], ['Wham Bam Shang-A-Lang', 'Silver', '7oeuJSyVZTCkm3BurLz8cG'], ['25 or 6 to 4 - 2002 Remaster', 'Chicago', '3iDD7bnsjL9J4fO298r0L0'], ['Burning Down the House', 'Talking Heads', '2x9SpqnPi8rlE9pjHBwmSC'], ['Rattlesnake', 'King Gizzard & The Lizard Wizard', '6XYvaoDGE0VmRt83Jss9Sn'], ['Lithium', 'Nirvana', '6olE6TJLqED3rqDCT0FyPh'], ['Heart-Shaped Box', 'Nirvana', '6olE6TJLqED3rqDCT0FyPh'], ['Walk of Life', 'Dire Straits', '0WwSkZ7LtFUFjGjMZBMt6T'], ['Slide (feat. Frank Ocean & Migos)', 'Calvin Harris', '7CajNmpbOovFoOoasH2HaY']]\n",
            "+--------------------+--------------------+--------------------+\n",
            "|                  _1|                  _2|                  _3|\n",
            "+--------------------+--------------------+--------------------+\n",
            "|            Arabella|      Arctic Monkeys|7Ln80lUS6He07XvHI...|\n",
            "| Champagne Supernova|               Oasis|2DaxqgrOhkeH0fpei...|\n",
            "|Don't Look Back I...|               Oasis|2DaxqgrOhkeH0fpei...|\n",
            "|21st Century Schi...|        King Crimson|7M1FPw29m5FbicYzS...|\n",
            "|Hallowed Be Thy N...|         Iron Maiden|6mdiAmATAx73kdxrN...|\n",
            "|       Dog Nightmare|        Jack Stauber|1vVHevk2PD45epYnD...|\n",
            "|              Pleura|King Gizzard & Th...|6XYvaoDGE0VmRt83J...|\n",
            "|If Not Now, Then ...|King Gizzard & Th...|6XYvaoDGE0VmRt83J...|\n",
            "|  Supreme Ascendancy|King Gizzard & Th...|6XYvaoDGE0VmRt83J...|\n",
            "|Why'd You Only Ca...|      Arctic Monkeys|7Ln80lUS6He07XvHI...|\n",
            "|Strange Timez (fe...|            Gorillaz|3AA28KZvwAUcZuOKw...|\n",
            "|Just the Two of U...|Grover Washington...|05YVYeV4HxYp5rrWa...|\n",
            "|The Great Calamit...|     Challenger Deep|4UeFbnKOjmVX7tQox...|\n",
            "|You'll Say Sorry ...|               Samsa|5FN9kuAUamAd4IadV...|\n",
            "|We Hate You Pleas...|     Various Artists|0LyfQWJT6nXafLPZq...|\n",
            "|Neal And Jack And Me|        King Crimson|7M1FPw29m5FbicYzS...|\n",
            "|Mount St. Helens ...|          Bill Wurtz|78cT0dM5Ivm722EP2...|\n",
            "|             Loyalty|King Gizzard & Th...|6XYvaoDGE0VmRt83J...|\n",
            "|    Crumbling Castle|King Gizzard & Th...|6XYvaoDGE0VmRt83J...|\n",
            "|          Apparition|          Rx Bandits|47bGK00zHXcGlUWfr...|\n",
            "+--------------------+--------------------+--------------------+\n",
            "only showing top 20 rows\n",
            "\n",
            "[['Arabella', 'Arctic Monkeys', '7Ln80lUS6He07XvHI8qqHH'], ['Champagne Supernova', 'Oasis', '2DaxqgrOhkeH0fpeiQq2f4'], [\"Don't Look Back In Anger\", 'Oasis', '2DaxqgrOhkeH0fpeiQq2f4'], ['21st Century Schizoid Man - Including \"Mirrors\"', 'King Crimson', '7M1FPw29m5FbicYzS2xdpi'], ['Hallowed Be Thy Name - 2015 Remaster', 'Iron Maiden', '6mdiAmATAx73kdxrNrnlao']]\n",
            "{'tracks': [{'album': {'album_type': 'album', 'artists': [{'external_urls': {'spotify': 'https://open.spotify.com/artist/7Ln80lUS6He07XvHI8qqHH'}, 'href': 'https://api.spotify.com/v1/artists/7Ln80lUS6He07XvHI8qqHH', 'id': '7Ln80lUS6He07XvHI8qqHH', 'name': 'Arctic Monkeys', 'type': 'artist', 'uri': 'spotify:artist:7Ln80lUS6He07XvHI8qqHH'}], 'external_urls': {'spotify': 'https://open.spotify.com/album/78bpIziExqiI9qztvNFlQu'}, 'href': 'https://api.spotify.com/v1/albums/78bpIziExqiI9qztvNFlQu', 'id': '78bpIziExqiI9qztvNFlQu', 'images': [{'height': 640, 'url': 'https://i.scdn.co/image/ab67616d0000b2734ae1c4c5c45aabe565499163', 'width': 640}, {'height': 300, 'url': 'https://i.scdn.co/image/ab67616d00001e024ae1c4c5c45aabe565499163', 'width': 300}, {'height': 64, 'url': 'https://i.scdn.co/image/ab67616d000048514ae1c4c5c45aabe565499163', 'width': 64}], 'name': 'AM', 'release_date': '2013-09-09', 'release_date_precision': 'day', 'total_tracks': 12, 'type': 'album', 'uri': 'spotify:album:78bpIziExqiI9qztvNFlQu'}, 'artists': [{'external_urls': {'spotify': 'https://open.spotify.com/artist/7Ln80lUS6He07XvHI8qqHH'}, 'href': 'https://api.spotify.com/v1/artists/7Ln80lUS6He07XvHI8qqHH', 'id': '7Ln80lUS6He07XvHI8qqHH', 'name': 'Arctic Monkeys', 'type': 'artist', 'uri': 'spotify:artist:7Ln80lUS6He07XvHI8qqHH'}], 'disc_number': 1, 'duration_ms': 183956, 'explicit': False, 'external_ids': {'isrc': 'GBCEL1300373'}, 'external_urls': {'spotify': 'https://open.spotify.com/track/5XeFesFbtLpXzIVDNQP22n'}, 'href': 'https://api.spotify.com/v1/tracks/5XeFesFbtLpXzIVDNQP22n', 'id': '5XeFesFbtLpXzIVDNQP22n', 'is_local': False, 'is_playable': True, 'name': 'I Wanna Be Yours', 'popularity': 93, 'preview_url': 'https://p.scdn.co/mp3-preview/9292070ff09397b691b87ba6a9a96901f9ba7160?cid=96d4ef65e35f4943887b0d609f77ec05', 'track_number': 12, 'type': 'track', 'uri': 'spotify:track:5XeFesFbtLpXzIVDNQP22n'}, {'album': {'album_type': 'album', 'artists': [{'external_urls': {'spotify': 'https://open.spotify.com/artist/7Ln80lUS6He07XvHI8qqHH'}, 'href': 'https://api.spotify.com/v1/artists/7Ln80lUS6He07XvHI8qqHH', 'id': '7Ln80lUS6He07XvHI8qqHH', 'name': 'Arctic Monkeys', 'type': 'artist', 'uri': 'spotify:artist:7Ln80lUS6He07XvHI8qqHH'}], 'external_urls': {'spotify': 'https://open.spotify.com/album/78bpIziExqiI9qztvNFlQu'}, 'href': 'https://api.spotify.com/v1/albums/78bpIziExqiI9qztvNFlQu', 'id': '78bpIziExqiI9qztvNFlQu', 'images': [{'height': 640, 'url': 'https://i.scdn.co/image/ab67616d0000b2734ae1c4c5c45aabe565499163', 'width': 640}, {'height': 300, 'url': 'https://i.scdn.co/image/ab67616d00001e024ae1c4c5c45aabe565499163', 'width': 300}, {'height': 64, 'url': 'https://i.scdn.co/image/ab67616d000048514ae1c4c5c45aabe565499163', 'width': 64}], 'name': 'AM', 'release_date': '2013-09-09', 'release_date_precision': 'day', 'total_tracks': 12, 'type': 'album', 'uri': 'spotify:album:78bpIziExqiI9qztvNFlQu'}, 'artists': [{'external_urls': {'spotify': 'https://open.spotify.com/artist/7Ln80lUS6He07XvHI8qqHH'}, 'href': 'https://api.spotify.com/v1/artists/7Ln80lUS6He07XvHI8qqHH', 'id': '7Ln80lUS6He07XvHI8qqHH', 'name': 'Arctic Monkeys', 'type': 'artist', 'uri': 'spotify:artist:7Ln80lUS6He07XvHI8qqHH'}], 'disc_number': 1, 'duration_ms': 272394, 'explicit': False, 'external_ids': {'isrc': 'GBCEL1300362'}, 'external_urls': {'spotify': 'https://open.spotify.com/track/5FVd6KXrgO9B3JPmC8OPst'}, 'href': 'https://api.spotify.com/v1/tracks/5FVd6KXrgO9B3JPmC8OPst', 'id': '5FVd6KXrgO9B3JPmC8OPst', 'is_local': False, 'is_playable': True, 'name': 'Do I Wanna Know?', 'popularity': 88, 'preview_url': 'https://p.scdn.co/mp3-preview/18d8be17343d3ef580e93a5fff47c9b58870a31a?cid=96d4ef65e35f4943887b0d609f77ec05', 'track_number': 1, 'type': 'track', 'uri': 'spotify:track:5FVd6KXrgO9B3JPmC8OPst'}, {'album': {'album_type': 'album', 'artists': [{'external_urls': {'spotify': 'https://open.spotify.com/artist/7Ln80lUS6He07XvHI8qqHH'}, 'href': 'https://api.spotify.com/v1/artists/7Ln80lUS6He07XvHI8qqHH', 'id': '7Ln80lUS6He07XvHI8qqHH', 'name': 'Arctic Monkeys', 'type': 'artist', 'uri': 'spotify:artist:7Ln80lUS6He07XvHI8qqHH'}], 'external_urls': {'spotify': 'https://open.spotify.com/album/78bpIziExqiI9qztvNFlQu'}, 'href': 'https://api.spotify.com/v1/albums/78bpIziExqiI9qztvNFlQu', 'id': '78bpIziExqiI9qztvNFlQu', 'images': [{'height': 640, 'url': 'https://i.scdn.co/image/ab67616d0000b2734ae1c4c5c45aabe565499163', 'width': 640}, {'height': 300, 'url': 'https://i.scdn.co/image/ab67616d00001e024ae1c4c5c45aabe565499163', 'width': 300}, {'height': 64, 'url': 'https://i.scdn.co/image/ab67616d000048514ae1c4c5c45aabe565499163', 'width': 64}], 'name': 'AM', 'release_date': '2013-09-09', 'release_date_precision': 'day', 'total_tracks': 12, 'type': 'album', 'uri': 'spotify:album:78bpIziExqiI9qztvNFlQu'}, 'artists': [{'external_urls': {'spotify': 'https://open.spotify.com/artist/7Ln80lUS6He07XvHI8qqHH'}, 'href': 'https://api.spotify.com/v1/artists/7Ln80lUS6He07XvHI8qqHH', 'id': '7Ln80lUS6He07XvHI8qqHH', 'name': 'Arctic Monkeys', 'type': 'artist', 'uri': 'spotify:artist:7Ln80lUS6He07XvHI8qqHH'}], 'disc_number': 1, 'duration_ms': 161123, 'explicit': False, 'external_ids': {'isrc': 'GBCEL1300370'}, 'external_urls': {'spotify': 'https://open.spotify.com/track/086myS9r57YsLbJpU0TgK9'}, 'href': 'https://api.spotify.com/v1/tracks/086myS9r57YsLbJpU0TgK9', 'id': '086myS9r57YsLbJpU0TgK9', 'is_local': False, 'is_playable': True, 'name': \"Why'd You Only Call Me When You're High?\", 'popularity': 88, 'preview_url': 'https://p.scdn.co/mp3-preview/f439aad249c7323921df759ba60efa55f4610a77?cid=96d4ef65e35f4943887b0d609f77ec05', 'track_number': 9, 'type': 'track', 'uri': 'spotify:track:086myS9r57YsLbJpU0TgK9'}, {'album': {'album_type': 'album', 'artists': [{'external_urls': {'spotify': 'https://open.spotify.com/artist/7Ln80lUS6He07XvHI8qqHH'}, 'href': 'https://api.spotify.com/v1/artists/7Ln80lUS6He07XvHI8qqHH', 'id': '7Ln80lUS6He07XvHI8qqHH', 'name': 'Arctic Monkeys', 'type': 'artist', 'uri': 'spotify:artist:7Ln80lUS6He07XvHI8qqHH'}], 'external_urls': {'spotify': 'https://open.spotify.com/album/6rsQnwaoJHxXJRCDBPkBRw'}, 'href': 'https://api.spotify.com/v1/albums/6rsQnwaoJHxXJRCDBPkBRw', 'id': '6rsQnwaoJHxXJRCDBPkBRw', 'images': [{'height': 640, 'url': 'https://i.scdn.co/image/ab67616d0000b2730c8ac83035e9588e8ad34b90', 'width': 640}, {'height': 300, 'url': 'https://i.scdn.co/image/ab67616d00001e020c8ac83035e9588e8ad34b90', 'width': 300}, {'height': 64, 'url': 'https://i.scdn.co/image/ab67616d000048510c8ac83035e9588e8ad34b90', 'width': 64}], 'name': 'Favourite Worst Nightmare (Standard Version)', 'release_date': '2007-04-24', 'release_date_precision': 'day', 'total_tracks': 12, 'type': 'album', 'uri': 'spotify:album:6rsQnwaoJHxXJRCDBPkBRw'}, 'artists': [{'external_urls': {'spotify': 'https://open.spotify.com/artist/7Ln80lUS6He07XvHI8qqHH'}, 'href': 'https://api.spotify.com/v1/artists/7Ln80lUS6He07XvHI8qqHH', 'id': '7Ln80lUS6He07XvHI8qqHH', 'name': 'Arctic Monkeys', 'type': 'artist', 'uri': 'spotify:artist:7Ln80lUS6He07XvHI8qqHH'}], 'disc_number': 1, 'duration_ms': 253586, 'explicit': False, 'external_ids': {'isrc': 'GBCEL0700074'}, 'external_urls': {'spotify': 'https://open.spotify.com/track/58ge6dfP91o9oXMzq3XkIS'}, 'href': 'https://api.spotify.com/v1/tracks/58ge6dfP91o9oXMzq3XkIS', 'id': '58ge6dfP91o9oXMzq3XkIS', 'is_local': False, 'is_playable': True, 'name': '505', 'popularity': 82, 'preview_url': 'https://p.scdn.co/mp3-preview/47aca114cd367609671d27ba494c0d90cc5abf48?cid=96d4ef65e35f4943887b0d609f77ec05', 'track_number': 12, 'type': 'track', 'uri': 'spotify:track:58ge6dfP91o9oXMzq3XkIS'}, {'album': {'album_type': 'album', 'artists': [{'external_urls': {'spotify': 'https://open.spotify.com/artist/7Ln80lUS6He07XvHI8qqHH'}, 'href': 'https://api.spotify.com/v1/artists/7Ln80lUS6He07XvHI8qqHH', 'id': '7Ln80lUS6He07XvHI8qqHH', 'name': 'Arctic Monkeys', 'type': 'artist', 'uri': 'spotify:artist:7Ln80lUS6He07XvHI8qqHH'}], 'external_urls': {'spotify': 'https://open.spotify.com/album/78bpIziExqiI9qztvNFlQu'}, 'href': 'https://api.spotify.com/v1/albums/78bpIziExqiI9qztvNFlQu', 'id': '78bpIziExqiI9qztvNFlQu', 'images': [{'height': 640, 'url': 'https://i.scdn.co/image/ab67616d0000b2734ae1c4c5c45aabe565499163', 'width': 640}, {'height': 300, 'url': 'https://i.scdn.co/image/ab67616d00001e024ae1c4c5c45aabe565499163', 'width': 300}, {'height': 64, 'url': 'https://i.scdn.co/image/ab67616d000048514ae1c4c5c45aabe565499163', 'width': 64}], 'name': 'AM', 'release_date': '2013-09-09', 'release_date_precision': 'day', 'total_tracks': 12, 'type': 'album', 'uri': 'spotify:album:78bpIziExqiI9qztvNFlQu'}, 'artists': [{'external_urls': {'spotify': 'https://open.spotify.com/artist/7Ln80lUS6He07XvHI8qqHH'}, 'href': 'https://api.spotify.com/v1/artists/7Ln80lUS6He07XvHI8qqHH', 'id': '7Ln80lUS6He07XvHI8qqHH', 'name': 'Arctic Monkeys', 'type': 'artist', 'uri': 'spotify:artist:7Ln80lUS6He07XvHI8qqHH'}], 'disc_number': 1, 'duration_ms': 201726, 'explicit': False, 'external_ids': {'isrc': 'GBCEL1300363'}, 'external_urls': {'spotify': 'https://open.spotify.com/track/2AT8iROs4FQueDv2c8q2KE'}, 'href': 'https://api.spotify.com/v1/tracks/2AT8iROs4FQueDv2c8q2KE', 'id': '2AT8iROs4FQueDv2c8q2KE', 'is_local': False, 'is_playable': True, 'name': 'R U Mine?', 'popularity': 83, 'preview_url': 'https://p.scdn.co/mp3-preview/c17fdaa857fb355d58e5da0f5c4c191cb4cdd33f?cid=96d4ef65e35f4943887b0d609f77ec05', 'track_number': 2, 'type': 'track', 'uri': 'spotify:track:2AT8iROs4FQueDv2c8q2KE'}, {'album': {'album_type': 'album', 'artists': [{'external_urls': {'spotify': 'https://open.spotify.com/artist/7Ln80lUS6He07XvHI8qqHH'}, 'href': 'https://api.spotify.com/v1/artists/7Ln80lUS6He07XvHI8qqHH', 'id': '7Ln80lUS6He07XvHI8qqHH', 'name': 'Arctic Monkeys', 'type': 'artist', 'uri': 'spotify:artist:7Ln80lUS6He07XvHI8qqHH'}], 'external_urls': {'spotify': 'https://open.spotify.com/album/78bpIziExqiI9qztvNFlQu'}, 'href': 'https://api.spotify.com/v1/albums/78bpIziExqiI9qztvNFlQu', 'id': '78bpIziExqiI9qztvNFlQu', 'images': [{'height': 640, 'url': 'https://i.scdn.co/image/ab67616d0000b2734ae1c4c5c45aabe565499163', 'width': 640}, {'height': 300, 'url': 'https://i.scdn.co/image/ab67616d00001e024ae1c4c5c45aabe565499163', 'width': 300}, {'height': 64, 'url': 'https://i.scdn.co/image/ab67616d000048514ae1c4c5c45aabe565499163', 'width': 64}], 'name': 'AM', 'release_date': '2013-09-09', 'release_date_precision': 'day', 'total_tracks': 12, 'type': 'album', 'uri': 'spotify:album:78bpIziExqiI9qztvNFlQu'}, 'artists': [{'external_urls': {'spotify': 'https://open.spotify.com/artist/7Ln80lUS6He07XvHI8qqHH'}, 'href': 'https://api.spotify.com/v1/artists/7Ln80lUS6He07XvHI8qqHH', 'id': '7Ln80lUS6He07XvHI8qqHH', 'name': 'Arctic Monkeys', 'type': 'artist', 'uri': 'spotify:artist:7Ln80lUS6He07XvHI8qqHH'}], 'disc_number': 1, 'duration_ms': 193030, 'explicit': False, 'external_ids': {'isrc': 'GBCEL1300371'}, 'external_urls': {'spotify': 'https://open.spotify.com/track/0NdTUS4UiNYCNn5FgVqKQY'}, 'href': 'https://api.spotify.com/v1/tracks/0NdTUS4UiNYCNn5FgVqKQY', 'id': '0NdTUS4UiNYCNn5FgVqKQY', 'is_local': False, 'is_playable': True, 'name': 'Snap Out Of It', 'popularity': 80, 'preview_url': 'https://p.scdn.co/mp3-preview/9368378717202d76f7222090d80de944cbcd6c16?cid=96d4ef65e35f4943887b0d609f77ec05', 'track_number': 10, 'type': 'track', 'uri': 'spotify:track:0NdTUS4UiNYCNn5FgVqKQY'}, {'album': {'album_type': 'album', 'artists': [{'external_urls': {'spotify': 'https://open.spotify.com/artist/7Ln80lUS6He07XvHI8qqHH'}, 'href': 'https://api.spotify.com/v1/artists/7Ln80lUS6He07XvHI8qqHH', 'id': '7Ln80lUS6He07XvHI8qqHH', 'name': 'Arctic Monkeys', 'type': 'artist', 'uri': 'spotify:artist:7Ln80lUS6He07XvHI8qqHH'}], 'external_urls': {'spotify': 'https://open.spotify.com/album/6rsQnwaoJHxXJRCDBPkBRw'}, 'href': 'https://api.spotify.com/v1/albums/6rsQnwaoJHxXJRCDBPkBRw', 'id': '6rsQnwaoJHxXJRCDBPkBRw', 'images': [{'height': 640, 'url': 'https://i.scdn.co/image/ab67616d0000b2730c8ac83035e9588e8ad34b90', 'width': 640}, {'height': 300, 'url': 'https://i.scdn.co/image/ab67616d00001e020c8ac83035e9588e8ad34b90', 'width': 300}, {'height': 64, 'url': 'https://i.scdn.co/image/ab67616d000048510c8ac83035e9588e8ad34b90', 'width': 64}], 'name': 'Favourite Worst Nightmare (Standard Version)', 'release_date': '2007-04-24', 'release_date_precision': 'day', 'total_tracks': 12, 'type': 'album', 'uri': 'spotify:album:6rsQnwaoJHxXJRCDBPkBRw'}, 'artists': [{'external_urls': {'spotify': 'https://open.spotify.com/artist/7Ln80lUS6He07XvHI8qqHH'}, 'href': 'https://api.spotify.com/v1/artists/7Ln80lUS6He07XvHI8qqHH', 'id': '7Ln80lUS6He07XvHI8qqHH', 'name': 'Arctic Monkeys', 'type': 'artist', 'uri': 'spotify:artist:7Ln80lUS6He07XvHI8qqHH'}], 'disc_number': 1, 'duration_ms': 173493, 'explicit': False, 'external_ids': {'isrc': 'GBCEL0700067'}, 'external_urls': {'spotify': 'https://open.spotify.com/track/7e8utCy2JlSB8dRHKi49xM'}, 'href': 'https://api.spotify.com/v1/tracks/7e8utCy2JlSB8dRHKi49xM', 'id': '7e8utCy2JlSB8dRHKi49xM', 'is_local': False, 'is_playable': True, 'name': 'Fluorescent Adolescent', 'popularity': 70, 'preview_url': 'https://p.scdn.co/mp3-preview/af9a0fbdf639d748de8a6fc5e27ecc692e80430c?cid=96d4ef65e35f4943887b0d609f77ec05', 'track_number': 5, 'type': 'track', 'uri': 'spotify:track:7e8utCy2JlSB8dRHKi49xM'}, {'album': {'album_type': 'album', 'artists': [{'external_urls': {'spotify': 'https://open.spotify.com/artist/7Ln80lUS6He07XvHI8qqHH'}, 'href': 'https://api.spotify.com/v1/artists/7Ln80lUS6He07XvHI8qqHH', 'id': '7Ln80lUS6He07XvHI8qqHH', 'name': 'Arctic Monkeys', 'type': 'artist', 'uri': 'spotify:artist:7Ln80lUS6He07XvHI8qqHH'}], 'external_urls': {'spotify': 'https://open.spotify.com/album/78bpIziExqiI9qztvNFlQu'}, 'href': 'https://api.spotify.com/v1/albums/78bpIziExqiI9qztvNFlQu', 'id': '78bpIziExqiI9qztvNFlQu', 'images': [{'height': 640, 'url': 'https://i.scdn.co/image/ab67616d0000b2734ae1c4c5c45aabe565499163', 'width': 640}, {'height': 300, 'url': 'https://i.scdn.co/image/ab67616d00001e024ae1c4c5c45aabe565499163', 'width': 300}, {'height': 64, 'url': 'https://i.scdn.co/image/ab67616d000048514ae1c4c5c45aabe565499163', 'width': 64}], 'name': 'AM', 'release_date': '2013-09-09', 'release_date_precision': 'day', 'total_tracks': 12, 'type': 'album', 'uri': 'spotify:album:78bpIziExqiI9qztvNFlQu'}, 'artists': [{'external_urls': {'spotify': 'https://open.spotify.com/artist/7Ln80lUS6He07XvHI8qqHH'}, 'href': 'https://api.spotify.com/v1/artists/7Ln80lUS6He07XvHI8qqHH', 'id': '7Ln80lUS6He07XvHI8qqHH', 'name': 'Arctic Monkeys', 'type': 'artist', 'uri': 'spotify:artist:7Ln80lUS6He07XvHI8qqHH'}], 'disc_number': 1, 'duration_ms': 207356, 'explicit': False, 'external_ids': {'isrc': 'GBCEL1300365'}, 'external_urls': {'spotify': 'https://open.spotify.com/track/7nzsY8vlnKdvGOEE0rjAXZ'}, 'href': 'https://api.spotify.com/v1/tracks/7nzsY8vlnKdvGOEE0rjAXZ', 'id': '7nzsY8vlnKdvGOEE0rjAXZ', 'is_local': False, 'is_playable': True, 'name': 'Arabella', 'popularity': 78, 'preview_url': 'https://p.scdn.co/mp3-preview/ec983f2bd75a11c3c47b212b630fe02464241efd?cid=96d4ef65e35f4943887b0d609f77ec05', 'track_number': 4, 'type': 'track', 'uri': 'spotify:track:7nzsY8vlnKdvGOEE0rjAXZ'}, {'album': {'album_type': 'album', 'artists': [{'external_urls': {'spotify': 'https://open.spotify.com/artist/7Ln80lUS6He07XvHI8qqHH'}, 'href': 'https://api.spotify.com/v1/artists/7Ln80lUS6He07XvHI8qqHH', 'id': '7Ln80lUS6He07XvHI8qqHH', 'name': 'Arctic Monkeys', 'type': 'artist', 'uri': 'spotify:artist:7Ln80lUS6He07XvHI8qqHH'}], 'external_urls': {'spotify': 'https://open.spotify.com/album/78bpIziExqiI9qztvNFlQu'}, 'href': 'https://api.spotify.com/v1/albums/78bpIziExqiI9qztvNFlQu', 'id': '78bpIziExqiI9qztvNFlQu', 'images': [{'height': 640, 'url': 'https://i.scdn.co/image/ab67616d0000b2734ae1c4c5c45aabe565499163', 'width': 640}, {'height': 300, 'url': 'https://i.scdn.co/image/ab67616d00001e024ae1c4c5c45aabe565499163', 'width': 300}, {'height': 64, 'url': 'https://i.scdn.co/image/ab67616d000048514ae1c4c5c45aabe565499163', 'width': 64}], 'name': 'AM', 'release_date': '2013-09-09', 'release_date_precision': 'day', 'total_tracks': 12, 'type': 'album', 'uri': 'spotify:album:78bpIziExqiI9qztvNFlQu'}, 'artists': [{'external_urls': {'spotify': 'https://open.spotify.com/artist/7Ln80lUS6He07XvHI8qqHH'}, 'href': 'https://api.spotify.com/v1/artists/7Ln80lUS6He07XvHI8qqHH', 'id': '7Ln80lUS6He07XvHI8qqHH', 'name': 'Arctic Monkeys', 'type': 'artist', 'uri': 'spotify:artist:7Ln80lUS6He07XvHI8qqHH'}], 'disc_number': 1, 'duration_ms': 257563, 'explicit': False, 'external_ids': {'isrc': 'GBCEL1300372'}, 'external_urls': {'spotify': 'https://open.spotify.com/track/2LGdO5MtFdyphi2EihANZG'}, 'href': 'https://api.spotify.com/v1/tracks/2LGdO5MtFdyphi2EihANZG', 'id': '2LGdO5MtFdyphi2EihANZG', 'is_local': False, 'is_playable': True, 'name': 'Knee Socks', 'popularity': 76, 'preview_url': 'https://p.scdn.co/mp3-preview/908247d979ba95781b60cc9939a693a1471c2697?cid=96d4ef65e35f4943887b0d609f77ec05', 'track_number': 11, 'type': 'track', 'uri': 'spotify:track:2LGdO5MtFdyphi2EihANZG'}, {'album': {'album_type': 'album', 'artists': [{'external_urls': {'spotify': 'https://open.spotify.com/artist/7Ln80lUS6He07XvHI8qqHH'}, 'href': 'https://api.spotify.com/v1/artists/7Ln80lUS6He07XvHI8qqHH', 'id': '7Ln80lUS6He07XvHI8qqHH', 'name': 'Arctic Monkeys', 'type': 'artist', 'uri': 'spotify:artist:7Ln80lUS6He07XvHI8qqHH'}], 'external_urls': {'spotify': 'https://open.spotify.com/album/0ndGMh4twJNzPpr5XtHTR2'}, 'href': 'https://api.spotify.com/v1/albums/0ndGMh4twJNzPpr5XtHTR2', 'id': '0ndGMh4twJNzPpr5XtHTR2', 'images': [{'height': 640, 'url': 'https://i.scdn.co/image/ab67616d0000b273dcd504f678c14b1593605ff5', 'width': 640}, {'height': 300, 'url': 'https://i.scdn.co/image/ab67616d00001e02dcd504f678c14b1593605ff5', 'width': 300}, {'height': 64, 'url': 'https://i.scdn.co/image/ab67616d00004851dcd504f678c14b1593605ff5', 'width': 64}], 'name': \"Whatever People Say I Am, That's What I'm Not\", 'release_date': '2006-02-21', 'release_date_precision': 'day', 'total_tracks': 13, 'type': 'album', 'uri': 'spotify:album:0ndGMh4twJNzPpr5XtHTR2'}, 'artists': [{'external_urls': {'spotify': 'https://open.spotify.com/artist/7Ln80lUS6He07XvHI8qqHH'}, 'href': 'https://api.spotify.com/v1/artists/7Ln80lUS6He07XvHI8qqHH', 'id': '7Ln80lUS6He07XvHI8qqHH', 'name': 'Arctic Monkeys', 'type': 'artist', 'uri': 'spotify:artist:7Ln80lUS6He07XvHI8qqHH'}], 'disc_number': 1, 'duration_ms': 202133, 'explicit': True, 'external_ids': {'isrc': 'GBCEL0501190'}, 'external_urls': {'spotify': 'https://open.spotify.com/track/0ZRrJTPXDToRJ2iLo9oLrW'}, 'href': 'https://api.spotify.com/v1/tracks/0ZRrJTPXDToRJ2iLo9oLrW', 'id': '0ZRrJTPXDToRJ2iLo9oLrW', 'is_local': False, 'is_playable': True, 'name': 'When The Sun Goes Down', 'popularity': 61, 'preview_url': 'https://p.scdn.co/mp3-preview/b03c0516c20b20c92d6419d7fd48ab2db7b34f24?cid=96d4ef65e35f4943887b0d609f77ec05', 'track_number': 11, 'type': 'track', 'uri': 'spotify:track:0ZRrJTPXDToRJ2iLo9oLrW'}]}\n",
            "{'tracks': [{'album': {'album_type': 'album', 'artists': [{'external_urls': {'spotify': 'https://open.spotify.com/artist/2DaxqgrOhkeH0fpeiQq2f4'}, 'href': 'https://api.spotify.com/v1/artists/2DaxqgrOhkeH0fpeiQq2f4', 'id': '2DaxqgrOhkeH0fpeiQq2f4', 'name': 'Oasis', 'type': 'artist', 'uri': 'spotify:artist:2DaxqgrOhkeH0fpeiQq2f4'}], 'external_urls': {'spotify': 'https://open.spotify.com/album/6tOe4eAF8xNhEkl9WyvsE4'}, 'href': 'https://api.spotify.com/v1/albums/6tOe4eAF8xNhEkl9WyvsE4', 'id': '6tOe4eAF8xNhEkl9WyvsE4', 'images': [{'height': 640, 'url': 'https://i.scdn.co/image/ab67616d0000b2737a4c8c59851c88f6794c3cbf', 'width': 640}, {'height': 300, 'url': 'https://i.scdn.co/image/ab67616d00001e027a4c8c59851c88f6794c3cbf', 'width': 300}, {'height': 64, 'url': 'https://i.scdn.co/image/ab67616d000048517a4c8c59851c88f6794c3cbf', 'width': 64}], 'name': \"(What's The Story) Morning Glory? (Deluxe Remastered Edition)\", 'release_date': '1995', 'release_date_precision': 'year', 'total_tracks': 40, 'type': 'album', 'uri': 'spotify:album:6tOe4eAF8xNhEkl9WyvsE4'}, 'artists': [{'external_urls': {'spotify': 'https://open.spotify.com/artist/2DaxqgrOhkeH0fpeiQq2f4'}, 'href': 'https://api.spotify.com/v1/artists/2DaxqgrOhkeH0fpeiQq2f4', 'id': '2DaxqgrOhkeH0fpeiQq2f4', 'name': 'Oasis', 'type': 'artist', 'uri': 'spotify:artist:2DaxqgrOhkeH0fpeiQq2f4'}], 'disc_number': 1, 'duration_ms': 258773, 'explicit': False, 'external_ids': {'isrc': 'GBQCP1400109'}, 'external_urls': {'spotify': 'https://open.spotify.com/track/7ygpwy2qP3NbrxVkHvUhXY'}, 'href': 'https://api.spotify.com/v1/tracks/7ygpwy2qP3NbrxVkHvUhXY', 'id': '7ygpwy2qP3NbrxVkHvUhXY', 'is_local': False, 'is_playable': True, 'name': 'Wonderwall - Remastered', 'popularity': 77, 'preview_url': 'https://p.scdn.co/mp3-preview/6b7c37bb7af0b1162851fe87f4e1ed57f7799fe1?cid=96d4ef65e35f4943887b0d609f77ec05', 'track_number': 3, 'type': 'track', 'uri': 'spotify:track:7ygpwy2qP3NbrxVkHvUhXY'}, {'album': {'album_type': 'album', 'artists': [{'external_urls': {'spotify': 'https://open.spotify.com/artist/2DaxqgrOhkeH0fpeiQq2f4'}, 'href': 'https://api.spotify.com/v1/artists/2DaxqgrOhkeH0fpeiQq2f4', 'id': '2DaxqgrOhkeH0fpeiQq2f4', 'name': 'Oasis', 'type': 'artist', 'uri': 'spotify:artist:2DaxqgrOhkeH0fpeiQq2f4'}], 'external_urls': {'spotify': 'https://open.spotify.com/album/6tOe4eAF8xNhEkl9WyvsE4'}, 'href': 'https://api.spotify.com/v1/albums/6tOe4eAF8xNhEkl9WyvsE4', 'id': '6tOe4eAF8xNhEkl9WyvsE4', 'images': [{'height': 640, 'url': 'https://i.scdn.co/image/ab67616d0000b2737a4c8c59851c88f6794c3cbf', 'width': 640}, {'height': 300, 'url': 'https://i.scdn.co/image/ab67616d00001e027a4c8c59851c88f6794c3cbf', 'width': 300}, {'height': 64, 'url': 'https://i.scdn.co/image/ab67616d000048517a4c8c59851c88f6794c3cbf', 'width': 64}], 'name': \"(What's The Story) Morning Glory? (Deluxe Remastered Edition)\", 'release_date': '1995', 'release_date_precision': 'year', 'total_tracks': 40, 'type': 'album', 'uri': 'spotify:album:6tOe4eAF8xNhEkl9WyvsE4'}, 'artists': [{'external_urls': {'spotify': 'https://open.spotify.com/artist/2DaxqgrOhkeH0fpeiQq2f4'}, 'href': 'https://api.spotify.com/v1/artists/2DaxqgrOhkeH0fpeiQq2f4', 'id': '2DaxqgrOhkeH0fpeiQq2f4', 'name': 'Oasis', 'type': 'artist', 'uri': 'spotify:artist:2DaxqgrOhkeH0fpeiQq2f4'}], 'disc_number': 1, 'duration_ms': 289560, 'explicit': False, 'external_ids': {'isrc': 'GBQCP1400110'}, 'external_urls': {'spotify': 'https://open.spotify.com/track/12dU3vAh6AFoJkisorfoUl'}, 'href': 'https://api.spotify.com/v1/tracks/12dU3vAh6AFoJkisorfoUl', 'id': '12dU3vAh6AFoJkisorfoUl', 'is_local': False, 'is_playable': True, 'name': \"Don't Look Back In Anger - Remastered\", 'popularity': 72, 'preview_url': 'https://p.scdn.co/mp3-preview/f2e28606ab3c2459e23802aa8b9f6f9bed9ee875?cid=96d4ef65e35f4943887b0d609f77ec05', 'track_number': 4, 'type': 'track', 'uri': 'spotify:track:12dU3vAh6AFoJkisorfoUl'}, {'album': {'album_type': 'album', 'artists': [{'external_urls': {'spotify': 'https://open.spotify.com/artist/2DaxqgrOhkeH0fpeiQq2f4'}, 'href': 'https://api.spotify.com/v1/artists/2DaxqgrOhkeH0fpeiQq2f4', 'id': '2DaxqgrOhkeH0fpeiQq2f4', 'name': 'Oasis', 'type': 'artist', 'uri': 'spotify:artist:2DaxqgrOhkeH0fpeiQq2f4'}], 'external_urls': {'spotify': 'https://open.spotify.com/album/2EVWJRhbXWsSm7a6jdKv8O'}, 'href': 'https://api.spotify.com/v1/albums/2EVWJRhbXWsSm7a6jdKv8O', 'id': '2EVWJRhbXWsSm7a6jdKv8O', 'images': [{'height': 640, 'url': 'https://i.scdn.co/image/ab67616d0000b273bd14866d69108524bc32fb37', 'width': 640}, {'height': 300, 'url': 'https://i.scdn.co/image/ab67616d00001e02bd14866d69108524bc32fb37', 'width': 300}, {'height': 64, 'url': 'https://i.scdn.co/image/ab67616d00004851bd14866d69108524bc32fb37', 'width': 64}], 'name': 'Heathen Chemistry', 'release_date': '2002-07-01', 'release_date_precision': 'day', 'total_tracks': 11, 'type': 'album', 'uri': 'spotify:album:2EVWJRhbXWsSm7a6jdKv8O'}, 'artists': [{'external_urls': {'spotify': 'https://open.spotify.com/artist/2DaxqgrOhkeH0fpeiQq2f4'}, 'href': 'https://api.spotify.com/v1/artists/2DaxqgrOhkeH0fpeiQq2f4', 'id': '2DaxqgrOhkeH0fpeiQq2f4', 'name': 'Oasis', 'type': 'artist', 'uri': 'spotify:artist:2DaxqgrOhkeH0fpeiQq2f4'}], 'disc_number': 1, 'duration_ms': 303120, 'explicit': False, 'external_ids': {'isrc': 'GBBQY0202057'}, 'external_urls': {'spotify': 'https://open.spotify.com/track/0SlpFHdk4UHBDzCEoXzy14'}, 'href': 'https://api.spotify.com/v1/tracks/0SlpFHdk4UHBDzCEoXzy14', 'id': '0SlpFHdk4UHBDzCEoXzy14', 'is_local': False, 'is_playable': True, 'name': 'Stop Crying Your Heart Out', 'popularity': 65, 'preview_url': 'https://p.scdn.co/mp3-preview/27198f8fdf352238fce7eb56ff76deb20c9aca6c?cid=96d4ef65e35f4943887b0d609f77ec05', 'track_number': 4, 'type': 'track', 'uri': 'spotify:track:0SlpFHdk4UHBDzCEoXzy14'}, {'album': {'album_type': 'album', 'artists': [{'external_urls': {'spotify': 'https://open.spotify.com/artist/2DaxqgrOhkeH0fpeiQq2f4'}, 'href': 'https://api.spotify.com/v1/artists/2DaxqgrOhkeH0fpeiQq2f4', 'id': '2DaxqgrOhkeH0fpeiQq2f4', 'name': 'Oasis', 'type': 'artist', 'uri': 'spotify:artist:2DaxqgrOhkeH0fpeiQq2f4'}], 'external_urls': {'spotify': 'https://open.spotify.com/album/6tOe4eAF8xNhEkl9WyvsE4'}, 'href': 'https://api.spotify.com/v1/albums/6tOe4eAF8xNhEkl9WyvsE4', 'id': '6tOe4eAF8xNhEkl9WyvsE4', 'images': [{'height': 640, 'url': 'https://i.scdn.co/image/ab67616d0000b2737a4c8c59851c88f6794c3cbf', 'width': 640}, {'height': 300, 'url': 'https://i.scdn.co/image/ab67616d00001e027a4c8c59851c88f6794c3cbf', 'width': 300}, {'height': 64, 'url': 'https://i.scdn.co/image/ab67616d000048517a4c8c59851c88f6794c3cbf', 'width': 64}], 'name': \"(What's The Story) Morning Glory? (Deluxe Remastered Edition)\", 'release_date': '1995', 'release_date_precision': 'year', 'total_tracks': 40, 'type': 'album', 'uri': 'spotify:album:6tOe4eAF8xNhEkl9WyvsE4'}, 'artists': [{'external_urls': {'spotify': 'https://open.spotify.com/artist/2DaxqgrOhkeH0fpeiQq2f4'}, 'href': 'https://api.spotify.com/v1/artists/2DaxqgrOhkeH0fpeiQq2f4', 'id': '2DaxqgrOhkeH0fpeiQq2f4', 'name': 'Oasis', 'type': 'artist', 'uri': 'spotify:artist:2DaxqgrOhkeH0fpeiQq2f4'}], 'disc_number': 1, 'duration_ms': 451320, 'explicit': False, 'external_ids': {'isrc': 'GBQCP1400118'}, 'external_urls': {'spotify': 'https://open.spotify.com/track/2A7GGXmTlXuH9LOvBXgOX4'}, 'href': 'https://api.spotify.com/v1/tracks/2A7GGXmTlXuH9LOvBXgOX4', 'id': '2A7GGXmTlXuH9LOvBXgOX4', 'is_local': False, 'is_playable': True, 'name': 'Champagne Supernova - Remastered', 'popularity': 66, 'preview_url': 'https://p.scdn.co/mp3-preview/09eb6b89a0a2f2a577e7307f61f629aa66924861?cid=96d4ef65e35f4943887b0d609f77ec05', 'track_number': 12, 'type': 'track', 'uri': 'spotify:track:2A7GGXmTlXuH9LOvBXgOX4'}, {'album': {'album_type': 'album', 'artists': [{'external_urls': {'spotify': 'https://open.spotify.com/artist/2DaxqgrOhkeH0fpeiQq2f4'}, 'href': 'https://api.spotify.com/v1/artists/2DaxqgrOhkeH0fpeiQq2f4', 'id': '2DaxqgrOhkeH0fpeiQq2f4', 'name': 'Oasis', 'type': 'artist', 'uri': 'spotify:artist:2DaxqgrOhkeH0fpeiQq2f4'}], 'external_urls': {'spotify': 'https://open.spotify.com/album/3AMHMM2aNG6k3d7ybcQ5bY'}, 'href': 'https://api.spotify.com/v1/albums/3AMHMM2aNG6k3d7ybcQ5bY', 'id': '3AMHMM2aNG6k3d7ybcQ5bY', 'images': [{'height': 640, 'url': 'https://i.scdn.co/image/ab67616d0000b273d86a1e021e7acc7c07c7d668', 'width': 640}, {'height': 300, 'url': 'https://i.scdn.co/image/ab67616d00001e02d86a1e021e7acc7c07c7d668', 'width': 300}, {'height': 64, 'url': 'https://i.scdn.co/image/ab67616d00004851d86a1e021e7acc7c07c7d668', 'width': 64}], 'name': 'Definitely Maybe (Deluxe Edition Remastered)', 'release_date': '1994', 'release_date_precision': 'year', 'total_tracks': 44, 'type': 'album', 'uri': 'spotify:album:3AMHMM2aNG6k3d7ybcQ5bY'}, 'artists': [{'external_urls': {'spotify': 'https://open.spotify.com/artist/2DaxqgrOhkeH0fpeiQq2f4'}, 'href': 'https://api.spotify.com/v1/artists/2DaxqgrOhkeH0fpeiQq2f4', 'id': '2DaxqgrOhkeH0fpeiQq2f4', 'name': 'Oasis', 'type': 'artist', 'uri': 'spotify:artist:2DaxqgrOhkeH0fpeiQq2f4'}], 'disc_number': 1, 'duration_ms': 276666, 'explicit': False, 'external_ids': {'isrc': 'GBQCP1400011'}, 'external_urls': {'spotify': 'https://open.spotify.com/track/6TlQ5fbojNRuG0hPQMbxeW'}, 'href': 'https://api.spotify.com/v1/tracks/6TlQ5fbojNRuG0hPQMbxeW', 'id': '6TlQ5fbojNRuG0hPQMbxeW', 'is_local': False, 'is_playable': True, 'name': 'Live Forever - Remastered', 'popularity': 65, 'preview_url': 'https://p.scdn.co/mp3-preview/08a870fa4ed4cf32ffda905917da7621fdb40a45?cid=96d4ef65e35f4943887b0d609f77ec05', 'track_number': 3, 'type': 'track', 'uri': 'spotify:track:6TlQ5fbojNRuG0hPQMbxeW'}, {'album': {'album_type': 'album', 'artists': [{'external_urls': {'spotify': 'https://open.spotify.com/artist/2DaxqgrOhkeH0fpeiQq2f4'}, 'href': 'https://api.spotify.com/v1/artists/2DaxqgrOhkeH0fpeiQq2f4', 'id': '2DaxqgrOhkeH0fpeiQq2f4', 'name': 'Oasis', 'type': 'artist', 'uri': 'spotify:artist:2DaxqgrOhkeH0fpeiQq2f4'}], 'external_urls': {'spotify': 'https://open.spotify.com/album/3AMHMM2aNG6k3d7ybcQ5bY'}, 'href': 'https://api.spotify.com/v1/albums/3AMHMM2aNG6k3d7ybcQ5bY', 'id': '3AMHMM2aNG6k3d7ybcQ5bY', 'images': [{'height': 640, 'url': 'https://i.scdn.co/image/ab67616d0000b273d86a1e021e7acc7c07c7d668', 'width': 640}, {'height': 300, 'url': 'https://i.scdn.co/image/ab67616d00001e02d86a1e021e7acc7c07c7d668', 'width': 300}, {'height': 64, 'url': 'https://i.scdn.co/image/ab67616d00004851d86a1e021e7acc7c07c7d668', 'width': 64}], 'name': 'Definitely Maybe (Deluxe Edition Remastered)', 'release_date': '1994', 'release_date_precision': 'year', 'total_tracks': 44, 'type': 'album', 'uri': 'spotify:album:3AMHMM2aNG6k3d7ybcQ5bY'}, 'artists': [{'external_urls': {'spotify': 'https://open.spotify.com/artist/2DaxqgrOhkeH0fpeiQq2f4'}, 'href': 'https://api.spotify.com/v1/artists/2DaxqgrOhkeH0fpeiQq2f4', 'id': '2DaxqgrOhkeH0fpeiQq2f4', 'name': 'Oasis', 'type': 'artist', 'uri': 'spotify:artist:2DaxqgrOhkeH0fpeiQq2f4'}], 'disc_number': 1, 'duration_ms': 283786, 'explicit': False, 'external_ids': {'isrc': 'GBQCP1400014'}, 'external_urls': {'spotify': 'https://open.spotify.com/track/4jJfa4mO5JjV9Tz2aAxE2M'}, 'href': 'https://api.spotify.com/v1/tracks/4jJfa4mO5JjV9Tz2aAxE2M', 'id': '4jJfa4mO5JjV9Tz2aAxE2M', 'is_local': False, 'is_playable': True, 'name': 'Supersonic - Remastered', 'popularity': 63, 'preview_url': 'https://p.scdn.co/mp3-preview/053f70565369fef1b31af134d7b106fa07b8c9bc?cid=96d4ef65e35f4943887b0d609f77ec05', 'track_number': 6, 'type': 'track', 'uri': 'spotify:track:4jJfa4mO5JjV9Tz2aAxE2M'}, {'album': {'album_type': 'album', 'artists': [{'external_urls': {'spotify': 'https://open.spotify.com/artist/2DaxqgrOhkeH0fpeiQq2f4'}, 'href': 'https://api.spotify.com/v1/artists/2DaxqgrOhkeH0fpeiQq2f4', 'id': '2DaxqgrOhkeH0fpeiQq2f4', 'name': 'Oasis', 'type': 'artist', 'uri': 'spotify:artist:2DaxqgrOhkeH0fpeiQq2f4'}], 'external_urls': {'spotify': 'https://open.spotify.com/album/3AMHMM2aNG6k3d7ybcQ5bY'}, 'href': 'https://api.spotify.com/v1/albums/3AMHMM2aNG6k3d7ybcQ5bY', 'id': '3AMHMM2aNG6k3d7ybcQ5bY', 'images': [{'height': 640, 'url': 'https://i.scdn.co/image/ab67616d0000b273d86a1e021e7acc7c07c7d668', 'width': 640}, {'height': 300, 'url': 'https://i.scdn.co/image/ab67616d00001e02d86a1e021e7acc7c07c7d668', 'width': 300}, {'height': 64, 'url': 'https://i.scdn.co/image/ab67616d00004851d86a1e021e7acc7c07c7d668', 'width': 64}], 'name': 'Definitely Maybe (Deluxe Edition Remastered)', 'release_date': '1994', 'release_date_precision': 'year', 'total_tracks': 44, 'type': 'album', 'uri': 'spotify:album:3AMHMM2aNG6k3d7ybcQ5bY'}, 'artists': [{'external_urls': {'spotify': 'https://open.spotify.com/artist/2DaxqgrOhkeH0fpeiQq2f4'}, 'href': 'https://api.spotify.com/v1/artists/2DaxqgrOhkeH0fpeiQq2f4', 'id': '2DaxqgrOhkeH0fpeiQq2f4', 'name': 'Oasis', 'type': 'artist', 'uri': 'spotify:artist:2DaxqgrOhkeH0fpeiQq2f4'}], 'disc_number': 2, 'duration_ms': 267333, 'explicit': False, 'external_ids': {'isrc': 'GBQCP1400035'}, 'external_urls': {'spotify': 'https://open.spotify.com/track/0if8wueNrAVLfwSH7l1ANJ'}, 'href': 'https://api.spotify.com/v1/tracks/0if8wueNrAVLfwSH7l1ANJ', 'id': '0if8wueNrAVLfwSH7l1ANJ', 'is_local': False, 'is_playable': True, 'name': 'Half The World Away - Remastered', 'popularity': 62, 'preview_url': 'https://p.scdn.co/mp3-preview/b0651e60e202d8259316e98c09bb9a9ed9218370?cid=96d4ef65e35f4943887b0d609f77ec05', 'track_number': 16, 'type': 'track', 'uri': 'spotify:track:0if8wueNrAVLfwSH7l1ANJ'}, {'album': {'album_type': 'album', 'artists': [{'external_urls': {'spotify': 'https://open.spotify.com/artist/2DaxqgrOhkeH0fpeiQq2f4'}, 'href': 'https://api.spotify.com/v1/artists/2DaxqgrOhkeH0fpeiQq2f4', 'id': '2DaxqgrOhkeH0fpeiQq2f4', 'name': 'Oasis', 'type': 'artist', 'uri': 'spotify:artist:2DaxqgrOhkeH0fpeiQq2f4'}], 'external_urls': {'spotify': 'https://open.spotify.com/album/6tOe4eAF8xNhEkl9WyvsE4'}, 'href': 'https://api.spotify.com/v1/albums/6tOe4eAF8xNhEkl9WyvsE4', 'id': '6tOe4eAF8xNhEkl9WyvsE4', 'images': [{'height': 640, 'url': 'https://i.scdn.co/image/ab67616d0000b2737a4c8c59851c88f6794c3cbf', 'width': 640}, {'height': 300, 'url': 'https://i.scdn.co/image/ab67616d00001e027a4c8c59851c88f6794c3cbf', 'width': 300}, {'height': 64, 'url': 'https://i.scdn.co/image/ab67616d000048517a4c8c59851c88f6794c3cbf', 'width': 64}], 'name': \"(What's The Story) Morning Glory? (Deluxe Remastered Edition)\", 'release_date': '1995', 'release_date_precision': 'year', 'total_tracks': 40, 'type': 'album', 'uri': 'spotify:album:6tOe4eAF8xNhEkl9WyvsE4'}, 'artists': [{'external_urls': {'spotify': 'https://open.spotify.com/artist/2DaxqgrOhkeH0fpeiQq2f4'}, 'href': 'https://api.spotify.com/v1/artists/2DaxqgrOhkeH0fpeiQq2f4', 'id': '2DaxqgrOhkeH0fpeiQq2f4', 'name': 'Oasis', 'type': 'artist', 'uri': 'spotify:artist:2DaxqgrOhkeH0fpeiQq2f4'}], 'disc_number': 1, 'duration_ms': 220920, 'explicit': False, 'external_ids': {'isrc': 'GBQCP1400115'}, 'external_urls': {'spotify': 'https://open.spotify.com/track/60QLLec3yKDwloXCyummPy'}, 'href': 'https://api.spotify.com/v1/tracks/60QLLec3yKDwloXCyummPy', 'id': '60QLLec3yKDwloXCyummPy', 'is_local': False, 'is_playable': True, 'name': \"She's Electric - Remastered\", 'popularity': 62, 'preview_url': 'https://p.scdn.co/mp3-preview/b30f41358af232974b8b01d9c0a4cbabd20ad897?cid=96d4ef65e35f4943887b0d609f77ec05', 'track_number': 9, 'type': 'track', 'uri': 'spotify:track:60QLLec3yKDwloXCyummPy'}, {'album': {'album_type': 'album', 'artists': [{'external_urls': {'spotify': 'https://open.spotify.com/artist/2DaxqgrOhkeH0fpeiQq2f4'}, 'href': 'https://api.spotify.com/v1/artists/2DaxqgrOhkeH0fpeiQq2f4', 'id': '2DaxqgrOhkeH0fpeiQq2f4', 'name': 'Oasis', 'type': 'artist', 'uri': 'spotify:artist:2DaxqgrOhkeH0fpeiQq2f4'}], 'external_urls': {'spotify': 'https://open.spotify.com/album/4XBCWqCXqCdN72K9SklIjy'}, 'href': 'https://api.spotify.com/v1/albums/4XBCWqCXqCdN72K9SklIjy', 'id': '4XBCWqCXqCdN72K9SklIjy', 'images': [{'height': 640, 'url': 'https://i.scdn.co/image/ab67616d0000b273aeda362a434f01d0eff70b4e', 'width': 640}, {'height': 300, 'url': 'https://i.scdn.co/image/ab67616d00001e02aeda362a434f01d0eff70b4e', 'width': 300}, {'height': 64, 'url': 'https://i.scdn.co/image/ab67616d00004851aeda362a434f01d0eff70b4e', 'width': 64}], 'name': 'Be Here Now (Deluxe Remastered Edition)', 'release_date': '1997', 'release_date_precision': 'year', 'total_tracks': 40, 'type': 'album', 'uri': 'spotify:album:4XBCWqCXqCdN72K9SklIjy'}, 'artists': [{'external_urls': {'spotify': 'https://open.spotify.com/artist/2DaxqgrOhkeH0fpeiQq2f4'}, 'href': 'https://api.spotify.com/v1/artists/2DaxqgrOhkeH0fpeiQq2f4', 'id': '2DaxqgrOhkeH0fpeiQq2f4', 'name': 'Oasis', 'type': 'artist', 'uri': 'spotify:artist:2DaxqgrOhkeH0fpeiQq2f4'}], 'disc_number': 1, 'duration_ms': 355866, 'explicit': False, 'external_ids': {'isrc': 'GBQCP1600012'}, 'external_urls': {'spotify': 'https://open.spotify.com/track/5WTPhYmwwojFP73O7p3Izi'}, 'href': 'https://api.spotify.com/v1/tracks/5WTPhYmwwojFP73O7p3Izi', 'id': '5WTPhYmwwojFP73O7p3Izi', 'is_local': False, 'is_playable': True, 'name': 'Stand By Me - Remastered', 'popularity': 60, 'preview_url': 'https://p.scdn.co/mp3-preview/11f0fd6e26cf2970ae2b55c6f1715ea1a50f2f8b?cid=96d4ef65e35f4943887b0d609f77ec05', 'track_number': 4, 'type': 'track', 'uri': 'spotify:track:5WTPhYmwwojFP73O7p3Izi'}, {'album': {'album_type': 'album', 'artists': [{'external_urls': {'spotify': 'https://open.spotify.com/artist/2DaxqgrOhkeH0fpeiQq2f4'}, 'href': 'https://api.spotify.com/v1/artists/2DaxqgrOhkeH0fpeiQq2f4', 'id': '2DaxqgrOhkeH0fpeiQq2f4', 'name': 'Oasis', 'type': 'artist', 'uri': 'spotify:artist:2DaxqgrOhkeH0fpeiQq2f4'}], 'external_urls': {'spotify': 'https://open.spotify.com/album/2EVWJRhbXWsSm7a6jdKv8O'}, 'href': 'https://api.spotify.com/v1/albums/2EVWJRhbXWsSm7a6jdKv8O', 'id': '2EVWJRhbXWsSm7a6jdKv8O', 'images': [{'height': 640, 'url': 'https://i.scdn.co/image/ab67616d0000b273bd14866d69108524bc32fb37', 'width': 640}, {'height': 300, 'url': 'https://i.scdn.co/image/ab67616d00001e02bd14866d69108524bc32fb37', 'width': 300}, {'height': 64, 'url': 'https://i.scdn.co/image/ab67616d00004851bd14866d69108524bc32fb37', 'width': 64}], 'name': 'Heathen Chemistry', 'release_date': '2002-07-01', 'release_date_precision': 'day', 'total_tracks': 11, 'type': 'album', 'uri': 'spotify:album:2EVWJRhbXWsSm7a6jdKv8O'}, 'artists': [{'external_urls': {'spotify': 'https://open.spotify.com/artist/2DaxqgrOhkeH0fpeiQq2f4'}, 'href': 'https://api.spotify.com/v1/artists/2DaxqgrOhkeH0fpeiQq2f4', 'id': '2DaxqgrOhkeH0fpeiQq2f4', 'name': 'Oasis', 'type': 'artist', 'uri': 'spotify:artist:2DaxqgrOhkeH0fpeiQq2f4'}], 'disc_number': 1, 'duration_ms': 127600, 'explicit': False, 'external_ids': {'isrc': 'GBBQY0202036'}, 'external_urls': {'spotify': 'https://open.spotify.com/track/2tBxJ43XiwEzhf7Xalc5UG'}, 'href': 'https://api.spotify.com/v1/tracks/2tBxJ43XiwEzhf7Xalc5UG', 'id': '2tBxJ43XiwEzhf7Xalc5UG', 'is_local': False, 'is_playable': True, 'name': 'Songbird', 'popularity': 60, 'preview_url': 'https://p.scdn.co/mp3-preview/a2d105ef5f822288a5623834c537fe1f73dd1409?cid=96d4ef65e35f4943887b0d609f77ec05', 'track_number': 5, 'type': 'track', 'uri': 'spotify:track:2tBxJ43XiwEzhf7Xalc5UG'}]}\n",
            "{'tracks': [{'album': {'album_type': 'album', 'artists': [{'external_urls': {'spotify': 'https://open.spotify.com/artist/2DaxqgrOhkeH0fpeiQq2f4'}, 'href': 'https://api.spotify.com/v1/artists/2DaxqgrOhkeH0fpeiQq2f4', 'id': '2DaxqgrOhkeH0fpeiQq2f4', 'name': 'Oasis', 'type': 'artist', 'uri': 'spotify:artist:2DaxqgrOhkeH0fpeiQq2f4'}], 'external_urls': {'spotify': 'https://open.spotify.com/album/6tOe4eAF8xNhEkl9WyvsE4'}, 'href': 'https://api.spotify.com/v1/albums/6tOe4eAF8xNhEkl9WyvsE4', 'id': '6tOe4eAF8xNhEkl9WyvsE4', 'images': [{'height': 640, 'url': 'https://i.scdn.co/image/ab67616d0000b2737a4c8c59851c88f6794c3cbf', 'width': 640}, {'height': 300, 'url': 'https://i.scdn.co/image/ab67616d00001e027a4c8c59851c88f6794c3cbf', 'width': 300}, {'height': 64, 'url': 'https://i.scdn.co/image/ab67616d000048517a4c8c59851c88f6794c3cbf', 'width': 64}], 'name': \"(What's The Story) Morning Glory? (Deluxe Remastered Edition)\", 'release_date': '1995', 'release_date_precision': 'year', 'total_tracks': 40, 'type': 'album', 'uri': 'spotify:album:6tOe4eAF8xNhEkl9WyvsE4'}, 'artists': [{'external_urls': {'spotify': 'https://open.spotify.com/artist/2DaxqgrOhkeH0fpeiQq2f4'}, 'href': 'https://api.spotify.com/v1/artists/2DaxqgrOhkeH0fpeiQq2f4', 'id': '2DaxqgrOhkeH0fpeiQq2f4', 'name': 'Oasis', 'type': 'artist', 'uri': 'spotify:artist:2DaxqgrOhkeH0fpeiQq2f4'}], 'disc_number': 1, 'duration_ms': 258773, 'explicit': False, 'external_ids': {'isrc': 'GBQCP1400109'}, 'external_urls': {'spotify': 'https://open.spotify.com/track/7ygpwy2qP3NbrxVkHvUhXY'}, 'href': 'https://api.spotify.com/v1/tracks/7ygpwy2qP3NbrxVkHvUhXY', 'id': '7ygpwy2qP3NbrxVkHvUhXY', 'is_local': False, 'is_playable': True, 'name': 'Wonderwall - Remastered', 'popularity': 77, 'preview_url': 'https://p.scdn.co/mp3-preview/6b7c37bb7af0b1162851fe87f4e1ed57f7799fe1?cid=96d4ef65e35f4943887b0d609f77ec05', 'track_number': 3, 'type': 'track', 'uri': 'spotify:track:7ygpwy2qP3NbrxVkHvUhXY'}, {'album': {'album_type': 'album', 'artists': [{'external_urls': {'spotify': 'https://open.spotify.com/artist/2DaxqgrOhkeH0fpeiQq2f4'}, 'href': 'https://api.spotify.com/v1/artists/2DaxqgrOhkeH0fpeiQq2f4', 'id': '2DaxqgrOhkeH0fpeiQq2f4', 'name': 'Oasis', 'type': 'artist', 'uri': 'spotify:artist:2DaxqgrOhkeH0fpeiQq2f4'}], 'external_urls': {'spotify': 'https://open.spotify.com/album/6tOe4eAF8xNhEkl9WyvsE4'}, 'href': 'https://api.spotify.com/v1/albums/6tOe4eAF8xNhEkl9WyvsE4', 'id': '6tOe4eAF8xNhEkl9WyvsE4', 'images': [{'height': 640, 'url': 'https://i.scdn.co/image/ab67616d0000b2737a4c8c59851c88f6794c3cbf', 'width': 640}, {'height': 300, 'url': 'https://i.scdn.co/image/ab67616d00001e027a4c8c59851c88f6794c3cbf', 'width': 300}, {'height': 64, 'url': 'https://i.scdn.co/image/ab67616d000048517a4c8c59851c88f6794c3cbf', 'width': 64}], 'name': \"(What's The Story) Morning Glory? (Deluxe Remastered Edition)\", 'release_date': '1995', 'release_date_precision': 'year', 'total_tracks': 40, 'type': 'album', 'uri': 'spotify:album:6tOe4eAF8xNhEkl9WyvsE4'}, 'artists': [{'external_urls': {'spotify': 'https://open.spotify.com/artist/2DaxqgrOhkeH0fpeiQq2f4'}, 'href': 'https://api.spotify.com/v1/artists/2DaxqgrOhkeH0fpeiQq2f4', 'id': '2DaxqgrOhkeH0fpeiQq2f4', 'name': 'Oasis', 'type': 'artist', 'uri': 'spotify:artist:2DaxqgrOhkeH0fpeiQq2f4'}], 'disc_number': 1, 'duration_ms': 289560, 'explicit': False, 'external_ids': {'isrc': 'GBQCP1400110'}, 'external_urls': {'spotify': 'https://open.spotify.com/track/12dU3vAh6AFoJkisorfoUl'}, 'href': 'https://api.spotify.com/v1/tracks/12dU3vAh6AFoJkisorfoUl', 'id': '12dU3vAh6AFoJkisorfoUl', 'is_local': False, 'is_playable': True, 'name': \"Don't Look Back In Anger - Remastered\", 'popularity': 72, 'preview_url': 'https://p.scdn.co/mp3-preview/f2e28606ab3c2459e23802aa8b9f6f9bed9ee875?cid=96d4ef65e35f4943887b0d609f77ec05', 'track_number': 4, 'type': 'track', 'uri': 'spotify:track:12dU3vAh6AFoJkisorfoUl'}, {'album': {'album_type': 'album', 'artists': [{'external_urls': {'spotify': 'https://open.spotify.com/artist/2DaxqgrOhkeH0fpeiQq2f4'}, 'href': 'https://api.spotify.com/v1/artists/2DaxqgrOhkeH0fpeiQq2f4', 'id': '2DaxqgrOhkeH0fpeiQq2f4', 'name': 'Oasis', 'type': 'artist', 'uri': 'spotify:artist:2DaxqgrOhkeH0fpeiQq2f4'}], 'external_urls': {'spotify': 'https://open.spotify.com/album/2EVWJRhbXWsSm7a6jdKv8O'}, 'href': 'https://api.spotify.com/v1/albums/2EVWJRhbXWsSm7a6jdKv8O', 'id': '2EVWJRhbXWsSm7a6jdKv8O', 'images': [{'height': 640, 'url': 'https://i.scdn.co/image/ab67616d0000b273bd14866d69108524bc32fb37', 'width': 640}, {'height': 300, 'url': 'https://i.scdn.co/image/ab67616d00001e02bd14866d69108524bc32fb37', 'width': 300}, {'height': 64, 'url': 'https://i.scdn.co/image/ab67616d00004851bd14866d69108524bc32fb37', 'width': 64}], 'name': 'Heathen Chemistry', 'release_date': '2002-07-01', 'release_date_precision': 'day', 'total_tracks': 11, 'type': 'album', 'uri': 'spotify:album:2EVWJRhbXWsSm7a6jdKv8O'}, 'artists': [{'external_urls': {'spotify': 'https://open.spotify.com/artist/2DaxqgrOhkeH0fpeiQq2f4'}, 'href': 'https://api.spotify.com/v1/artists/2DaxqgrOhkeH0fpeiQq2f4', 'id': '2DaxqgrOhkeH0fpeiQq2f4', 'name': 'Oasis', 'type': 'artist', 'uri': 'spotify:artist:2DaxqgrOhkeH0fpeiQq2f4'}], 'disc_number': 1, 'duration_ms': 303120, 'explicit': False, 'external_ids': {'isrc': 'GBBQY0202057'}, 'external_urls': {'spotify': 'https://open.spotify.com/track/0SlpFHdk4UHBDzCEoXzy14'}, 'href': 'https://api.spotify.com/v1/tracks/0SlpFHdk4UHBDzCEoXzy14', 'id': '0SlpFHdk4UHBDzCEoXzy14', 'is_local': False, 'is_playable': True, 'name': 'Stop Crying Your Heart Out', 'popularity': 65, 'preview_url': 'https://p.scdn.co/mp3-preview/27198f8fdf352238fce7eb56ff76deb20c9aca6c?cid=96d4ef65e35f4943887b0d609f77ec05', 'track_number': 4, 'type': 'track', 'uri': 'spotify:track:0SlpFHdk4UHBDzCEoXzy14'}, {'album': {'album_type': 'album', 'artists': [{'external_urls': {'spotify': 'https://open.spotify.com/artist/2DaxqgrOhkeH0fpeiQq2f4'}, 'href': 'https://api.spotify.com/v1/artists/2DaxqgrOhkeH0fpeiQq2f4', 'id': '2DaxqgrOhkeH0fpeiQq2f4', 'name': 'Oasis', 'type': 'artist', 'uri': 'spotify:artist:2DaxqgrOhkeH0fpeiQq2f4'}], 'external_urls': {'spotify': 'https://open.spotify.com/album/6tOe4eAF8xNhEkl9WyvsE4'}, 'href': 'https://api.spotify.com/v1/albums/6tOe4eAF8xNhEkl9WyvsE4', 'id': '6tOe4eAF8xNhEkl9WyvsE4', 'images': [{'height': 640, 'url': 'https://i.scdn.co/image/ab67616d0000b2737a4c8c59851c88f6794c3cbf', 'width': 640}, {'height': 300, 'url': 'https://i.scdn.co/image/ab67616d00001e027a4c8c59851c88f6794c3cbf', 'width': 300}, {'height': 64, 'url': 'https://i.scdn.co/image/ab67616d000048517a4c8c59851c88f6794c3cbf', 'width': 64}], 'name': \"(What's The Story) Morning Glory? (Deluxe Remastered Edition)\", 'release_date': '1995', 'release_date_precision': 'year', 'total_tracks': 40, 'type': 'album', 'uri': 'spotify:album:6tOe4eAF8xNhEkl9WyvsE4'}, 'artists': [{'external_urls': {'spotify': 'https://open.spotify.com/artist/2DaxqgrOhkeH0fpeiQq2f4'}, 'href': 'https://api.spotify.com/v1/artists/2DaxqgrOhkeH0fpeiQq2f4', 'id': '2DaxqgrOhkeH0fpeiQq2f4', 'name': 'Oasis', 'type': 'artist', 'uri': 'spotify:artist:2DaxqgrOhkeH0fpeiQq2f4'}], 'disc_number': 1, 'duration_ms': 451320, 'explicit': False, 'external_ids': {'isrc': 'GBQCP1400118'}, 'external_urls': {'spotify': 'https://open.spotify.com/track/2A7GGXmTlXuH9LOvBXgOX4'}, 'href': 'https://api.spotify.com/v1/tracks/2A7GGXmTlXuH9LOvBXgOX4', 'id': '2A7GGXmTlXuH9LOvBXgOX4', 'is_local': False, 'is_playable': True, 'name': 'Champagne Supernova - Remastered', 'popularity': 66, 'preview_url': 'https://p.scdn.co/mp3-preview/09eb6b89a0a2f2a577e7307f61f629aa66924861?cid=96d4ef65e35f4943887b0d609f77ec05', 'track_number': 12, 'type': 'track', 'uri': 'spotify:track:2A7GGXmTlXuH9LOvBXgOX4'}, {'album': {'album_type': 'album', 'artists': [{'external_urls': {'spotify': 'https://open.spotify.com/artist/2DaxqgrOhkeH0fpeiQq2f4'}, 'href': 'https://api.spotify.com/v1/artists/2DaxqgrOhkeH0fpeiQq2f4', 'id': '2DaxqgrOhkeH0fpeiQq2f4', 'name': 'Oasis', 'type': 'artist', 'uri': 'spotify:artist:2DaxqgrOhkeH0fpeiQq2f4'}], 'external_urls': {'spotify': 'https://open.spotify.com/album/3AMHMM2aNG6k3d7ybcQ5bY'}, 'href': 'https://api.spotify.com/v1/albums/3AMHMM2aNG6k3d7ybcQ5bY', 'id': '3AMHMM2aNG6k3d7ybcQ5bY', 'images': [{'height': 640, 'url': 'https://i.scdn.co/image/ab67616d0000b273d86a1e021e7acc7c07c7d668', 'width': 640}, {'height': 300, 'url': 'https://i.scdn.co/image/ab67616d00001e02d86a1e021e7acc7c07c7d668', 'width': 300}, {'height': 64, 'url': 'https://i.scdn.co/image/ab67616d00004851d86a1e021e7acc7c07c7d668', 'width': 64}], 'name': 'Definitely Maybe (Deluxe Edition Remastered)', 'release_date': '1994', 'release_date_precision': 'year', 'total_tracks': 44, 'type': 'album', 'uri': 'spotify:album:3AMHMM2aNG6k3d7ybcQ5bY'}, 'artists': [{'external_urls': {'spotify': 'https://open.spotify.com/artist/2DaxqgrOhkeH0fpeiQq2f4'}, 'href': 'https://api.spotify.com/v1/artists/2DaxqgrOhkeH0fpeiQq2f4', 'id': '2DaxqgrOhkeH0fpeiQq2f4', 'name': 'Oasis', 'type': 'artist', 'uri': 'spotify:artist:2DaxqgrOhkeH0fpeiQq2f4'}], 'disc_number': 1, 'duration_ms': 276666, 'explicit': False, 'external_ids': {'isrc': 'GBQCP1400011'}, 'external_urls': {'spotify': 'https://open.spotify.com/track/6TlQ5fbojNRuG0hPQMbxeW'}, 'href': 'https://api.spotify.com/v1/tracks/6TlQ5fbojNRuG0hPQMbxeW', 'id': '6TlQ5fbojNRuG0hPQMbxeW', 'is_local': False, 'is_playable': True, 'name': 'Live Forever - Remastered', 'popularity': 65, 'preview_url': 'https://p.scdn.co/mp3-preview/08a870fa4ed4cf32ffda905917da7621fdb40a45?cid=96d4ef65e35f4943887b0d609f77ec05', 'track_number': 3, 'type': 'track', 'uri': 'spotify:track:6TlQ5fbojNRuG0hPQMbxeW'}, {'album': {'album_type': 'album', 'artists': [{'external_urls': {'spotify': 'https://open.spotify.com/artist/2DaxqgrOhkeH0fpeiQq2f4'}, 'href': 'https://api.spotify.com/v1/artists/2DaxqgrOhkeH0fpeiQq2f4', 'id': '2DaxqgrOhkeH0fpeiQq2f4', 'name': 'Oasis', 'type': 'artist', 'uri': 'spotify:artist:2DaxqgrOhkeH0fpeiQq2f4'}], 'external_urls': {'spotify': 'https://open.spotify.com/album/3AMHMM2aNG6k3d7ybcQ5bY'}, 'href': 'https://api.spotify.com/v1/albums/3AMHMM2aNG6k3d7ybcQ5bY', 'id': '3AMHMM2aNG6k3d7ybcQ5bY', 'images': [{'height': 640, 'url': 'https://i.scdn.co/image/ab67616d0000b273d86a1e021e7acc7c07c7d668', 'width': 640}, {'height': 300, 'url': 'https://i.scdn.co/image/ab67616d00001e02d86a1e021e7acc7c07c7d668', 'width': 300}, {'height': 64, 'url': 'https://i.scdn.co/image/ab67616d00004851d86a1e021e7acc7c07c7d668', 'width': 64}], 'name': 'Definitely Maybe (Deluxe Edition Remastered)', 'release_date': '1994', 'release_date_precision': 'year', 'total_tracks': 44, 'type': 'album', 'uri': 'spotify:album:3AMHMM2aNG6k3d7ybcQ5bY'}, 'artists': [{'external_urls': {'spotify': 'https://open.spotify.com/artist/2DaxqgrOhkeH0fpeiQq2f4'}, 'href': 'https://api.spotify.com/v1/artists/2DaxqgrOhkeH0fpeiQq2f4', 'id': '2DaxqgrOhkeH0fpeiQq2f4', 'name': 'Oasis', 'type': 'artist', 'uri': 'spotify:artist:2DaxqgrOhkeH0fpeiQq2f4'}], 'disc_number': 1, 'duration_ms': 283786, 'explicit': False, 'external_ids': {'isrc': 'GBQCP1400014'}, 'external_urls': {'spotify': 'https://open.spotify.com/track/4jJfa4mO5JjV9Tz2aAxE2M'}, 'href': 'https://api.spotify.com/v1/tracks/4jJfa4mO5JjV9Tz2aAxE2M', 'id': '4jJfa4mO5JjV9Tz2aAxE2M', 'is_local': False, 'is_playable': True, 'name': 'Supersonic - Remastered', 'popularity': 63, 'preview_url': 'https://p.scdn.co/mp3-preview/053f70565369fef1b31af134d7b106fa07b8c9bc?cid=96d4ef65e35f4943887b0d609f77ec05', 'track_number': 6, 'type': 'track', 'uri': 'spotify:track:4jJfa4mO5JjV9Tz2aAxE2M'}, {'album': {'album_type': 'album', 'artists': [{'external_urls': {'spotify': 'https://open.spotify.com/artist/2DaxqgrOhkeH0fpeiQq2f4'}, 'href': 'https://api.spotify.com/v1/artists/2DaxqgrOhkeH0fpeiQq2f4', 'id': '2DaxqgrOhkeH0fpeiQq2f4', 'name': 'Oasis', 'type': 'artist', 'uri': 'spotify:artist:2DaxqgrOhkeH0fpeiQq2f4'}], 'external_urls': {'spotify': 'https://open.spotify.com/album/3AMHMM2aNG6k3d7ybcQ5bY'}, 'href': 'https://api.spotify.com/v1/albums/3AMHMM2aNG6k3d7ybcQ5bY', 'id': '3AMHMM2aNG6k3d7ybcQ5bY', 'images': [{'height': 640, 'url': 'https://i.scdn.co/image/ab67616d0000b273d86a1e021e7acc7c07c7d668', 'width': 640}, {'height': 300, 'url': 'https://i.scdn.co/image/ab67616d00001e02d86a1e021e7acc7c07c7d668', 'width': 300}, {'height': 64, 'url': 'https://i.scdn.co/image/ab67616d00004851d86a1e021e7acc7c07c7d668', 'width': 64}], 'name': 'Definitely Maybe (Deluxe Edition Remastered)', 'release_date': '1994', 'release_date_precision': 'year', 'total_tracks': 44, 'type': 'album', 'uri': 'spotify:album:3AMHMM2aNG6k3d7ybcQ5bY'}, 'artists': [{'external_urls': {'spotify': 'https://open.spotify.com/artist/2DaxqgrOhkeH0fpeiQq2f4'}, 'href': 'https://api.spotify.com/v1/artists/2DaxqgrOhkeH0fpeiQq2f4', 'id': '2DaxqgrOhkeH0fpeiQq2f4', 'name': 'Oasis', 'type': 'artist', 'uri': 'spotify:artist:2DaxqgrOhkeH0fpeiQq2f4'}], 'disc_number': 2, 'duration_ms': 267333, 'explicit': False, 'external_ids': {'isrc': 'GBQCP1400035'}, 'external_urls': {'spotify': 'https://open.spotify.com/track/0if8wueNrAVLfwSH7l1ANJ'}, 'href': 'https://api.spotify.com/v1/tracks/0if8wueNrAVLfwSH7l1ANJ', 'id': '0if8wueNrAVLfwSH7l1ANJ', 'is_local': False, 'is_playable': True, 'name': 'Half The World Away - Remastered', 'popularity': 62, 'preview_url': 'https://p.scdn.co/mp3-preview/b0651e60e202d8259316e98c09bb9a9ed9218370?cid=96d4ef65e35f4943887b0d609f77ec05', 'track_number': 16, 'type': 'track', 'uri': 'spotify:track:0if8wueNrAVLfwSH7l1ANJ'}, {'album': {'album_type': 'album', 'artists': [{'external_urls': {'spotify': 'https://open.spotify.com/artist/2DaxqgrOhkeH0fpeiQq2f4'}, 'href': 'https://api.spotify.com/v1/artists/2DaxqgrOhkeH0fpeiQq2f4', 'id': '2DaxqgrOhkeH0fpeiQq2f4', 'name': 'Oasis', 'type': 'artist', 'uri': 'spotify:artist:2DaxqgrOhkeH0fpeiQq2f4'}], 'external_urls': {'spotify': 'https://open.spotify.com/album/6tOe4eAF8xNhEkl9WyvsE4'}, 'href': 'https://api.spotify.com/v1/albums/6tOe4eAF8xNhEkl9WyvsE4', 'id': '6tOe4eAF8xNhEkl9WyvsE4', 'images': [{'height': 640, 'url': 'https://i.scdn.co/image/ab67616d0000b2737a4c8c59851c88f6794c3cbf', 'width': 640}, {'height': 300, 'url': 'https://i.scdn.co/image/ab67616d00001e027a4c8c59851c88f6794c3cbf', 'width': 300}, {'height': 64, 'url': 'https://i.scdn.co/image/ab67616d000048517a4c8c59851c88f6794c3cbf', 'width': 64}], 'name': \"(What's The Story) Morning Glory? (Deluxe Remastered Edition)\", 'release_date': '1995', 'release_date_precision': 'year', 'total_tracks': 40, 'type': 'album', 'uri': 'spotify:album:6tOe4eAF8xNhEkl9WyvsE4'}, 'artists': [{'external_urls': {'spotify': 'https://open.spotify.com/artist/2DaxqgrOhkeH0fpeiQq2f4'}, 'href': 'https://api.spotify.com/v1/artists/2DaxqgrOhkeH0fpeiQq2f4', 'id': '2DaxqgrOhkeH0fpeiQq2f4', 'name': 'Oasis', 'type': 'artist', 'uri': 'spotify:artist:2DaxqgrOhkeH0fpeiQq2f4'}], 'disc_number': 1, 'duration_ms': 220920, 'explicit': False, 'external_ids': {'isrc': 'GBQCP1400115'}, 'external_urls': {'spotify': 'https://open.spotify.com/track/60QLLec3yKDwloXCyummPy'}, 'href': 'https://api.spotify.com/v1/tracks/60QLLec3yKDwloXCyummPy', 'id': '60QLLec3yKDwloXCyummPy', 'is_local': False, 'is_playable': True, 'name': \"She's Electric - Remastered\", 'popularity': 62, 'preview_url': 'https://p.scdn.co/mp3-preview/b30f41358af232974b8b01d9c0a4cbabd20ad897?cid=96d4ef65e35f4943887b0d609f77ec05', 'track_number': 9, 'type': 'track', 'uri': 'spotify:track:60QLLec3yKDwloXCyummPy'}, {'album': {'album_type': 'album', 'artists': [{'external_urls': {'spotify': 'https://open.spotify.com/artist/2DaxqgrOhkeH0fpeiQq2f4'}, 'href': 'https://api.spotify.com/v1/artists/2DaxqgrOhkeH0fpeiQq2f4', 'id': '2DaxqgrOhkeH0fpeiQq2f4', 'name': 'Oasis', 'type': 'artist', 'uri': 'spotify:artist:2DaxqgrOhkeH0fpeiQq2f4'}], 'external_urls': {'spotify': 'https://open.spotify.com/album/4XBCWqCXqCdN72K9SklIjy'}, 'href': 'https://api.spotify.com/v1/albums/4XBCWqCXqCdN72K9SklIjy', 'id': '4XBCWqCXqCdN72K9SklIjy', 'images': [{'height': 640, 'url': 'https://i.scdn.co/image/ab67616d0000b273aeda362a434f01d0eff70b4e', 'width': 640}, {'height': 300, 'url': 'https://i.scdn.co/image/ab67616d00001e02aeda362a434f01d0eff70b4e', 'width': 300}, {'height': 64, 'url': 'https://i.scdn.co/image/ab67616d00004851aeda362a434f01d0eff70b4e', 'width': 64}], 'name': 'Be Here Now (Deluxe Remastered Edition)', 'release_date': '1997', 'release_date_precision': 'year', 'total_tracks': 40, 'type': 'album', 'uri': 'spotify:album:4XBCWqCXqCdN72K9SklIjy'}, 'artists': [{'external_urls': {'spotify': 'https://open.spotify.com/artist/2DaxqgrOhkeH0fpeiQq2f4'}, 'href': 'https://api.spotify.com/v1/artists/2DaxqgrOhkeH0fpeiQq2f4', 'id': '2DaxqgrOhkeH0fpeiQq2f4', 'name': 'Oasis', 'type': 'artist', 'uri': 'spotify:artist:2DaxqgrOhkeH0fpeiQq2f4'}], 'disc_number': 1, 'duration_ms': 355866, 'explicit': False, 'external_ids': {'isrc': 'GBQCP1600012'}, 'external_urls': {'spotify': 'https://open.spotify.com/track/5WTPhYmwwojFP73O7p3Izi'}, 'href': 'https://api.spotify.com/v1/tracks/5WTPhYmwwojFP73O7p3Izi', 'id': '5WTPhYmwwojFP73O7p3Izi', 'is_local': False, 'is_playable': True, 'name': 'Stand By Me - Remastered', 'popularity': 60, 'preview_url': 'https://p.scdn.co/mp3-preview/11f0fd6e26cf2970ae2b55c6f1715ea1a50f2f8b?cid=96d4ef65e35f4943887b0d609f77ec05', 'track_number': 4, 'type': 'track', 'uri': 'spotify:track:5WTPhYmwwojFP73O7p3Izi'}, {'album': {'album_type': 'album', 'artists': [{'external_urls': {'spotify': 'https://open.spotify.com/artist/2DaxqgrOhkeH0fpeiQq2f4'}, 'href': 'https://api.spotify.com/v1/artists/2DaxqgrOhkeH0fpeiQq2f4', 'id': '2DaxqgrOhkeH0fpeiQq2f4', 'name': 'Oasis', 'type': 'artist', 'uri': 'spotify:artist:2DaxqgrOhkeH0fpeiQq2f4'}], 'external_urls': {'spotify': 'https://open.spotify.com/album/2EVWJRhbXWsSm7a6jdKv8O'}, 'href': 'https://api.spotify.com/v1/albums/2EVWJRhbXWsSm7a6jdKv8O', 'id': '2EVWJRhbXWsSm7a6jdKv8O', 'images': [{'height': 640, 'url': 'https://i.scdn.co/image/ab67616d0000b273bd14866d69108524bc32fb37', 'width': 640}, {'height': 300, 'url': 'https://i.scdn.co/image/ab67616d00001e02bd14866d69108524bc32fb37', 'width': 300}, {'height': 64, 'url': 'https://i.scdn.co/image/ab67616d00004851bd14866d69108524bc32fb37', 'width': 64}], 'name': 'Heathen Chemistry', 'release_date': '2002-07-01', 'release_date_precision': 'day', 'total_tracks': 11, 'type': 'album', 'uri': 'spotify:album:2EVWJRhbXWsSm7a6jdKv8O'}, 'artists': [{'external_urls': {'spotify': 'https://open.spotify.com/artist/2DaxqgrOhkeH0fpeiQq2f4'}, 'href': 'https://api.spotify.com/v1/artists/2DaxqgrOhkeH0fpeiQq2f4', 'id': '2DaxqgrOhkeH0fpeiQq2f4', 'name': 'Oasis', 'type': 'artist', 'uri': 'spotify:artist:2DaxqgrOhkeH0fpeiQq2f4'}], 'disc_number': 1, 'duration_ms': 127600, 'explicit': False, 'external_ids': {'isrc': 'GBBQY0202036'}, 'external_urls': {'spotify': 'https://open.spotify.com/track/2tBxJ43XiwEzhf7Xalc5UG'}, 'href': 'https://api.spotify.com/v1/tracks/2tBxJ43XiwEzhf7Xalc5UG', 'id': '2tBxJ43XiwEzhf7Xalc5UG', 'is_local': False, 'is_playable': True, 'name': 'Songbird', 'popularity': 60, 'preview_url': 'https://p.scdn.co/mp3-preview/a2d105ef5f822288a5623834c537fe1f73dd1409?cid=96d4ef65e35f4943887b0d609f77ec05', 'track_number': 5, 'type': 'track', 'uri': 'spotify:track:2tBxJ43XiwEzhf7Xalc5UG'}]}\n",
            "{'tracks': [{'album': {'album_type': 'album', 'artists': [{'external_urls': {'spotify': 'https://open.spotify.com/artist/7M1FPw29m5FbicYzS2xdpi'}, 'href': 'https://api.spotify.com/v1/artists/7M1FPw29m5FbicYzS2xdpi', 'id': '7M1FPw29m5FbicYzS2xdpi', 'name': 'King Crimson', 'type': 'artist', 'uri': 'spotify:artist:7M1FPw29m5FbicYzS2xdpi'}], 'external_urls': {'spotify': 'https://open.spotify.com/album/6tVg2Wl9hVKMpHYcAl2V2M'}, 'href': 'https://api.spotify.com/v1/albums/6tVg2Wl9hVKMpHYcAl2V2M', 'id': '6tVg2Wl9hVKMpHYcAl2V2M', 'images': [{'height': 640, 'url': 'https://i.scdn.co/image/ab67616d0000b27346d124df5651c307aee255fd', 'width': 640}, {'height': 300, 'url': 'https://i.scdn.co/image/ab67616d00001e0246d124df5651c307aee255fd', 'width': 300}, {'height': 64, 'url': 'https://i.scdn.co/image/ab67616d0000485146d124df5651c307aee255fd', 'width': 64}], 'name': 'In The Court Of The Crimson King (Expanded & Remastered Original Album Mix)', 'release_date': '1969-10-10', 'release_date_precision': 'day', 'total_tracks': 8, 'type': 'album', 'uri': 'spotify:album:6tVg2Wl9hVKMpHYcAl2V2M'}, 'artists': [{'external_urls': {'spotify': 'https://open.spotify.com/artist/7M1FPw29m5FbicYzS2xdpi'}, 'href': 'https://api.spotify.com/v1/artists/7M1FPw29m5FbicYzS2xdpi', 'id': '7M1FPw29m5FbicYzS2xdpi', 'name': 'King Crimson', 'type': 'artist', 'uri': 'spotify:artist:7M1FPw29m5FbicYzS2xdpi'}], 'disc_number': 1, 'duration_ms': 442580, 'explicit': False, 'external_ids': {'isrc': 'GBCTX1400800'}, 'external_urls': {'spotify': 'https://open.spotify.com/track/5L7VBYoosmkmiiDlzumdCe'}, 'href': 'https://api.spotify.com/v1/tracks/5L7VBYoosmkmiiDlzumdCe', 'id': '5L7VBYoosmkmiiDlzumdCe', 'is_local': False, 'is_playable': True, 'name': '21st Century Schizoid Man - Including \"Mirrors\"', 'popularity': 57, 'preview_url': 'https://p.scdn.co/mp3-preview/97b520afd92488b9c804937af1a20b5dae2dfbbb?cid=96d4ef65e35f4943887b0d609f77ec05', 'track_number': 1, 'type': 'track', 'uri': 'spotify:track:5L7VBYoosmkmiiDlzumdCe'}, {'album': {'album_type': 'album', 'artists': [{'external_urls': {'spotify': 'https://open.spotify.com/artist/7M1FPw29m5FbicYzS2xdpi'}, 'href': 'https://api.spotify.com/v1/artists/7M1FPw29m5FbicYzS2xdpi', 'id': '7M1FPw29m5FbicYzS2xdpi', 'name': 'King Crimson', 'type': 'artist', 'uri': 'spotify:artist:7M1FPw29m5FbicYzS2xdpi'}], 'external_urls': {'spotify': 'https://open.spotify.com/album/6tVg2Wl9hVKMpHYcAl2V2M'}, 'href': 'https://api.spotify.com/v1/albums/6tVg2Wl9hVKMpHYcAl2V2M', 'id': '6tVg2Wl9hVKMpHYcAl2V2M', 'images': [{'height': 640, 'url': 'https://i.scdn.co/image/ab67616d0000b27346d124df5651c307aee255fd', 'width': 640}, {'height': 300, 'url': 'https://i.scdn.co/image/ab67616d00001e0246d124df5651c307aee255fd', 'width': 300}, {'height': 64, 'url': 'https://i.scdn.co/image/ab67616d0000485146d124df5651c307aee255fd', 'width': 64}], 'name': 'In The Court Of The Crimson King (Expanded & Remastered Original Album Mix)', 'release_date': '1969-10-10', 'release_date_precision': 'day', 'total_tracks': 8, 'type': 'album', 'uri': 'spotify:album:6tVg2Wl9hVKMpHYcAl2V2M'}, 'artists': [{'external_urls': {'spotify': 'https://open.spotify.com/artist/7M1FPw29m5FbicYzS2xdpi'}, 'href': 'https://api.spotify.com/v1/artists/7M1FPw29m5FbicYzS2xdpi', 'id': '7M1FPw29m5FbicYzS2xdpi', 'name': 'King Crimson', 'type': 'artist', 'uri': 'spotify:artist:7M1FPw29m5FbicYzS2xdpi'}], 'disc_number': 1, 'duration_ms': 365659, 'explicit': False, 'external_ids': {'isrc': 'GBCTX1400801'}, 'external_urls': {'spotify': 'https://open.spotify.com/track/4QbpagjMCqSECj6IimTL2n'}, 'href': 'https://api.spotify.com/v1/tracks/4QbpagjMCqSECj6IimTL2n', 'id': '4QbpagjMCqSECj6IimTL2n', 'is_local': False, 'is_playable': True, 'name': 'I Talk To The Wind', 'popularity': 54, 'preview_url': 'https://p.scdn.co/mp3-preview/30f27100e9eee41ecd68e40b33a8c6ff95f94756?cid=96d4ef65e35f4943887b0d609f77ec05', 'track_number': 2, 'type': 'track', 'uri': 'spotify:track:4QbpagjMCqSECj6IimTL2n'}, {'album': {'album_type': 'album', 'artists': [{'external_urls': {'spotify': 'https://open.spotify.com/artist/7M1FPw29m5FbicYzS2xdpi'}, 'href': 'https://api.spotify.com/v1/artists/7M1FPw29m5FbicYzS2xdpi', 'id': '7M1FPw29m5FbicYzS2xdpi', 'name': 'King Crimson', 'type': 'artist', 'uri': 'spotify:artist:7M1FPw29m5FbicYzS2xdpi'}], 'external_urls': {'spotify': 'https://open.spotify.com/album/6tVg2Wl9hVKMpHYcAl2V2M'}, 'href': 'https://api.spotify.com/v1/albums/6tVg2Wl9hVKMpHYcAl2V2M', 'id': '6tVg2Wl9hVKMpHYcAl2V2M', 'images': [{'height': 640, 'url': 'https://i.scdn.co/image/ab67616d0000b27346d124df5651c307aee255fd', 'width': 640}, {'height': 300, 'url': 'https://i.scdn.co/image/ab67616d00001e0246d124df5651c307aee255fd', 'width': 300}, {'height': 64, 'url': 'https://i.scdn.co/image/ab67616d0000485146d124df5651c307aee255fd', 'width': 64}], 'name': 'In The Court Of The Crimson King (Expanded & Remastered Original Album Mix)', 'release_date': '1969-10-10', 'release_date_precision': 'day', 'total_tracks': 8, 'type': 'album', 'uri': 'spotify:album:6tVg2Wl9hVKMpHYcAl2V2M'}, 'artists': [{'external_urls': {'spotify': 'https://open.spotify.com/artist/7M1FPw29m5FbicYzS2xdpi'}, 'href': 'https://api.spotify.com/v1/artists/7M1FPw29m5FbicYzS2xdpi', 'id': '7M1FPw29m5FbicYzS2xdpi', 'name': 'King Crimson', 'type': 'artist', 'uri': 'spotify:artist:7M1FPw29m5FbicYzS2xdpi'}], 'disc_number': 1, 'duration_ms': 602530, 'explicit': False, 'external_ids': {'isrc': 'GBCTX1400804'}, 'external_urls': {'spotify': 'https://open.spotify.com/track/05xYoVj6QuFk0U7PVl5Tf2'}, 'href': 'https://api.spotify.com/v1/tracks/05xYoVj6QuFk0U7PVl5Tf2', 'id': '05xYoVj6QuFk0U7PVl5Tf2', 'is_local': False, 'is_playable': True, 'name': 'The Court Of The Crimson King - Including \"The Return of the Fire Witch\" and \"The Dance of the Puppets\"', 'popularity': 54, 'preview_url': 'https://p.scdn.co/mp3-preview/b04274974351221d453e501cffe2685d53e54952?cid=96d4ef65e35f4943887b0d609f77ec05', 'track_number': 5, 'type': 'track', 'uri': 'spotify:track:05xYoVj6QuFk0U7PVl5Tf2'}, {'album': {'album_type': 'album', 'artists': [{'external_urls': {'spotify': 'https://open.spotify.com/artist/7M1FPw29m5FbicYzS2xdpi'}, 'href': 'https://api.spotify.com/v1/artists/7M1FPw29m5FbicYzS2xdpi', 'id': '7M1FPw29m5FbicYzS2xdpi', 'name': 'King Crimson', 'type': 'artist', 'uri': 'spotify:artist:7M1FPw29m5FbicYzS2xdpi'}], 'external_urls': {'spotify': 'https://open.spotify.com/album/6tVg2Wl9hVKMpHYcAl2V2M'}, 'href': 'https://api.spotify.com/v1/albums/6tVg2Wl9hVKMpHYcAl2V2M', 'id': '6tVg2Wl9hVKMpHYcAl2V2M', 'images': [{'height': 640, 'url': 'https://i.scdn.co/image/ab67616d0000b27346d124df5651c307aee255fd', 'width': 640}, {'height': 300, 'url': 'https://i.scdn.co/image/ab67616d00001e0246d124df5651c307aee255fd', 'width': 300}, {'height': 64, 'url': 'https://i.scdn.co/image/ab67616d0000485146d124df5651c307aee255fd', 'width': 64}], 'name': 'In The Court Of The Crimson King (Expanded & Remastered Original Album Mix)', 'release_date': '1969-10-10', 'release_date_precision': 'day', 'total_tracks': 8, 'type': 'album', 'uri': 'spotify:album:6tVg2Wl9hVKMpHYcAl2V2M'}, 'artists': [{'external_urls': {'spotify': 'https://open.spotify.com/artist/7M1FPw29m5FbicYzS2xdpi'}, 'href': 'https://api.spotify.com/v1/artists/7M1FPw29m5FbicYzS2xdpi', 'id': '7M1FPw29m5FbicYzS2xdpi', 'name': 'King Crimson', 'type': 'artist', 'uri': 'spotify:artist:7M1FPw29m5FbicYzS2xdpi'}], 'disc_number': 1, 'duration_ms': 526822, 'explicit': False, 'external_ids': {'isrc': 'GBCTX1400802'}, 'external_urls': {'spotify': 'https://open.spotify.com/track/247cPctDZ6s7hoNT8iKUtN'}, 'href': 'https://api.spotify.com/v1/tracks/247cPctDZ6s7hoNT8iKUtN', 'id': '247cPctDZ6s7hoNT8iKUtN', 'is_local': False, 'is_playable': True, 'name': 'Epitaph - Including \"March for No Reason\" and \"Tomorrow and Tomorrow\"', 'popularity': 54, 'preview_url': 'https://p.scdn.co/mp3-preview/0ab4294a1d77d7a4b528898b316ad9a9d0336178?cid=96d4ef65e35f4943887b0d609f77ec05', 'track_number': 3, 'type': 'track', 'uri': 'spotify:track:247cPctDZ6s7hoNT8iKUtN'}, {'album': {'album_type': 'album', 'artists': [{'external_urls': {'spotify': 'https://open.spotify.com/artist/7M1FPw29m5FbicYzS2xdpi'}, 'href': 'https://api.spotify.com/v1/artists/7M1FPw29m5FbicYzS2xdpi', 'id': '7M1FPw29m5FbicYzS2xdpi', 'name': 'King Crimson', 'type': 'artist', 'uri': 'spotify:artist:7M1FPw29m5FbicYzS2xdpi'}], 'external_urls': {'spotify': 'https://open.spotify.com/album/4VKzYj7REUxkP1VXTdvSoV'}, 'href': 'https://api.spotify.com/v1/albums/4VKzYj7REUxkP1VXTdvSoV', 'id': '4VKzYj7REUxkP1VXTdvSoV', 'images': [{'height': 640, 'url': 'https://i.scdn.co/image/ab67616d0000b273a3580595cf9ef6ef46ba1566', 'width': 640}, {'height': 300, 'url': 'https://i.scdn.co/image/ab67616d00001e02a3580595cf9ef6ef46ba1566', 'width': 300}, {'height': 64, 'url': 'https://i.scdn.co/image/ab67616d00004851a3580595cf9ef6ef46ba1566', 'width': 64}], 'name': \"Larks' Tongues In Aspic (Expanded & Remastered Original Album Mix)\", 'release_date': '1973-01-01', 'release_date_precision': 'day', 'total_tracks': 8, 'type': 'album', 'uri': 'spotify:album:4VKzYj7REUxkP1VXTdvSoV'}, 'artists': [{'external_urls': {'spotify': 'https://open.spotify.com/artist/7M1FPw29m5FbicYzS2xdpi'}, 'href': 'https://api.spotify.com/v1/artists/7M1FPw29m5FbicYzS2xdpi', 'id': '7M1FPw29m5FbicYzS2xdpi', 'name': 'King Crimson', 'type': 'artist', 'uri': 'spotify:artist:7M1FPw29m5FbicYzS2xdpi'}], 'disc_number': 1, 'duration_ms': 175720, 'explicit': False, 'external_ids': {'isrc': 'GBCTX1400809'}, 'external_urls': {'spotify': 'https://open.spotify.com/track/1B0cZZLVgAxDYzMNnsZDuF'}, 'href': 'https://api.spotify.com/v1/tracks/1B0cZZLVgAxDYzMNnsZDuF', 'id': '1B0cZZLVgAxDYzMNnsZDuF', 'is_local': False, 'is_playable': True, 'name': 'Book Of Saturday', 'popularity': 52, 'preview_url': 'https://p.scdn.co/mp3-preview/38e55c636c1cac26b9fdad580f6806c39a8efa25?cid=96d4ef65e35f4943887b0d609f77ec05', 'track_number': 2, 'type': 'track', 'uri': 'spotify:track:1B0cZZLVgAxDYzMNnsZDuF'}, {'album': {'album_type': 'album', 'artists': [{'external_urls': {'spotify': 'https://open.spotify.com/artist/7M1FPw29m5FbicYzS2xdpi'}, 'href': 'https://api.spotify.com/v1/artists/7M1FPw29m5FbicYzS2xdpi', 'id': '7M1FPw29m5FbicYzS2xdpi', 'name': 'King Crimson', 'type': 'artist', 'uri': 'spotify:artist:7M1FPw29m5FbicYzS2xdpi'}], 'external_urls': {'spotify': 'https://open.spotify.com/album/13dGZzRzFoejmyVXAbTPAH'}, 'href': 'https://api.spotify.com/v1/albums/13dGZzRzFoejmyVXAbTPAH', 'id': '13dGZzRzFoejmyVXAbTPAH', 'images': [{'height': 640, 'url': 'https://i.scdn.co/image/ab67616d0000b2730960f0681fc6e31fdc55cc43', 'width': 640}, {'height': 300, 'url': 'https://i.scdn.co/image/ab67616d00001e020960f0681fc6e31fdc55cc43', 'width': 300}, {'height': 64, 'url': 'https://i.scdn.co/image/ab67616d000048510960f0681fc6e31fdc55cc43', 'width': 64}], 'name': 'Red (Expanded & Remastered Original Album Mix)', 'release_date': '1974-01-01', 'release_date_precision': 'day', 'total_tracks': 8, 'type': 'album', 'uri': 'spotify:album:13dGZzRzFoejmyVXAbTPAH'}, 'artists': [{'external_urls': {'spotify': 'https://open.spotify.com/artist/7M1FPw29m5FbicYzS2xdpi'}, 'href': 'https://api.spotify.com/v1/artists/7M1FPw29m5FbicYzS2xdpi', 'id': '7M1FPw29m5FbicYzS2xdpi', 'name': 'King Crimson', 'type': 'artist', 'uri': 'spotify:artist:7M1FPw29m5FbicYzS2xdpi'}], 'disc_number': 1, 'duration_ms': 744568, 'explicit': False, 'external_ids': {'isrc': 'GBCTX1400820'}, 'external_urls': {'spotify': 'https://open.spotify.com/track/2gLJXznQp4kGsVz8BptfHS'}, 'href': 'https://api.spotify.com/v1/tracks/2gLJXznQp4kGsVz8BptfHS', 'id': '2gLJXznQp4kGsVz8BptfHS', 'is_local': False, 'is_playable': True, 'name': 'Starless', 'popularity': 49, 'preview_url': 'https://p.scdn.co/mp3-preview/c198a371ea193e13f1ce86f85d0a74ba7d9f2f47?cid=96d4ef65e35f4943887b0d609f77ec05', 'track_number': 5, 'type': 'track', 'uri': 'spotify:track:2gLJXznQp4kGsVz8BptfHS'}, {'album': {'album_type': 'album', 'artists': [{'external_urls': {'spotify': 'https://open.spotify.com/artist/7M1FPw29m5FbicYzS2xdpi'}, 'href': 'https://api.spotify.com/v1/artists/7M1FPw29m5FbicYzS2xdpi', 'id': '7M1FPw29m5FbicYzS2xdpi', 'name': 'King Crimson', 'type': 'artist', 'uri': 'spotify:artist:7M1FPw29m5FbicYzS2xdpi'}], 'external_urls': {'spotify': 'https://open.spotify.com/album/6tVg2Wl9hVKMpHYcAl2V2M'}, 'href': 'https://api.spotify.com/v1/albums/6tVg2Wl9hVKMpHYcAl2V2M', 'id': '6tVg2Wl9hVKMpHYcAl2V2M', 'images': [{'height': 640, 'url': 'https://i.scdn.co/image/ab67616d0000b27346d124df5651c307aee255fd', 'width': 640}, {'height': 300, 'url': 'https://i.scdn.co/image/ab67616d00001e0246d124df5651c307aee255fd', 'width': 300}, {'height': 64, 'url': 'https://i.scdn.co/image/ab67616d0000485146d124df5651c307aee255fd', 'width': 64}], 'name': 'In The Court Of The Crimson King (Expanded & Remastered Original Album Mix)', 'release_date': '1969-10-10', 'release_date_precision': 'day', 'total_tracks': 8, 'type': 'album', 'uri': 'spotify:album:6tVg2Wl9hVKMpHYcAl2V2M'}, 'artists': [{'external_urls': {'spotify': 'https://open.spotify.com/artist/7M1FPw29m5FbicYzS2xdpi'}, 'href': 'https://api.spotify.com/v1/artists/7M1FPw29m5FbicYzS2xdpi', 'id': '7M1FPw29m5FbicYzS2xdpi', 'name': 'King Crimson', 'type': 'artist', 'uri': 'spotify:artist:7M1FPw29m5FbicYzS2xdpi'}], 'disc_number': 1, 'duration_ms': 732807, 'explicit': False, 'external_ids': {'isrc': 'GBCTX1400803'}, 'external_urls': {'spotify': 'https://open.spotify.com/track/32GKpDMBMNQI3FdXlFFsMD'}, 'href': 'https://api.spotify.com/v1/tracks/32GKpDMBMNQI3FdXlFFsMD', 'id': '32GKpDMBMNQI3FdXlFFsMD', 'is_local': False, 'is_playable': True, 'name': 'Moonchild - Including \"The Dream\" and \"The Illusion\"', 'popularity': 47, 'preview_url': 'https://p.scdn.co/mp3-preview/6f6e564c27319619edb4075d310311cf99c56d76?cid=96d4ef65e35f4943887b0d609f77ec05', 'track_number': 4, 'type': 'track', 'uri': 'spotify:track:32GKpDMBMNQI3FdXlFFsMD'}, {'album': {'album_type': 'album', 'artists': [{'external_urls': {'spotify': 'https://open.spotify.com/artist/7M1FPw29m5FbicYzS2xdpi'}, 'href': 'https://api.spotify.com/v1/artists/7M1FPw29m5FbicYzS2xdpi', 'id': '7M1FPw29m5FbicYzS2xdpi', 'name': 'King Crimson', 'type': 'artist', 'uri': 'spotify:artist:7M1FPw29m5FbicYzS2xdpi'}], 'external_urls': {'spotify': 'https://open.spotify.com/album/4dgsjsPIogKXhFlPZSYjvT'}, 'href': 'https://api.spotify.com/v1/albums/4dgsjsPIogKXhFlPZSYjvT', 'id': '4dgsjsPIogKXhFlPZSYjvT', 'images': [{'height': 640, 'url': 'https://i.scdn.co/image/ab67616d0000b273e76e3b1e100a5a5a054a3130', 'width': 640}, {'height': 300, 'url': 'https://i.scdn.co/image/ab67616d00001e02e76e3b1e100a5a5a054a3130', 'width': 300}, {'height': 64, 'url': 'https://i.scdn.co/image/ab67616d00004851e76e3b1e100a5a5a054a3130', 'width': 64}], 'name': 'In The Wake Of Poseidon', 'release_date': '1970', 'release_date_precision': 'year', 'total_tracks': 11, 'type': 'album', 'uri': 'spotify:album:4dgsjsPIogKXhFlPZSYjvT'}, 'artists': [{'external_urls': {'spotify': 'https://open.spotify.com/artist/7M1FPw29m5FbicYzS2xdpi'}, 'href': 'https://api.spotify.com/v1/artists/7M1FPw29m5FbicYzS2xdpi', 'id': '7M1FPw29m5FbicYzS2xdpi', 'name': 'King Crimson', 'type': 'artist', 'uri': 'spotify:artist:7M1FPw29m5FbicYzS2xdpi'}], 'disc_number': 1, 'duration_ms': 75103, 'explicit': False, 'external_ids': {'isrc': 'GBCTX1500268'}, 'external_urls': {'spotify': 'https://open.spotify.com/track/2vaWYMsPV9xSYy4wAQ5dcJ'}, 'href': 'https://api.spotify.com/v1/tracks/2vaWYMsPV9xSYy4wAQ5dcJ', 'id': '2vaWYMsPV9xSYy4wAQ5dcJ', 'is_local': False, 'is_playable': True, 'name': 'Peace - A Theme', 'popularity': 45, 'preview_url': 'https://p.scdn.co/mp3-preview/45aaa5bf3e90f56874c0d21f9eea2edbd64acee7?cid=96d4ef65e35f4943887b0d609f77ec05', 'track_number': 5, 'type': 'track', 'uri': 'spotify:track:2vaWYMsPV9xSYy4wAQ5dcJ'}, {'album': {'album_type': 'album', 'artists': [{'external_urls': {'spotify': 'https://open.spotify.com/artist/7M1FPw29m5FbicYzS2xdpi'}, 'href': 'https://api.spotify.com/v1/artists/7M1FPw29m5FbicYzS2xdpi', 'id': '7M1FPw29m5FbicYzS2xdpi', 'name': 'King Crimson', 'type': 'artist', 'uri': 'spotify:artist:7M1FPw29m5FbicYzS2xdpi'}], 'external_urls': {'spotify': 'https://open.spotify.com/album/3qgsEHi1mqPubkwk8UA33Q'}, 'href': 'https://api.spotify.com/v1/albums/3qgsEHi1mqPubkwk8UA33Q', 'id': '3qgsEHi1mqPubkwk8UA33Q', 'images': [{'height': 640, 'url': 'https://i.scdn.co/image/ab67616d0000b273932bf9ad4073f492ef7295c8', 'width': 640}, {'height': 300, 'url': 'https://i.scdn.co/image/ab67616d00001e02932bf9ad4073f492ef7295c8', 'width': 300}, {'height': 64, 'url': 'https://i.scdn.co/image/ab67616d00004851932bf9ad4073f492ef7295c8', 'width': 64}], 'name': 'THRAK', 'release_date': '1995-01-01', 'release_date_precision': 'day', 'total_tracks': 16, 'type': 'album', 'uri': 'spotify:album:3qgsEHi1mqPubkwk8UA33Q'}, 'artists': [{'external_urls': {'spotify': 'https://open.spotify.com/artist/7M1FPw29m5FbicYzS2xdpi'}, 'href': 'https://api.spotify.com/v1/artists/7M1FPw29m5FbicYzS2xdpi', 'id': '7M1FPw29m5FbicYzS2xdpi', 'name': 'King Crimson', 'type': 'artist', 'uri': 'spotify:artist:7M1FPw29m5FbicYzS2xdpi'}], 'disc_number': 1, 'duration_ms': 277987, 'explicit': False, 'external_ids': {'isrc': 'GBCTX1600040'}, 'external_urls': {'spotify': 'https://open.spotify.com/track/0LHqC4FmgTVusInNrImgrJ'}, 'href': 'https://api.spotify.com/v1/tracks/0LHqC4FmgTVusInNrImgrJ', 'id': '0LHqC4FmgTVusInNrImgrJ', 'is_local': False, 'is_playable': True, 'name': 'Walking On Air', 'popularity': 45, 'preview_url': 'https://p.scdn.co/mp3-preview/56e354d55887d90c0593574e9b16d5d3146945a1?cid=96d4ef65e35f4943887b0d609f77ec05', 'track_number': 4, 'type': 'track', 'uri': 'spotify:track:0LHqC4FmgTVusInNrImgrJ'}, {'album': {'album_type': 'album', 'artists': [{'external_urls': {'spotify': 'https://open.spotify.com/artist/7M1FPw29m5FbicYzS2xdpi'}, 'href': 'https://api.spotify.com/v1/artists/7M1FPw29m5FbicYzS2xdpi', 'id': '7M1FPw29m5FbicYzS2xdpi', 'name': 'King Crimson', 'type': 'artist', 'uri': 'spotify:artist:7M1FPw29m5FbicYzS2xdpi'}], 'external_urls': {'spotify': 'https://open.spotify.com/album/0lsSMm3rM4AQ3m9W9E8zU5'}, 'href': 'https://api.spotify.com/v1/albums/0lsSMm3rM4AQ3m9W9E8zU5', 'id': '0lsSMm3rM4AQ3m9W9E8zU5', 'images': [{'height': 640, 'url': 'https://i.scdn.co/image/ab67616d0000b27393f06a68893068838f7f9007', 'width': 640}, {'height': 300, 'url': 'https://i.scdn.co/image/ab67616d00001e0293f06a68893068838f7f9007', 'width': 300}, {'height': 64, 'url': 'https://i.scdn.co/image/ab67616d0000485193f06a68893068838f7f9007', 'width': 64}], 'name': 'Three of a Perfect Pair', 'release_date': '1984-01-01', 'release_date_precision': 'day', 'total_tracks': 15, 'type': 'album', 'uri': 'spotify:album:0lsSMm3rM4AQ3m9W9E8zU5'}, 'artists': [{'external_urls': {'spotify': 'https://open.spotify.com/artist/7M1FPw29m5FbicYzS2xdpi'}, 'href': 'https://api.spotify.com/v1/artists/7M1FPw29m5FbicYzS2xdpi', 'id': '7M1FPw29m5FbicYzS2xdpi', 'name': 'King Crimson', 'type': 'artist', 'uri': 'spotify:artist:7M1FPw29m5FbicYzS2xdpi'}], 'disc_number': 1, 'duration_ms': 250786, 'explicit': False, 'external_ids': {'isrc': 'GBCTX1600022'}, 'external_urls': {'spotify': 'https://open.spotify.com/track/2uvcrYDLTIUoqZ3ddg6Oew'}, 'href': 'https://api.spotify.com/v1/tracks/2uvcrYDLTIUoqZ3ddg6Oew', 'id': '2uvcrYDLTIUoqZ3ddg6Oew', 'is_local': False, 'is_playable': True, 'name': 'Three of a Perfect Pair', 'popularity': 44, 'preview_url': 'https://p.scdn.co/mp3-preview/6b438b655af2e98e46b81c00a9d5f06c378ba2a0?cid=96d4ef65e35f4943887b0d609f77ec05', 'track_number': 1, 'type': 'track', 'uri': 'spotify:track:2uvcrYDLTIUoqZ3ddg6Oew'}]}\n",
            "{'tracks': [{'album': {'album_type': 'album', 'artists': [{'external_urls': {'spotify': 'https://open.spotify.com/artist/6mdiAmATAx73kdxrNrnlao'}, 'href': 'https://api.spotify.com/v1/artists/6mdiAmATAx73kdxrNrnlao', 'id': '6mdiAmATAx73kdxrNrnlao', 'name': 'Iron Maiden', 'type': 'artist', 'uri': 'spotify:artist:6mdiAmATAx73kdxrNrnlao'}], 'external_urls': {'spotify': 'https://open.spotify.com/album/6iVSpex7UohpwPOYZEYmvm'}, 'href': 'https://api.spotify.com/v1/albums/6iVSpex7UohpwPOYZEYmvm', 'id': '6iVSpex7UohpwPOYZEYmvm', 'images': [{'height': 640, 'url': 'https://i.scdn.co/image/ab67616d0000b273291b0e8f1a74c2bc9f9d3110', 'width': 640}, {'height': 300, 'url': 'https://i.scdn.co/image/ab67616d00001e02291b0e8f1a74c2bc9f9d3110', 'width': 300}, {'height': 64, 'url': 'https://i.scdn.co/image/ab67616d00004851291b0e8f1a74c2bc9f9d3110', 'width': 64}], 'name': 'Piece of Mind (2015 - Remaster)', 'release_date': '1983-05-16', 'release_date_precision': 'day', 'total_tracks': 9, 'type': 'album', 'uri': 'spotify:album:6iVSpex7UohpwPOYZEYmvm'}, 'artists': [{'external_urls': {'spotify': 'https://open.spotify.com/artist/6mdiAmATAx73kdxrNrnlao'}, 'href': 'https://api.spotify.com/v1/artists/6mdiAmATAx73kdxrNrnlao', 'id': '6mdiAmATAx73kdxrNrnlao', 'name': 'Iron Maiden', 'type': 'artist', 'uri': 'spotify:artist:6mdiAmATAx73kdxrNrnlao'}], 'disc_number': 1, 'duration_ms': 252733, 'explicit': False, 'external_ids': {'isrc': 'GBCHB1800032'}, 'external_urls': {'spotify': 'https://open.spotify.com/track/1Ab3hhOw1TJWDgO10vlxNZ'}, 'href': 'https://api.spotify.com/v1/tracks/1Ab3hhOw1TJWDgO10vlxNZ', 'id': '1Ab3hhOw1TJWDgO10vlxNZ', 'is_local': False, 'is_playable': True, 'name': 'The Trooper - 2015 Remaster', 'popularity': 64, 'preview_url': 'https://p.scdn.co/mp3-preview/a373cf851d1635e2cc904d7b83a2dc9eb80dc00e?cid=96d4ef65e35f4943887b0d609f77ec05', 'track_number': 5, 'type': 'track', 'uri': 'spotify:track:1Ab3hhOw1TJWDgO10vlxNZ'}, {'album': {'album_type': 'album', 'artists': [{'external_urls': {'spotify': 'https://open.spotify.com/artist/6mdiAmATAx73kdxrNrnlao'}, 'href': 'https://api.spotify.com/v1/artists/6mdiAmATAx73kdxrNrnlao', 'id': '6mdiAmATAx73kdxrNrnlao', 'name': 'Iron Maiden', 'type': 'artist', 'uri': 'spotify:artist:6mdiAmATAx73kdxrNrnlao'}], 'external_urls': {'spotify': 'https://open.spotify.com/album/33d72N71hl9bXwT4zAcqUy'}, 'href': 'https://api.spotify.com/v1/albums/33d72N71hl9bXwT4zAcqUy', 'id': '33d72N71hl9bXwT4zAcqUy', 'images': [{'height': 640, 'url': 'https://i.scdn.co/image/ab67616d0000b273312f2e71ea2ffd2d6bae1c90', 'width': 640}, {'height': 300, 'url': 'https://i.scdn.co/image/ab67616d00001e02312f2e71ea2ffd2d6bae1c90', 'width': 300}, {'height': 64, 'url': 'https://i.scdn.co/image/ab67616d00004851312f2e71ea2ffd2d6bae1c90', 'width': 64}], 'name': 'The Number of the Beast (2015 - Remaster)', 'release_date': '1982-03-22', 'release_date_precision': 'day', 'total_tracks': 8, 'type': 'album', 'uri': 'spotify:album:33d72N71hl9bXwT4zAcqUy'}, 'artists': [{'external_urls': {'spotify': 'https://open.spotify.com/artist/6mdiAmATAx73kdxrNrnlao'}, 'href': 'https://api.spotify.com/v1/artists/6mdiAmATAx73kdxrNrnlao', 'id': '6mdiAmATAx73kdxrNrnlao', 'name': 'Iron Maiden', 'type': 'artist', 'uri': 'spotify:artist:6mdiAmATAx73kdxrNrnlao'}], 'disc_number': 1, 'duration_ms': 233506, 'explicit': False, 'external_ids': {'isrc': 'GBCHB1800025'}, 'external_urls': {'spotify': 'https://open.spotify.com/track/0sxYYT48UPkmrDx8p4Hnrl'}, 'href': 'https://api.spotify.com/v1/tracks/0sxYYT48UPkmrDx8p4Hnrl', 'id': '0sxYYT48UPkmrDx8p4Hnrl', 'is_local': False, 'is_playable': True, 'name': 'Run to the Hills - 2015 Remaster', 'popularity': 61, 'preview_url': 'https://p.scdn.co/mp3-preview/c315f66924d7e6427784fbda66d1772f3cbfda89?cid=96d4ef65e35f4943887b0d609f77ec05', 'track_number': 6, 'type': 'track', 'uri': 'spotify:track:0sxYYT48UPkmrDx8p4Hnrl'}, {'album': {'album_type': 'album', 'artists': [{'external_urls': {'spotify': 'https://open.spotify.com/artist/6mdiAmATAx73kdxrNrnlao'}, 'href': 'https://api.spotify.com/v1/artists/6mdiAmATAx73kdxrNrnlao', 'id': '6mdiAmATAx73kdxrNrnlao', 'name': 'Iron Maiden', 'type': 'artist', 'uri': 'spotify:artist:6mdiAmATAx73kdxrNrnlao'}], 'external_urls': {'spotify': 'https://open.spotify.com/album/66mnkzELAR3AK13W7Elv4l'}, 'href': 'https://api.spotify.com/v1/albums/66mnkzELAR3AK13W7Elv4l', 'id': '66mnkzELAR3AK13W7Elv4l', 'images': [{'height': 640, 'url': 'https://i.scdn.co/image/ab67616d0000b273c8783655136b2725c5c7f564', 'width': 640}, {'height': 300, 'url': 'https://i.scdn.co/image/ab67616d00001e02c8783655136b2725c5c7f564', 'width': 300}, {'height': 64, 'url': 'https://i.scdn.co/image/ab67616d00004851c8783655136b2725c5c7f564', 'width': 64}], 'name': 'Fear of the Dark (2015 - Remaster)', 'release_date': '1992-05-11', 'release_date_precision': 'day', 'total_tracks': 12, 'type': 'album', 'uri': 'spotify:album:66mnkzELAR3AK13W7Elv4l'}, 'artists': [{'external_urls': {'spotify': 'https://open.spotify.com/artist/6mdiAmATAx73kdxrNrnlao'}, 'href': 'https://api.spotify.com/v1/artists/6mdiAmATAx73kdxrNrnlao', 'id': '6mdiAmATAx73kdxrNrnlao', 'name': 'Iron Maiden', 'type': 'artist', 'uri': 'spotify:artist:6mdiAmATAx73kdxrNrnlao'}], 'disc_number': 1, 'duration_ms': 438120, 'explicit': False, 'external_ids': {'isrc': 'GBCHB1800082'}, 'external_urls': {'spotify': 'https://open.spotify.com/track/0h4rVZcOiSaL9b5mT1A2gq'}, 'href': 'https://api.spotify.com/v1/tracks/0h4rVZcOiSaL9b5mT1A2gq', 'id': '0h4rVZcOiSaL9b5mT1A2gq', 'is_local': False, 'is_playable': True, 'name': 'Fear of the Dark - 2015 Remaster', 'popularity': 55, 'preview_url': 'https://p.scdn.co/mp3-preview/3dfbef8f1bf0394fb693dc7a203314325e9f23db?cid=96d4ef65e35f4943887b0d609f77ec05', 'track_number': 12, 'type': 'track', 'uri': 'spotify:track:0h4rVZcOiSaL9b5mT1A2gq'}, {'album': {'album_type': 'album', 'artists': [{'external_urls': {'spotify': 'https://open.spotify.com/artist/6mdiAmATAx73kdxrNrnlao'}, 'href': 'https://api.spotify.com/v1/artists/6mdiAmATAx73kdxrNrnlao', 'id': '6mdiAmATAx73kdxrNrnlao', 'name': 'Iron Maiden', 'type': 'artist', 'uri': 'spotify:artist:6mdiAmATAx73kdxrNrnlao'}], 'external_urls': {'spotify': 'https://open.spotify.com/album/33d72N71hl9bXwT4zAcqUy'}, 'href': 'https://api.spotify.com/v1/albums/33d72N71hl9bXwT4zAcqUy', 'id': '33d72N71hl9bXwT4zAcqUy', 'images': [{'height': 640, 'url': 'https://i.scdn.co/image/ab67616d0000b273312f2e71ea2ffd2d6bae1c90', 'width': 640}, {'height': 300, 'url': 'https://i.scdn.co/image/ab67616d00001e02312f2e71ea2ffd2d6bae1c90', 'width': 300}, {'height': 64, 'url': 'https://i.scdn.co/image/ab67616d00004851312f2e71ea2ffd2d6bae1c90', 'width': 64}], 'name': 'The Number of the Beast (2015 - Remaster)', 'release_date': '1982-03-22', 'release_date_precision': 'day', 'total_tracks': 8, 'type': 'album', 'uri': 'spotify:album:33d72N71hl9bXwT4zAcqUy'}, 'artists': [{'external_urls': {'spotify': 'https://open.spotify.com/artist/6mdiAmATAx73kdxrNrnlao'}, 'href': 'https://api.spotify.com/v1/artists/6mdiAmATAx73kdxrNrnlao', 'id': '6mdiAmATAx73kdxrNrnlao', 'name': 'Iron Maiden', 'type': 'artist', 'uri': 'spotify:artist:6mdiAmATAx73kdxrNrnlao'}], 'disc_number': 1, 'duration_ms': 290586, 'explicit': False, 'external_ids': {'isrc': 'GBCHB1800024'}, 'external_urls': {'spotify': 'https://open.spotify.com/track/139RwLyp7r8F9ojvhGF5lC'}, 'href': 'https://api.spotify.com/v1/tracks/139RwLyp7r8F9ojvhGF5lC', 'id': '139RwLyp7r8F9ojvhGF5lC', 'is_local': False, 'is_playable': True, 'name': 'The Number of the Beast - 2015 Remaster', 'popularity': 57, 'preview_url': 'https://p.scdn.co/mp3-preview/e5eec14e5f92f1a6156ba6a689131625d504b57b?cid=96d4ef65e35f4943887b0d609f77ec05', 'track_number': 5, 'type': 'track', 'uri': 'spotify:track:139RwLyp7r8F9ojvhGF5lC'}, {'album': {'album_type': 'album', 'artists': [{'external_urls': {'spotify': 'https://open.spotify.com/artist/6mdiAmATAx73kdxrNrnlao'}, 'href': 'https://api.spotify.com/v1/artists/6mdiAmATAx73kdxrNrnlao', 'id': '6mdiAmATAx73kdxrNrnlao', 'name': 'Iron Maiden', 'type': 'artist', 'uri': 'spotify:artist:6mdiAmATAx73kdxrNrnlao'}], 'external_urls': {'spotify': 'https://open.spotify.com/album/33d72N71hl9bXwT4zAcqUy'}, 'href': 'https://api.spotify.com/v1/albums/33d72N71hl9bXwT4zAcqUy', 'id': '33d72N71hl9bXwT4zAcqUy', 'images': [{'height': 640, 'url': 'https://i.scdn.co/image/ab67616d0000b273312f2e71ea2ffd2d6bae1c90', 'width': 640}, {'height': 300, 'url': 'https://i.scdn.co/image/ab67616d00001e02312f2e71ea2ffd2d6bae1c90', 'width': 300}, {'height': 64, 'url': 'https://i.scdn.co/image/ab67616d00004851312f2e71ea2ffd2d6bae1c90', 'width': 64}], 'name': 'The Number of the Beast (2015 - Remaster)', 'release_date': '1982-03-22', 'release_date_precision': 'day', 'total_tracks': 8, 'type': 'album', 'uri': 'spotify:album:33d72N71hl9bXwT4zAcqUy'}, 'artists': [{'external_urls': {'spotify': 'https://open.spotify.com/artist/6mdiAmATAx73kdxrNrnlao'}, 'href': 'https://api.spotify.com/v1/artists/6mdiAmATAx73kdxrNrnlao', 'id': '6mdiAmATAx73kdxrNrnlao', 'name': 'Iron Maiden', 'type': 'artist', 'uri': 'spotify:artist:6mdiAmATAx73kdxrNrnlao'}], 'disc_number': 1, 'duration_ms': 431093, 'explicit': False, 'external_ids': {'isrc': 'GBCHB1800027'}, 'external_urls': {'spotify': 'https://open.spotify.com/track/5KOHd90fkcnS37GkBUjsdW'}, 'href': 'https://api.spotify.com/v1/tracks/5KOHd90fkcnS37GkBUjsdW', 'id': '5KOHd90fkcnS37GkBUjsdW', 'is_local': False, 'is_playable': True, 'name': 'Hallowed Be Thy Name - 2015 Remaster', 'popularity': 56, 'preview_url': 'https://p.scdn.co/mp3-preview/cb55675dd6cbd1bbb2387ce40622fa1a49675277?cid=96d4ef65e35f4943887b0d609f77ec05', 'track_number': 8, 'type': 'track', 'uri': 'spotify:track:5KOHd90fkcnS37GkBUjsdW'}, {'album': {'album_type': 'album', 'artists': [{'external_urls': {'spotify': 'https://open.spotify.com/artist/6mdiAmATAx73kdxrNrnlao'}, 'href': 'https://api.spotify.com/v1/artists/6mdiAmATAx73kdxrNrnlao', 'id': '6mdiAmATAx73kdxrNrnlao', 'name': 'Iron Maiden', 'type': 'artist', 'uri': 'spotify:artist:6mdiAmATAx73kdxrNrnlao'}], 'external_urls': {'spotify': 'https://open.spotify.com/album/2O3sMtk9Zy2RxocOURUFhr'}, 'href': 'https://api.spotify.com/v1/albums/2O3sMtk9Zy2RxocOURUFhr', 'id': '2O3sMtk9Zy2RxocOURUFhr', 'images': [{'height': 640, 'url': 'https://i.scdn.co/image/ab67616d0000b2737313aec4d82754542d602f9e', 'width': 640}, {'height': 300, 'url': 'https://i.scdn.co/image/ab67616d00001e027313aec4d82754542d602f9e', 'width': 300}, {'height': 64, 'url': 'https://i.scdn.co/image/ab67616d000048517313aec4d82754542d602f9e', 'width': 64}], 'name': 'Somewhere in Time (2015 - Remaster)', 'release_date': '1986-09-29', 'release_date_precision': 'day', 'total_tracks': 8, 'type': 'album', 'uri': 'spotify:album:2O3sMtk9Zy2RxocOURUFhr'}, 'artists': [{'external_urls': {'spotify': 'https://open.spotify.com/artist/6mdiAmATAx73kdxrNrnlao'}, 'href': 'https://api.spotify.com/v1/artists/6mdiAmATAx73kdxrNrnlao', 'id': '6mdiAmATAx73kdxrNrnlao', 'name': 'Iron Maiden', 'type': 'artist', 'uri': 'spotify:artist:6mdiAmATAx73kdxrNrnlao'}], 'disc_number': 1, 'duration_ms': 309640, 'explicit': False, 'external_ids': {'isrc': 'GBCHB1800046'}, 'external_urls': {'spotify': 'https://open.spotify.com/track/2V0T2LS0pf2r3EFpOEkZFO'}, 'href': 'https://api.spotify.com/v1/tracks/2V0T2LS0pf2r3EFpOEkZFO', 'id': '2V0T2LS0pf2r3EFpOEkZFO', 'is_local': False, 'is_playable': True, 'name': 'Wasted Years - 2015 Remaster', 'popularity': 56, 'preview_url': 'https://p.scdn.co/mp3-preview/0d657d8c64eecd6b9b495d0a963b499c7faf93c5?cid=96d4ef65e35f4943887b0d609f77ec05', 'track_number': 2, 'type': 'track', 'uri': 'spotify:track:2V0T2LS0pf2r3EFpOEkZFO'}, {'album': {'album_type': 'album', 'artists': [{'external_urls': {'spotify': 'https://open.spotify.com/artist/6mdiAmATAx73kdxrNrnlao'}, 'href': 'https://api.spotify.com/v1/artists/6mdiAmATAx73kdxrNrnlao', 'id': '6mdiAmATAx73kdxrNrnlao', 'name': 'Iron Maiden', 'type': 'artist', 'uri': 'spotify:artist:6mdiAmATAx73kdxrNrnlao'}], 'external_urls': {'spotify': 'https://open.spotify.com/album/2HPWTaRPYl0Iu3lJrI5V2z'}, 'href': 'https://api.spotify.com/v1/albums/2HPWTaRPYl0Iu3lJrI5V2z', 'id': '2HPWTaRPYl0Iu3lJrI5V2z', 'images': [{'height': 640, 'url': 'https://i.scdn.co/image/ab67616d0000b2731d1c06264e831e73c34e1788', 'width': 640}, {'height': 300, 'url': 'https://i.scdn.co/image/ab67616d00001e021d1c06264e831e73c34e1788', 'width': 300}, {'height': 64, 'url': 'https://i.scdn.co/image/ab67616d000048511d1c06264e831e73c34e1788', 'width': 64}], 'name': 'Powerslave (2015 - Remaster)', 'release_date': '1984-09-03', 'release_date_precision': 'day', 'total_tracks': 8, 'type': 'album', 'uri': 'spotify:album:2HPWTaRPYl0Iu3lJrI5V2z'}, 'artists': [{'external_urls': {'spotify': 'https://open.spotify.com/artist/6mdiAmATAx73kdxrNrnlao'}, 'href': 'https://api.spotify.com/v1/artists/6mdiAmATAx73kdxrNrnlao', 'id': '6mdiAmATAx73kdxrNrnlao', 'name': 'Iron Maiden', 'type': 'artist', 'uri': 'spotify:artist:6mdiAmATAx73kdxrNrnlao'}], 'disc_number': 1, 'duration_ms': 363586, 'explicit': False, 'external_ids': {'isrc': 'GBCHB1800038'}, 'external_urls': {'spotify': 'https://open.spotify.com/track/4sAjWbPq6iSI6I0Ovr9CkY'}, 'href': 'https://api.spotify.com/v1/tracks/4sAjWbPq6iSI6I0Ovr9CkY', 'id': '4sAjWbPq6iSI6I0Ovr9CkY', 'is_local': False, 'is_playable': True, 'name': '2 Minutes to Midnight - 2015 Remaster', 'popularity': 56, 'preview_url': 'https://p.scdn.co/mp3-preview/26db09ecb26c0ee9fee06d1cb5e50ce08937859d?cid=96d4ef65e35f4943887b0d609f77ec05', 'track_number': 2, 'type': 'track', 'uri': 'spotify:track:4sAjWbPq6iSI6I0Ovr9CkY'}, {'album': {'album_type': 'album', 'artists': [{'external_urls': {'spotify': 'https://open.spotify.com/artist/6mdiAmATAx73kdxrNrnlao'}, 'href': 'https://api.spotify.com/v1/artists/6mdiAmATAx73kdxrNrnlao', 'id': '6mdiAmATAx73kdxrNrnlao', 'name': 'Iron Maiden', 'type': 'artist', 'uri': 'spotify:artist:6mdiAmATAx73kdxrNrnlao'}], 'external_urls': {'spotify': 'https://open.spotify.com/album/66mnkzELAR3AK13W7Elv4l'}, 'href': 'https://api.spotify.com/v1/albums/66mnkzELAR3AK13W7Elv4l', 'id': '66mnkzELAR3AK13W7Elv4l', 'images': [{'height': 640, 'url': 'https://i.scdn.co/image/ab67616d0000b273c8783655136b2725c5c7f564', 'width': 640}, {'height': 300, 'url': 'https://i.scdn.co/image/ab67616d00001e02c8783655136b2725c5c7f564', 'width': 300}, {'height': 64, 'url': 'https://i.scdn.co/image/ab67616d00004851c8783655136b2725c5c7f564', 'width': 64}], 'name': 'Fear of the Dark (2015 - Remaster)', 'release_date': '1992-05-11', 'release_date_precision': 'day', 'total_tracks': 12, 'type': 'album', 'uri': 'spotify:album:66mnkzELAR3AK13W7Elv4l'}, 'artists': [{'external_urls': {'spotify': 'https://open.spotify.com/artist/6mdiAmATAx73kdxrNrnlao'}, 'href': 'https://api.spotify.com/v1/artists/6mdiAmATAx73kdxrNrnlao', 'id': '6mdiAmATAx73kdxrNrnlao', 'name': 'Iron Maiden', 'type': 'artist', 'uri': 'spotify:artist:6mdiAmATAx73kdxrNrnlao'}], 'disc_number': 1, 'duration_ms': 351026, 'explicit': False, 'external_ids': {'isrc': 'GBCHB1800076'}, 'external_urls': {'spotify': 'https://open.spotify.com/track/3RFys5QHfFNWbAWqpd48Sb'}, 'href': 'https://api.spotify.com/v1/tracks/3RFys5QHfFNWbAWqpd48Sb', 'id': '3RFys5QHfFNWbAWqpd48Sb', 'is_local': False, 'is_playable': True, 'name': 'Wasting Love - 2015 Remaster', 'popularity': 46, 'preview_url': 'https://p.scdn.co/mp3-preview/963ef4d48109cfc1c303365058ab8f9798661b54?cid=96d4ef65e35f4943887b0d609f77ec05', 'track_number': 6, 'type': 'track', 'uri': 'spotify:track:3RFys5QHfFNWbAWqpd48Sb'}, {'album': {'album_type': 'album', 'artists': [{'external_urls': {'spotify': 'https://open.spotify.com/artist/6mdiAmATAx73kdxrNrnlao'}, 'href': 'https://api.spotify.com/v1/artists/6mdiAmATAx73kdxrNrnlao', 'id': '6mdiAmATAx73kdxrNrnlao', 'name': 'Iron Maiden', 'type': 'artist', 'uri': 'spotify:artist:6mdiAmATAx73kdxrNrnlao'}], 'external_urls': {'spotify': 'https://open.spotify.com/album/2HPWTaRPYl0Iu3lJrI5V2z'}, 'href': 'https://api.spotify.com/v1/albums/2HPWTaRPYl0Iu3lJrI5V2z', 'id': '2HPWTaRPYl0Iu3lJrI5V2z', 'images': [{'height': 640, 'url': 'https://i.scdn.co/image/ab67616d0000b2731d1c06264e831e73c34e1788', 'width': 640}, {'height': 300, 'url': 'https://i.scdn.co/image/ab67616d00001e021d1c06264e831e73c34e1788', 'width': 300}, {'height': 64, 'url': 'https://i.scdn.co/image/ab67616d000048511d1c06264e831e73c34e1788', 'width': 64}], 'name': 'Powerslave (2015 - Remaster)', 'release_date': '1984-09-03', 'release_date_precision': 'day', 'total_tracks': 8, 'type': 'album', 'uri': 'spotify:album:2HPWTaRPYl0Iu3lJrI5V2z'}, 'artists': [{'external_urls': {'spotify': 'https://open.spotify.com/artist/6mdiAmATAx73kdxrNrnlao'}, 'href': 'https://api.spotify.com/v1/artists/6mdiAmATAx73kdxrNrnlao', 'id': '6mdiAmATAx73kdxrNrnlao', 'name': 'Iron Maiden', 'type': 'artist', 'uri': 'spotify:artist:6mdiAmATAx73kdxrNrnlao'}], 'disc_number': 1, 'duration_ms': 271906, 'explicit': False, 'external_ids': {'isrc': 'GBCHB1800037'}, 'external_urls': {'spotify': 'https://open.spotify.com/track/6wNF6hphTxhUiAmQG3uzbf'}, 'href': 'https://api.spotify.com/v1/tracks/6wNF6hphTxhUiAmQG3uzbf', 'id': '6wNF6hphTxhUiAmQG3uzbf', 'is_local': False, 'is_playable': True, 'name': 'Aces High - 2015 Remaster', 'popularity': 53, 'preview_url': 'https://p.scdn.co/mp3-preview/96a8ef51969bc202ea1543c46d4061179ef846ae?cid=96d4ef65e35f4943887b0d609f77ec05', 'track_number': 1, 'type': 'track', 'uri': 'spotify:track:6wNF6hphTxhUiAmQG3uzbf'}, {'album': {'album_type': 'album', 'artists': [{'external_urls': {'spotify': 'https://open.spotify.com/artist/6mdiAmATAx73kdxrNrnlao'}, 'href': 'https://api.spotify.com/v1/artists/6mdiAmATAx73kdxrNrnlao', 'id': '6mdiAmATAx73kdxrNrnlao', 'name': 'Iron Maiden', 'type': 'artist', 'uri': 'spotify:artist:6mdiAmATAx73kdxrNrnlao'}], 'external_urls': {'spotify': 'https://open.spotify.com/album/6iVSpex7UohpwPOYZEYmvm'}, 'href': 'https://api.spotify.com/v1/albums/6iVSpex7UohpwPOYZEYmvm', 'id': '6iVSpex7UohpwPOYZEYmvm', 'images': [{'height': 640, 'url': 'https://i.scdn.co/image/ab67616d0000b273291b0e8f1a74c2bc9f9d3110', 'width': 640}, {'height': 300, 'url': 'https://i.scdn.co/image/ab67616d00001e02291b0e8f1a74c2bc9f9d3110', 'width': 300}, {'height': 64, 'url': 'https://i.scdn.co/image/ab67616d00004851291b0e8f1a74c2bc9f9d3110', 'width': 64}], 'name': 'Piece of Mind (2015 - Remaster)', 'release_date': '1983-05-16', 'release_date_precision': 'day', 'total_tracks': 9, 'type': 'album', 'uri': 'spotify:album:6iVSpex7UohpwPOYZEYmvm'}, 'artists': [{'external_urls': {'spotify': 'https://open.spotify.com/artist/6mdiAmATAx73kdxrNrnlao'}, 'href': 'https://api.spotify.com/v1/artists/6mdiAmATAx73kdxrNrnlao', 'id': '6mdiAmATAx73kdxrNrnlao', 'name': 'Iron Maiden', 'type': 'artist', 'uri': 'spotify:artist:6mdiAmATAx73kdxrNrnlao'}], 'disc_number': 1, 'duration_ms': 230760, 'explicit': False, 'external_ids': {'isrc': 'GBCHB1800030'}, 'external_urls': {'spotify': 'https://open.spotify.com/track/5orSFpEyBcj8ogpOqI4yOQ'}, 'href': 'https://api.spotify.com/v1/tracks/5orSFpEyBcj8ogpOqI4yOQ', 'id': '5orSFpEyBcj8ogpOqI4yOQ', 'is_local': False, 'is_playable': True, 'name': 'Flight of Icarus - 2015 Remaster', 'popularity': 52, 'preview_url': 'https://p.scdn.co/mp3-preview/dc9f0658417675c8dc2229604606faf9e6df750a?cid=96d4ef65e35f4943887b0d609f77ec05', 'track_number': 3, 'type': 'track', 'uri': 'spotify:track:5orSFpEyBcj8ogpOqI4yOQ'}]}\n"
          ]
        }
      ],
      "source": [
        "import spotipy\n",
        "from spotipy.oauth2 import SpotifyClientCredentials\n",
        "\n",
        "auth_manager = SpotifyClientCredentials(\"96d4ef65e35f4943887b0d609f77ec05\", \"a51ead590a984d5a8513c0e344bb7400\")\n",
        "sp = spotipy.Spotify(auth_manager=auth_manager)\n",
        "try:\n",
        "  playlists = sp.user_playlists('12140909634')\n",
        "  while playlists:\n",
        "      for i, playlist in enumerate(playlists['items']):\n",
        "          print(\"%4d %s %s\" % (i + 1 + playlists['offset'], playlist['uri'],  playlist['name']))\n",
        "      if playlists['next']:\n",
        "          playlists = sp.next(playlists)\n",
        "      else:\n",
        "          playlists = None\n",
        "except:\n",
        "  print(\"idfk what happened, but it's probably a wrong UID\")\n",
        "\n",
        "inspectionPlaylistTracks = sp.playlist_tracks(\"3a6VpBua7fW7QP3B1sYKrI\", additional_types=('track', ))\n",
        "#print(inspectionPlaylistTracks)\n",
        "songlist = []\n",
        "for track in inspectionPlaylistTracks['items']:\n",
        "  #print(track['track']['name'])\n",
        "  try:\n",
        "    specificTrack = track['track']\n",
        "    specificArtist = specificTrack['album']['artists'][0]\n",
        "    #print(specificTrack['name'])\n",
        "    listitem = [specificTrack['name'],specificArtist['name'], specificArtist['id']]\n",
        "    songlist.append(listitem)\n",
        "  except:\n",
        "    print(\"Something broke\")\n",
        "print(songlist)\n",
        "songDF = sc.parallelize(songlist).toDF()#.groupBy('_3').count().orderBy(['count'], ascending=[False])\n",
        "songDF.show()\n",
        "top5 = songlist[0:5]\n",
        "print(top5)\n",
        "for song in top5:\n",
        "  topSong= sp.artist_top_tracks(song[2])\n",
        "  print(topSong)\n",
        "  \"\"\"\n",
        "  for topSong in topSongs:\n",
        "    print(topSong)\n",
        "    specificTrack = topSong[0]\n",
        "    print(specificTrack[0])\n",
        "    \n",
        "    specificArtist = specificTrack['album']\n",
        "    topSongList = [specificTrack['name'],specificArtist['name']]\n",
        "\"\"\""
      ]
    },
    {
      "cell_type": "code",
      "execution_count": null,
      "metadata": {
        "id": "qE0PhA5hSoRU",
        "colab": {
          "base_uri": "https://localhost:8080/"
        },
        "outputId": "db6bd6bd-f38b-456e-df54-070b37447cb5"
      },
      "outputs": [
        {
          "output_type": "stream",
          "name": "stdout",
          "text": [
            "{'tracks': [{'album': {'album_type': 'album', 'artists': [{'external_urls': {'spotify': 'https://open.spotify.com/artist/6XYvaoDGE0VmRt83Jss9Sn'}, 'href': 'https://api.spotify.com/v1/artists/6XYvaoDGE0VmRt83Jss9Sn', 'id': '6XYvaoDGE0VmRt83Jss9Sn', 'name': 'King Gizzard & The Lizard Wizard', 'type': 'artist', 'uri': 'spotify:artist:6XYvaoDGE0VmRt83Jss9Sn'}], 'external_urls': {'spotify': 'https://open.spotify.com/album/4tuqA7qbVsPukqsYPPrcF7'}, 'href': 'https://api.spotify.com/v1/albums/4tuqA7qbVsPukqsYPPrcF7', 'id': '4tuqA7qbVsPukqsYPPrcF7', 'images': [{'height': 640, 'url': 'https://i.scdn.co/image/ab67616d0000b27380c6db47e75d58e25b72f2ca', 'width': 640}, {'height': 300, 'url': 'https://i.scdn.co/image/ab67616d00001e0280c6db47e75d58e25b72f2ca', 'width': 300}, {'height': 64, 'url': 'https://i.scdn.co/image/ab67616d0000485180c6db47e75d58e25b72f2ca', 'width': 64}], 'name': 'Omnium Gatherum', 'release_date': '2022-04-22', 'release_date_precision': 'day', 'total_tracks': 16, 'type': 'album', 'uri': 'spotify:album:4tuqA7qbVsPukqsYPPrcF7'}, 'artists': [{'external_urls': {'spotify': 'https://open.spotify.com/artist/6XYvaoDGE0VmRt83Jss9Sn'}, 'href': 'https://api.spotify.com/v1/artists/6XYvaoDGE0VmRt83Jss9Sn', 'id': '6XYvaoDGE0VmRt83Jss9Sn', 'name': 'King Gizzard & The Lizard Wizard', 'type': 'artist', 'uri': 'spotify:artist:6XYvaoDGE0VmRt83Jss9Sn'}], 'disc_number': 1, 'duration_ms': 192960, 'explicit': True, 'external_ids': {'isrc': 'AU2ZC2100204'}, 'external_urls': {'spotify': 'https://open.spotify.com/track/1d7amkMBfY5jwDaVYpWKUv'}, 'href': 'https://api.spotify.com/v1/tracks/1d7amkMBfY5jwDaVYpWKUv', 'id': '1d7amkMBfY5jwDaVYpWKUv', 'is_local': False, 'is_playable': True, 'name': 'Kepler-22b', 'popularity': 57, 'preview_url': None, 'track_number': 3, 'type': 'track', 'uri': 'spotify:track:1d7amkMBfY5jwDaVYpWKUv'}, {'album': {'album_type': 'album', 'artists': [{'external_urls': {'spotify': 'https://open.spotify.com/artist/6XYvaoDGE0VmRt83Jss9Sn'}, 'href': 'https://api.spotify.com/v1/artists/6XYvaoDGE0VmRt83Jss9Sn', 'id': '6XYvaoDGE0VmRt83Jss9Sn', 'name': 'King Gizzard & The Lizard Wizard', 'type': 'artist', 'uri': 'spotify:artist:6XYvaoDGE0VmRt83Jss9Sn'}], 'external_urls': {'spotify': 'https://open.spotify.com/album/0R1kilmC4LO7BW0cmTaGtN'}, 'href': 'https://api.spotify.com/v1/albums/0R1kilmC4LO7BW0cmTaGtN', 'id': '0R1kilmC4LO7BW0cmTaGtN', 'images': [{'height': 640, 'url': 'https://i.scdn.co/image/ab67616d0000b273281a61dda13ddc8c57231ea1', 'width': 640}, {'height': 300, 'url': 'https://i.scdn.co/image/ab67616d00001e02281a61dda13ddc8c57231ea1', 'width': 300}, {'height': 64, 'url': 'https://i.scdn.co/image/ab67616d00004851281a61dda13ddc8c57231ea1', 'width': 64}], 'name': 'Oddments', 'release_date': '2014-03-07', 'release_date_precision': 'day', 'total_tracks': 12, 'type': 'album', 'uri': 'spotify:album:0R1kilmC4LO7BW0cmTaGtN'}, 'artists': [{'external_urls': {'spotify': 'https://open.spotify.com/artist/6XYvaoDGE0VmRt83Jss9Sn'}, 'href': 'https://api.spotify.com/v1/artists/6XYvaoDGE0VmRt83Jss9Sn', 'id': '6XYvaoDGE0VmRt83Jss9Sn', 'name': 'King Gizzard & The Lizard Wizard', 'type': 'artist', 'uri': 'spotify:artist:6XYvaoDGE0VmRt83Jss9Sn'}], 'disc_number': 1, 'duration_ms': 276903, 'explicit': False, 'external_ids': {'isrc': 'AUDJ01401042'}, 'external_urls': {'spotify': 'https://open.spotify.com/track/1OobBUpmfTjpUgxjbxMIes'}, 'href': 'https://api.spotify.com/v1/tracks/1OobBUpmfTjpUgxjbxMIes', 'id': '1OobBUpmfTjpUgxjbxMIes', 'is_local': False, 'is_playable': True, 'name': 'Work This Time', 'popularity': 57, 'preview_url': 'https://p.scdn.co/mp3-preview/062db002c640a9e5a2a6c484ec7711027f2942f4?cid=96d4ef65e35f4943887b0d609f77ec05', 'track_number': 5, 'type': 'track', 'uri': 'spotify:track:1OobBUpmfTjpUgxjbxMIes'}, {'album': {'album_type': 'album', 'artists': [{'external_urls': {'spotify': 'https://open.spotify.com/artist/6XYvaoDGE0VmRt83Jss9Sn'}, 'href': 'https://api.spotify.com/v1/artists/6XYvaoDGE0VmRt83Jss9Sn', 'id': '6XYvaoDGE0VmRt83Jss9Sn', 'name': 'King Gizzard & The Lizard Wizard', 'type': 'artist', 'uri': 'spotify:artist:6XYvaoDGE0VmRt83Jss9Sn'}], 'external_urls': {'spotify': 'https://open.spotify.com/album/2nPbslvl01lfELsFHTKp0s'}, 'href': 'https://api.spotify.com/v1/albums/2nPbslvl01lfELsFHTKp0s', 'id': '2nPbslvl01lfELsFHTKp0s', 'images': [{'height': 640, 'url': 'https://i.scdn.co/image/ab67616d0000b273d29b9ead409a2ce8833831a1', 'width': 640}, {'height': 300, 'url': 'https://i.scdn.co/image/ab67616d00001e02d29b9ead409a2ce8833831a1', 'width': 300}, {'height': 64, 'url': 'https://i.scdn.co/image/ab67616d00004851d29b9ead409a2ce8833831a1', 'width': 64}], 'name': 'Ice, Death, Planets, Lungs, Mushrooms And Lava', 'release_date': '2022-10-07', 'release_date_precision': 'day', 'total_tracks': 7, 'type': 'album', 'uri': 'spotify:album:2nPbslvl01lfELsFHTKp0s'}, 'artists': [{'external_urls': {'spotify': 'https://open.spotify.com/artist/6XYvaoDGE0VmRt83Jss9Sn'}, 'href': 'https://api.spotify.com/v1/artists/6XYvaoDGE0VmRt83Jss9Sn', 'id': '6XYvaoDGE0VmRt83Jss9Sn', 'name': 'King Gizzard & The Lizard Wizard', 'type': 'artist', 'uri': 'spotify:artist:6XYvaoDGE0VmRt83Jss9Sn'}], 'disc_number': 1, 'duration_ms': 544517, 'explicit': False, 'external_ids': {'isrc': 'AU2ZC2200022'}, 'external_urls': {'spotify': 'https://open.spotify.com/track/2GfQhXyoUXYTkMHDXJhCU5'}, 'href': 'https://api.spotify.com/v1/tracks/2GfQhXyoUXYTkMHDXJhCU5', 'id': '2GfQhXyoUXYTkMHDXJhCU5', 'is_local': False, 'is_playable': True, 'name': 'Iron Lung', 'popularity': 56, 'preview_url': None, 'track_number': 6, 'type': 'track', 'uri': 'spotify:track:2GfQhXyoUXYTkMHDXJhCU5'}, {'album': {'album_type': 'album', 'artists': [{'external_urls': {'spotify': 'https://open.spotify.com/artist/6XYvaoDGE0VmRt83Jss9Sn'}, 'href': 'https://api.spotify.com/v1/artists/6XYvaoDGE0VmRt83Jss9Sn', 'id': '6XYvaoDGE0VmRt83Jss9Sn', 'name': 'King Gizzard & The Lizard Wizard', 'type': 'artist', 'uri': 'spotify:artist:6XYvaoDGE0VmRt83Jss9Sn'}], 'external_urls': {'spotify': 'https://open.spotify.com/album/05ag5ukffFozEnXGOeuTTD'}, 'href': 'https://api.spotify.com/v1/albums/05ag5ukffFozEnXGOeuTTD', 'id': '05ag5ukffFozEnXGOeuTTD', 'images': [{'height': 640, 'url': 'https://i.scdn.co/image/ab67616d0000b2737bc7f6bf9c5a3cd8bf30836f', 'width': 640}, {'height': 300, 'url': 'https://i.scdn.co/image/ab67616d00001e027bc7f6bf9c5a3cd8bf30836f', 'width': 300}, {'height': 64, 'url': 'https://i.scdn.co/image/ab67616d000048517bc7f6bf9c5a3cd8bf30836f', 'width': 64}], 'name': 'Changes', 'release_date': '2022-10-28', 'release_date_precision': 'day', 'total_tracks': 7, 'type': 'album', 'uri': 'spotify:album:05ag5ukffFozEnXGOeuTTD'}, 'artists': [{'external_urls': {'spotify': 'https://open.spotify.com/artist/6XYvaoDGE0VmRt83Jss9Sn'}, 'href': 'https://api.spotify.com/v1/artists/6XYvaoDGE0VmRt83Jss9Sn', 'id': '6XYvaoDGE0VmRt83Jss9Sn', 'name': 'King Gizzard & The Lizard Wizard', 'type': 'artist', 'uri': 'spotify:artist:6XYvaoDGE0VmRt83Jss9Sn'}], 'disc_number': 1, 'duration_ms': 296980, 'explicit': False, 'external_ids': {'isrc': 'AU2ZC2200030'}, 'external_urls': {'spotify': 'https://open.spotify.com/track/6P7FJBspEtLcqjzltUv74y'}, 'href': 'https://api.spotify.com/v1/tracks/6P7FJBspEtLcqjzltUv74y', 'id': '6P7FJBspEtLcqjzltUv74y', 'is_local': False, 'is_playable': True, 'name': 'Gondii', 'popularity': 56, 'preview_url': None, 'track_number': 5, 'type': 'track', 'uri': 'spotify:track:6P7FJBspEtLcqjzltUv74y'}, {'album': {'album_type': 'album', 'artists': [{'external_urls': {'spotify': 'https://open.spotify.com/artist/6XYvaoDGE0VmRt83Jss9Sn'}, 'href': 'https://api.spotify.com/v1/artists/6XYvaoDGE0VmRt83Jss9Sn', 'id': '6XYvaoDGE0VmRt83Jss9Sn', 'name': 'King Gizzard & The Lizard Wizard', 'type': 'artist', 'uri': 'spotify:artist:6XYvaoDGE0VmRt83Jss9Sn'}], 'external_urls': {'spotify': 'https://open.spotify.com/album/4tuqA7qbVsPukqsYPPrcF7'}, 'href': 'https://api.spotify.com/v1/albums/4tuqA7qbVsPukqsYPPrcF7', 'id': '4tuqA7qbVsPukqsYPPrcF7', 'images': [{'height': 640, 'url': 'https://i.scdn.co/image/ab67616d0000b27380c6db47e75d58e25b72f2ca', 'width': 640}, {'height': 300, 'url': 'https://i.scdn.co/image/ab67616d00001e0280c6db47e75d58e25b72f2ca', 'width': 300}, {'height': 64, 'url': 'https://i.scdn.co/image/ab67616d0000485180c6db47e75d58e25b72f2ca', 'width': 64}], 'name': 'Omnium Gatherum', 'release_date': '2022-04-22', 'release_date_precision': 'day', 'total_tracks': 16, 'type': 'album', 'uri': 'spotify:album:4tuqA7qbVsPukqsYPPrcF7'}, 'artists': [{'external_urls': {'spotify': 'https://open.spotify.com/artist/6XYvaoDGE0VmRt83Jss9Sn'}, 'href': 'https://api.spotify.com/v1/artists/6XYvaoDGE0VmRt83Jss9Sn', 'id': '6XYvaoDGE0VmRt83Jss9Sn', 'name': 'King Gizzard & The Lizard Wizard', 'type': 'artist', 'uri': 'spotify:artist:6XYvaoDGE0VmRt83Jss9Sn'}], 'disc_number': 1, 'duration_ms': 364599, 'explicit': False, 'external_ids': {'isrc': 'AU2ZC2100203'}, 'external_urls': {'spotify': 'https://open.spotify.com/track/23azGRczkSa6JF9JKKiBh2'}, 'href': 'https://api.spotify.com/v1/tracks/23azGRczkSa6JF9JKKiBh2', 'id': '23azGRczkSa6JF9JKKiBh2', 'is_local': False, 'is_playable': True, 'name': 'Magenta Mountain', 'popularity': 56, 'preview_url': None, 'track_number': 2, 'type': 'track', 'uri': 'spotify:track:23azGRczkSa6JF9JKKiBh2'}, {'album': {'album_type': 'album', 'artists': [{'external_urls': {'spotify': 'https://open.spotify.com/artist/6XYvaoDGE0VmRt83Jss9Sn'}, 'href': 'https://api.spotify.com/v1/artists/6XYvaoDGE0VmRt83Jss9Sn', 'id': '6XYvaoDGE0VmRt83Jss9Sn', 'name': 'King Gizzard & The Lizard Wizard', 'type': 'artist', 'uri': 'spotify:artist:6XYvaoDGE0VmRt83Jss9Sn'}], 'external_urls': {'spotify': 'https://open.spotify.com/album/05ag5ukffFozEnXGOeuTTD'}, 'href': 'https://api.spotify.com/v1/albums/05ag5ukffFozEnXGOeuTTD', 'id': '05ag5ukffFozEnXGOeuTTD', 'images': [{'height': 640, 'url': 'https://i.scdn.co/image/ab67616d0000b2737bc7f6bf9c5a3cd8bf30836f', 'width': 640}, {'height': 300, 'url': 'https://i.scdn.co/image/ab67616d00001e027bc7f6bf9c5a3cd8bf30836f', 'width': 300}, {'height': 64, 'url': 'https://i.scdn.co/image/ab67616d000048517bc7f6bf9c5a3cd8bf30836f', 'width': 64}], 'name': 'Changes', 'release_date': '2022-10-28', 'release_date_precision': 'day', 'total_tracks': 7, 'type': 'album', 'uri': 'spotify:album:05ag5ukffFozEnXGOeuTTD'}, 'artists': [{'external_urls': {'spotify': 'https://open.spotify.com/artist/6XYvaoDGE0VmRt83Jss9Sn'}, 'href': 'https://api.spotify.com/v1/artists/6XYvaoDGE0VmRt83Jss9Sn', 'id': '6XYvaoDGE0VmRt83Jss9Sn', 'name': 'King Gizzard & The Lizard Wizard', 'type': 'artist', 'uri': 'spotify:artist:6XYvaoDGE0VmRt83Jss9Sn'}], 'disc_number': 1, 'duration_ms': 196348, 'explicit': False, 'external_ids': {'isrc': 'AU2ZC2200027'}, 'external_urls': {'spotify': 'https://open.spotify.com/track/6SYxCsqjVaOhEOIuKTfnJ0'}, 'href': 'https://api.spotify.com/v1/tracks/6SYxCsqjVaOhEOIuKTfnJ0', 'id': '6SYxCsqjVaOhEOIuKTfnJ0', 'is_local': False, 'is_playable': True, 'name': \"Hate Dancin'\", 'popularity': 55, 'preview_url': None, 'track_number': 2, 'type': 'track', 'uri': 'spotify:track:6SYxCsqjVaOhEOIuKTfnJ0'}, {'album': {'album_type': 'album', 'artists': [{'external_urls': {'spotify': 'https://open.spotify.com/artist/6XYvaoDGE0VmRt83Jss9Sn'}, 'href': 'https://api.spotify.com/v1/artists/6XYvaoDGE0VmRt83Jss9Sn', 'id': '6XYvaoDGE0VmRt83Jss9Sn', 'name': 'King Gizzard & The Lizard Wizard', 'type': 'artist', 'uri': 'spotify:artist:6XYvaoDGE0VmRt83Jss9Sn'}], 'external_urls': {'spotify': 'https://open.spotify.com/album/1rb4cp4F59Tk1UOPHuP3H0'}, 'href': 'https://api.spotify.com/v1/albums/1rb4cp4F59Tk1UOPHuP3H0', 'id': '1rb4cp4F59Tk1UOPHuP3H0', 'images': [{'height': 640, 'url': 'https://i.scdn.co/image/ab67616d0000b2731f631e15738459f688e78166', 'width': 640}, {'height': 300, 'url': 'https://i.scdn.co/image/ab67616d00001e021f631e15738459f688e78166', 'width': 300}, {'height': 64, 'url': 'https://i.scdn.co/image/ab67616d000048511f631e15738459f688e78166', 'width': 64}], 'name': \"I'm In Your Mind Fuzz\", 'release_date': '2014-10-31', 'release_date_precision': 'day', 'total_tracks': 10, 'type': 'album', 'uri': 'spotify:album:1rb4cp4F59Tk1UOPHuP3H0'}, 'artists': [{'external_urls': {'spotify': 'https://open.spotify.com/artist/6XYvaoDGE0VmRt83Jss9Sn'}, 'href': 'https://api.spotify.com/v1/artists/6XYvaoDGE0VmRt83Jss9Sn', 'id': '6XYvaoDGE0VmRt83Jss9Sn', 'name': 'King Gizzard & The Lizard Wizard', 'type': 'artist', 'uri': 'spotify:artist:6XYvaoDGE0VmRt83Jss9Sn'}], 'disc_number': 1, 'duration_ms': 174563, 'explicit': False, 'external_ids': {'isrc': 'AUDJ01401129'}, 'external_urls': {'spotify': 'https://open.spotify.com/track/3jww6jMhelPsHnXO7Bar9v'}, 'href': 'https://api.spotify.com/v1/tracks/3jww6jMhelPsHnXO7Bar9v', 'id': '3jww6jMhelPsHnXO7Bar9v', 'is_local': False, 'is_playable': True, 'name': 'Slow Jam 1', 'popularity': 55, 'preview_url': None, 'track_number': 8, 'type': 'track', 'uri': 'spotify:track:3jww6jMhelPsHnXO7Bar9v'}, {'album': {'album_type': 'album', 'artists': [{'external_urls': {'spotify': 'https://open.spotify.com/artist/6XYvaoDGE0VmRt83Jss9Sn'}, 'href': 'https://api.spotify.com/v1/artists/6XYvaoDGE0VmRt83Jss9Sn', 'id': '6XYvaoDGE0VmRt83Jss9Sn', 'name': 'King Gizzard & The Lizard Wizard', 'type': 'artist', 'uri': 'spotify:artist:6XYvaoDGE0VmRt83Jss9Sn'}], 'external_urls': {'spotify': 'https://open.spotify.com/album/05ag5ukffFozEnXGOeuTTD'}, 'href': 'https://api.spotify.com/v1/albums/05ag5ukffFozEnXGOeuTTD', 'id': '05ag5ukffFozEnXGOeuTTD', 'images': [{'height': 640, 'url': 'https://i.scdn.co/image/ab67616d0000b2737bc7f6bf9c5a3cd8bf30836f', 'width': 640}, {'height': 300, 'url': 'https://i.scdn.co/image/ab67616d00001e027bc7f6bf9c5a3cd8bf30836f', 'width': 300}, {'height': 64, 'url': 'https://i.scdn.co/image/ab67616d000048517bc7f6bf9c5a3cd8bf30836f', 'width': 64}], 'name': 'Changes', 'release_date': '2022-10-28', 'release_date_precision': 'day', 'total_tracks': 7, 'type': 'album', 'uri': 'spotify:album:05ag5ukffFozEnXGOeuTTD'}, 'artists': [{'external_urls': {'spotify': 'https://open.spotify.com/artist/6XYvaoDGE0VmRt83Jss9Sn'}, 'href': 'https://api.spotify.com/v1/artists/6XYvaoDGE0VmRt83Jss9Sn', 'id': '6XYvaoDGE0VmRt83Jss9Sn', 'name': 'King Gizzard & The Lizard Wizard', 'type': 'artist', 'uri': 'spotify:artist:6XYvaoDGE0VmRt83Jss9Sn'}], 'disc_number': 1, 'duration_ms': 783390, 'explicit': False, 'external_ids': {'isrc': 'AU2ZC2200026'}, 'external_urls': {'spotify': 'https://open.spotify.com/track/21NZOJOaFxeYEcKQbgDgtW'}, 'href': 'https://api.spotify.com/v1/tracks/21NZOJOaFxeYEcKQbgDgtW', 'id': '21NZOJOaFxeYEcKQbgDgtW', 'is_local': False, 'is_playable': True, 'name': 'Change', 'popularity': 55, 'preview_url': None, 'track_number': 1, 'type': 'track', 'uri': 'spotify:track:21NZOJOaFxeYEcKQbgDgtW'}, {'album': {'album_type': 'album', 'artists': [{'external_urls': {'spotify': 'https://open.spotify.com/artist/6XYvaoDGE0VmRt83Jss9Sn'}, 'href': 'https://api.spotify.com/v1/artists/6XYvaoDGE0VmRt83Jss9Sn', 'id': '6XYvaoDGE0VmRt83Jss9Sn', 'name': 'King Gizzard & The Lizard Wizard', 'type': 'artist', 'uri': 'spotify:artist:6XYvaoDGE0VmRt83Jss9Sn'}], 'external_urls': {'spotify': 'https://open.spotify.com/album/2nPbslvl01lfELsFHTKp0s'}, 'href': 'https://api.spotify.com/v1/albums/2nPbslvl01lfELsFHTKp0s', 'id': '2nPbslvl01lfELsFHTKp0s', 'images': [{'height': 640, 'url': 'https://i.scdn.co/image/ab67616d0000b273d29b9ead409a2ce8833831a1', 'width': 640}, {'height': 300, 'url': 'https://i.scdn.co/image/ab67616d00001e02d29b9ead409a2ce8833831a1', 'width': 300}, {'height': 64, 'url': 'https://i.scdn.co/image/ab67616d00004851d29b9ead409a2ce8833831a1', 'width': 64}], 'name': 'Ice, Death, Planets, Lungs, Mushrooms And Lava', 'release_date': '2022-10-07', 'release_date_precision': 'day', 'total_tracks': 7, 'type': 'album', 'uri': 'spotify:album:2nPbslvl01lfELsFHTKp0s'}, 'artists': [{'external_urls': {'spotify': 'https://open.spotify.com/artist/6XYvaoDGE0VmRt83Jss9Sn'}, 'href': 'https://api.spotify.com/v1/artists/6XYvaoDGE0VmRt83Jss9Sn', 'id': '6XYvaoDGE0VmRt83Jss9Sn', 'name': 'King Gizzard & The Lizard Wizard', 'type': 'artist', 'uri': 'spotify:artist:6XYvaoDGE0VmRt83Jss9Sn'}], 'disc_number': 1, 'duration_ms': 615939, 'explicit': False, 'external_ids': {'isrc': 'AU2ZC2200018'}, 'external_urls': {'spotify': 'https://open.spotify.com/track/36XAknfUMQYgAPfIJkTed0'}, 'href': 'https://api.spotify.com/v1/tracks/36XAknfUMQYgAPfIJkTed0', 'id': '36XAknfUMQYgAPfIJkTed0', 'is_local': False, 'is_playable': True, 'name': 'Ice V', 'popularity': 55, 'preview_url': None, 'track_number': 2, 'type': 'track', 'uri': 'spotify:track:36XAknfUMQYgAPfIJkTed0'}, {'album': {'album_type': 'album', 'artists': [{'external_urls': {'spotify': 'https://open.spotify.com/artist/6XYvaoDGE0VmRt83Jss9Sn'}, 'href': 'https://api.spotify.com/v1/artists/6XYvaoDGE0VmRt83Jss9Sn', 'id': '6XYvaoDGE0VmRt83Jss9Sn', 'name': 'King Gizzard & The Lizard Wizard', 'type': 'artist', 'uri': 'spotify:artist:6XYvaoDGE0VmRt83Jss9Sn'}], 'external_urls': {'spotify': 'https://open.spotify.com/album/2I0LPpmyvAwnXvCuBf3Pcy'}, 'href': 'https://api.spotify.com/v1/albums/2I0LPpmyvAwnXvCuBf3Pcy', 'id': '2I0LPpmyvAwnXvCuBf3Pcy', 'images': [{'height': 640, 'url': 'https://i.scdn.co/image/ab67616d0000b273f50080f094264011260c3bbb', 'width': 640}, {'height': 300, 'url': 'https://i.scdn.co/image/ab67616d00001e02f50080f094264011260c3bbb', 'width': 300}, {'height': 64, 'url': 'https://i.scdn.co/image/ab67616d00004851f50080f094264011260c3bbb', 'width': 64}], 'name': 'Butterfly 3000', 'release_date': '2021-06-11', 'release_date_precision': 'day', 'total_tracks': 10, 'type': 'album', 'uri': 'spotify:album:2I0LPpmyvAwnXvCuBf3Pcy'}, 'artists': [{'external_urls': {'spotify': 'https://open.spotify.com/artist/6XYvaoDGE0VmRt83Jss9Sn'}, 'href': 'https://api.spotify.com/v1/artists/6XYvaoDGE0VmRt83Jss9Sn', 'id': '6XYvaoDGE0VmRt83Jss9Sn', 'name': 'King Gizzard & The Lizard Wizard', 'type': 'artist', 'uri': 'spotify:artist:6XYvaoDGE0VmRt83Jss9Sn'}], 'disc_number': 1, 'duration_ms': 240680, 'explicit': False, 'external_ids': {'isrc': 'AU2ZC2000053'}, 'external_urls': {'spotify': 'https://open.spotify.com/track/6HlWKkzNE1WP67OGqtGeBW'}, 'href': 'https://api.spotify.com/v1/tracks/6HlWKkzNE1WP67OGqtGeBW', 'id': '6HlWKkzNE1WP67OGqtGeBW', 'is_local': False, 'is_playable': True, 'name': 'Shanghai', 'popularity': 54, 'preview_url': None, 'track_number': 2, 'type': 'track', 'uri': 'spotify:track:6HlWKkzNE1WP67OGqtGeBW'}]}\n",
            "Kepler-22b\n",
            "Work This Time\n",
            "Iron Lung\n",
            "Gondii\n",
            "Magenta Mountain\n",
            "Hate Dancin'\n",
            "Slow Jam 1\n",
            "Change\n",
            "Ice V\n",
            "Shanghai\n"
          ]
        }
      ],
      "source": [
        "\"\"\"\n",
        "This section is the beginning of the individual section of this final\n",
        "Author: Eric Argenio\n",
        "Date: 12/12/22\n",
        "\"\"\"\n",
        "\n",
        "#We'll start the recommendation by fetching some top songs from an artist we want to have more presence in our playlist. In this case, we'll start with King Gizzard\n",
        "gizzardURL = \"https://open.spotify.com/artist/6XYvaoDGE0VmRt83Jss9Sn?si=cMaz44BzT5CSVsU3RWMtdg\"\n",
        "gizzardTracks = sp.artist_top_tracks(gizzardURL)\n",
        "print(gizzardTracks)\n",
        "for track in gizzardTracks['tracks'][:10]:\n",
        "    print(track['name'])\n",
        "  #Spotify only allows us to get the top 10 tracks like this. Fortunately, each of these items comes with their URI. We will use this for the next step in our recommendations "
      ]
    },
    {
      "cell_type": "code",
      "source": [
        "#To make playlist creation easier for the user, we'll add a feature to automatically add items to a user playlist. In this case, we'll use my personal TEST playlist\n",
        "\n",
        "import spotipy.util as util\n",
        "from spotipy.oauth2 import SpotifyClientCredentials\n",
        "\n",
        "playlistURI = \"74iifDQ6WIHVcExHbM0j5w\"\n",
        "#We will also need to compile a list of the songs we want to add. We'll use the tracks from King Gizzard again\n",
        "playlistAdditions = []\n",
        "for track in gizzardTracks['tracks'][:10]:\n",
        "    playlistAdditions.append(track['uri'])\n",
        "\"\"\"\n",
        "This method is what would be used, but requires authentication which will not be put in the source code\n",
        "\n",
        "sp.playlist_add_items(playlistURI, playlistAdditions, position=None)\n",
        "\"\"\"\n",
        "#this method puts in the top 10 tracks by King Gizzard into the playlist\n"
      ],
      "metadata": {
        "colab": {
          "base_uri": "https://localhost:8080/",
          "height": 35
        },
        "id": "qPa_mk6VHWkH",
        "outputId": "41876870-2c76-487a-c4cc-30bf632bd7e4"
      },
      "execution_count": null,
      "outputs": [
        {
          "output_type": "execute_result",
          "data": {
            "text/plain": [
              "'\\nThis method is what would be used, but requires authentication which will not be put in the source code\\n\\nsp.playlist_add_items(playlistURI, playlistAdditions, position=None)\\n'"
            ],
            "application/vnd.google.colaboratory.intrinsic+json": {
              "type": "string"
            }
          },
          "metadata": {},
          "execution_count": 147
        }
      ]
    },
    {
      "cell_type": "code",
      "source": [
        "#in an app, we could potentially ask the user for specific tracks they want added\n",
        "searchResult = sp.search(q=\"Magenta Mountain\", type=\"track\", limit=5)\n",
        "for result in searchResult['tracks']['items']:\n",
        "  print(result['name'] + \" \" + \"By \" + result['album']['artists'][0]['name'])\n",
        "#You can try with the following\n",
        "query = input(\"What song would you like to add?\\n\")\n",
        "searchResult = sp.search(q=query, type=\"track\", limit=5)\n",
        "for result in searchResult['tracks']['items']:\n",
        "  print(result['name'] + \" \" + \"By \" + result['album']['artists'][0]['name'])\n"
      ],
      "metadata": {
        "colab": {
          "base_uri": "https://localhost:8080/"
        },
        "id": "YQaGCylnLB-N",
        "outputId": "aa679c71-9245-409e-8c11-c33c2e383c9c"
      },
      "execution_count": null,
      "outputs": [
        {
          "output_type": "stream",
          "name": "stdout",
          "text": [
            "Magenta Mountain By King Gizzard & The Lizard Wizard\n",
            "Sure And Choice By Magenta Mountain Ducks\n",
            "Magenta By Casiio\n",
            "Magenta Mountains By Deepp C\n",
            "Magenta By Hardanty\n",
            "What song would you like to add?\n",
            "Yung Gravy\n",
            "Betty (Get Money) By Yung Gravy\n",
            "C'est La Vie (with bbno$ & Rich Brian) By Yung Gravy\n",
            "Mr. Clean By Yung Gravy\n",
            "Gravy Train By Yung Gravy\n",
            "oops! By Yung Gravy\n"
          ]
        }
      ]
    },
    {
      "cell_type": "code",
      "source": [],
      "metadata": {
        "id": "YxEi8Yr5bOIT"
      },
      "execution_count": null,
      "outputs": []
    }
  ],
  "metadata": {
    "colab": {
      "provenance": []
    },
    "kernelspec": {
      "display_name": "Python 3 (ipykernel)",
      "language": "python",
      "name": "python3"
    },
    "language_info": {
      "codemirror_mode": {
        "name": "ipython",
        "version": 3
      },
      "file_extension": ".py",
      "mimetype": "text/x-python",
      "name": "python",
      "nbconvert_exporter": "python",
      "pygments_lexer": "ipython3",
      "version": "3.7.0"
    },
    "vscode": {
      "interpreter": {
        "hash": "54a499a2d45287b78a810725eec25034f9c9b355df70572902d7707063f757bc"
      }
    }
  },
  "nbformat": 4,
  "nbformat_minor": 0
}